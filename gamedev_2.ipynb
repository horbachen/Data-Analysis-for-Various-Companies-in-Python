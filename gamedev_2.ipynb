{
 "cells": [
  {
   "cell_type": "code",
   "execution_count": 77,
   "id": "980fb380-b87b-47ab-90f6-51bc423e1889",
   "metadata": {},
   "outputs": [],
   "source": [
    "import pandas  as pd\n",
    "import matplotlib.pyplot as plt\n",
    "import numpy   as np\n",
    "import seaborn as sns \n",
    "\n",
    "plt.style.use('dark_background')"
   ]
  },
  {
   "cell_type": "markdown",
   "id": "3cdfb639-9e82-4bfd-b73e-8e9a46eff69a",
   "metadata": {},
   "source": [
    "Опис завдання Вам потрібно дослідити дані про проходження гравцями рівнів match3-ігри та виконати такі завдання:\n",
    "\n",
    "Завдання 1\n",
    "Запропонувати метрику, що описує складність рівнів, та розрахувати її.\n",
    "\n",
    "Завдання 2\n",
    "За результатами попереднього завдання розділити рівні на групи за складністю та зробити висновок про щільність розташування складних рівнів у грі.\n",
    "Завдання 3\n",
    "Розрахувати \"воронку\" проходження рівнів новим користувачем після встановлення гри.\n",
    "Також ми хотіли б отримати від вас коментар щодо виконання тестового завдання. Він не повинен бути дуже великим. Нам цікаво було б дізнатися:\n",
    "\n",
    "приблизну оцінку часу, який ви витратили виконання завдання;\n",
    "коментарі щодо сформованої метрики (п1): чому дана метрика буде показовою;\n",
    "чи виникали проблеми під час виконання тестового завдання.\n",
    "Вхідні дані – файл plr_smpl_attempts.csv.gz, що містить лог подій за певний проміжок часу за першими 500 рівнями у грі. Файл містить чотири колонки:\n",
    "uid – унікальний id гравця;\n",
    "action - 'completed' для успішної спроби проходження рівня, 'failed' для неуспішної;\n",
    "level — рівень, на якому сталася подія;\n",
    "event_time — event_time/1000 є unix timestamp часу отримання події.\n",
    "\n"
   ]
  },
  {
   "cell_type": "code",
   "execution_count": 250,
   "id": "18eb31a8-9323-4207-8ed2-d8111866c237",
   "metadata": {
    "tags": []
   },
   "outputs": [],
   "source": [
    "df = pd.read_csv('C:/Users/tuf/Downloads/plr_smpl_attempts.csv.gz', sep = ';')"
   ]
  },
  {
   "cell_type": "code",
   "execution_count": null,
   "id": "09e64dfe-bce4-4580-89f4-ac8ad1b0c4d1",
   "metadata": {},
   "outputs": [],
   "source": []
  },
  {
   "cell_type": "markdown",
   "id": "b12f54d5-e416-4394-8e61-567bd811a34e",
   "metadata": {},
   "source": [
    "Друзі, це друга частина нашого вирішення завдання. У цьому розділі я хочу побудувати ще декілька графіків, які будуть актуальні щодо опису ситуації навколо нашої гри. Давайте подивимося, як ми можемо це зробити. У минулому ноутбуці ми фактично рахували ймовірність, а в цій частині ми порахуємо шанси. Це є підвид ймовірності."
   ]
  },
  {
   "cell_type": "markdown",
   "id": "d2e59ebf-8f38-42c5-8b6b-c2deea4f5631",
   "metadata": {},
   "source": [
    "У математиці, шанси (odds) - це ставлення ймовірності (probability) події до ймовірності його неможливості (1 - probability)\n",
    "Якщо ми просто використовуємо твою ідею і робимо 1 – 0.5, отримаємо 0.5. Тобто наше відношення буде 0.5 до 0.5, що дорівнює 1.\n",
    "Це дасть нам правильну відповідь.\n",
    "Таким чином, формула шансів (odds) - це просто інший спосіб уявлення ймовірності події у числовому вигляді,\n",
    "який може бути зручнішим у деяких випадках, особливо у статистичному аналізі.\n",
    "Шанси орла (odds) = 0.5 / (1 – 0.5) = 0.5 / 0.5 = 1\n",
    "Це означає, що шанси випадання орла дорівнюють 1 до 1."
   ]
  },
  {
   "cell_type": "code",
   "execution_count": 302,
   "id": "d7102fba-1e01-4c01-95ae-c2e9d555de1d",
   "metadata": {
    "tags": []
   },
   "outputs": [
    {
     "data": {
      "text/html": [
       "<div>\n",
       "<style scoped>\n",
       "    .dataframe tbody tr th:only-of-type {\n",
       "        vertical-align: middle;\n",
       "    }\n",
       "\n",
       "    .dataframe tbody tr th {\n",
       "        vertical-align: top;\n",
       "    }\n",
       "\n",
       "    .dataframe thead th {\n",
       "        text-align: right;\n",
       "    }\n",
       "</style>\n",
       "<table border=\"1\" class=\"dataframe\">\n",
       "  <thead>\n",
       "    <tr style=\"text-align: right;\">\n",
       "      <th></th>\n",
       "      <th>uid</th>\n",
       "      <th>action</th>\n",
       "      <th>level</th>\n",
       "      <th>event_time</th>\n",
       "    </tr>\n",
       "  </thead>\n",
       "  <tbody>\n",
       "    <tr>\n",
       "      <th>0</th>\n",
       "      <td>elljQ2EySG03MDU0MTE3MTAyMTE3MA</td>\n",
       "      <td>0</td>\n",
       "      <td>113</td>\n",
       "      <td>1512086924640</td>\n",
       "    </tr>\n",
       "    <tr>\n",
       "      <th>1</th>\n",
       "      <td>elljQ2EySG03MDU0MTE3MTAyMTE3MA</td>\n",
       "      <td>0</td>\n",
       "      <td>113</td>\n",
       "      <td>1512086924640</td>\n",
       "    </tr>\n",
       "    <tr>\n",
       "      <th>2</th>\n",
       "      <td>elljQ2EySG03MDU0MTE3MTAyMTE3MA</td>\n",
       "      <td>0</td>\n",
       "      <td>113</td>\n",
       "      <td>1512086924640</td>\n",
       "    </tr>\n",
       "    <tr>\n",
       "      <th>3</th>\n",
       "      <td>elljQ2EySG03MDU0MTE3MTAyMTE3MA</td>\n",
       "      <td>0</td>\n",
       "      <td>113</td>\n",
       "      <td>1512086924640</td>\n",
       "    </tr>\n",
       "    <tr>\n",
       "      <th>4</th>\n",
       "      <td>elljQ2EySG03MDU0MTE3MTAyMTE3MA</td>\n",
       "      <td>0</td>\n",
       "      <td>113</td>\n",
       "      <td>1512086924640</td>\n",
       "    </tr>\n",
       "  </tbody>\n",
       "</table>\n",
       "</div>"
      ],
      "text/plain": [
       "                              uid  action  level     event_time\n",
       "0  elljQ2EySG03MDU0MTE3MTAyMTE3MA       0    113  1512086924640\n",
       "1  elljQ2EySG03MDU0MTE3MTAyMTE3MA       0    113  1512086924640\n",
       "2  elljQ2EySG03MDU0MTE3MTAyMTE3MA       0    113  1512086924640\n",
       "3  elljQ2EySG03MDU0MTE3MTAyMTE3MA       0    113  1512086924640\n",
       "4  elljQ2EySG03MDU0MTE3MTAyMTE3MA       0    113  1512086924640"
      ]
     },
     "execution_count": 302,
     "metadata": {},
     "output_type": "execute_result"
    }
   ],
   "source": [
    "df.head()"
   ]
  },
  {
   "cell_type": "code",
   "execution_count": 303,
   "id": "3510bc86-1477-4508-a38a-37e6b3346bd4",
   "metadata": {
    "tags": []
   },
   "outputs": [],
   "source": [
    "df['action'] = df['action'].replace('failed',0).replace('completed',1)"
   ]
  },
  {
   "cell_type": "markdown",
   "id": "f7960f01-66b7-4266-80a8-1bace0addb28",
   "metadata": {},
   "source": [
    "перемога = 1 "
   ]
  },
  {
   "cell_type": "markdown",
   "id": "83889327-c5b9-4c88-926f-763eb1b8a793",
   "metadata": {
    "tags": []
   },
   "source": [
    "Якщо було 2 поразки та 2 перемоги, то шанс перемоги був би 2/2 = 1 (100%)?\n",
    "\n",
    "np.mean([0,0,1,1]) / (1-np.mean([0,0,1,1]))\n",
    "Шанси один до одного."
   ]
  },
  {
   "cell_type": "markdown",
   "id": "32d8c8d8-3c99-4e72-ab06-9b09a3152702",
   "metadata": {},
   "source": [
    "В цьому розділі ми за перемогу візьмемо не 0, а 1. Та розрахуємо по нашій формулі odds (наші шанси).\n",
    "В статті я прочитав, що \"Складність зазначена у відсотках і ґрунтується на співвідношенні перемог до поразок на даному рівні. Необхідно прив'язати їх до кількості спроб, які гравці витрачають на проходження цього рівня.\""
   ]
  },
  {
   "cell_type": "code",
   "execution_count": 304,
   "id": "76f2ed8f-777f-4b44-aaf5-e3253a43075b",
   "metadata": {
    "tags": []
   },
   "outputs": [],
   "source": [
    "t = df.groupby('level').action.agg(['count','mean']).reset_index()"
   ]
  },
  {
   "cell_type": "code",
   "execution_count": 305,
   "id": "30fe0b84-9083-457b-840a-8324747df44f",
   "metadata": {
    "tags": []
   },
   "outputs": [],
   "source": [
    "t = t.rename(columns = {'count' : 'count_of_users', 'mean':'probability_of_victory'})"
   ]
  },
  {
   "cell_type": "markdown",
   "id": "a512ee4f-11af-4830-8286-16882cfa39c1",
   "metadata": {
    "tags": []
   },
   "source": [
    "Додамо нашу змінну до датасету"
   ]
  },
  {
   "cell_type": "code",
   "execution_count": 306,
   "id": "f47ee63d-0ecc-45c4-af81-cca85e0e2b74",
   "metadata": {
    "tags": []
   },
   "outputs": [],
   "source": [
    "t['odds'] = (t.probability_of_victory) / (1-t.probability_of_victory)"
   ]
  },
  {
   "cell_type": "code",
   "execution_count": 307,
   "id": "47c9fcda-df1a-43fa-8061-3e65983cd115",
   "metadata": {
    "tags": []
   },
   "outputs": [
    {
     "data": {
      "text/html": [
       "<div>\n",
       "<style scoped>\n",
       "    .dataframe tbody tr th:only-of-type {\n",
       "        vertical-align: middle;\n",
       "    }\n",
       "\n",
       "    .dataframe tbody tr th {\n",
       "        vertical-align: top;\n",
       "    }\n",
       "\n",
       "    .dataframe thead th {\n",
       "        text-align: right;\n",
       "    }\n",
       "</style>\n",
       "<table border=\"1\" class=\"dataframe\">\n",
       "  <thead>\n",
       "    <tr style=\"text-align: right;\">\n",
       "      <th></th>\n",
       "      <th>level</th>\n",
       "      <th>count_of_users</th>\n",
       "      <th>probability_of_victory</th>\n",
       "      <th>odds</th>\n",
       "    </tr>\n",
       "  </thead>\n",
       "  <tbody>\n",
       "    <tr>\n",
       "      <th>0</th>\n",
       "      <td>1</td>\n",
       "      <td>25157</td>\n",
       "      <td>0.999324</td>\n",
       "      <td>1478.823529</td>\n",
       "    </tr>\n",
       "    <tr>\n",
       "      <th>1</th>\n",
       "      <td>2</td>\n",
       "      <td>23313</td>\n",
       "      <td>0.962382</td>\n",
       "      <td>25.582668</td>\n",
       "    </tr>\n",
       "    <tr>\n",
       "      <th>2</th>\n",
       "      <td>3</td>\n",
       "      <td>23634</td>\n",
       "      <td>0.917619</td>\n",
       "      <td>11.138675</td>\n",
       "    </tr>\n",
       "    <tr>\n",
       "      <th>3</th>\n",
       "      <td>4</td>\n",
       "      <td>21636</td>\n",
       "      <td>0.985487</td>\n",
       "      <td>67.904459</td>\n",
       "    </tr>\n",
       "    <tr>\n",
       "      <th>4</th>\n",
       "      <td>5</td>\n",
       "      <td>27192</td>\n",
       "      <td>0.763791</td>\n",
       "      <td>3.233536</td>\n",
       "    </tr>\n",
       "  </tbody>\n",
       "</table>\n",
       "</div>"
      ],
      "text/plain": [
       "   level  count_of_users  probability_of_victory         odds\n",
       "0      1           25157                0.999324  1478.823529\n",
       "1      2           23313                0.962382    25.582668\n",
       "2      3           23634                0.917619    11.138675\n",
       "3      4           21636                0.985487    67.904459\n",
       "4      5           27192                0.763791     3.233536"
      ]
     },
     "execution_count": 307,
     "metadata": {},
     "output_type": "execute_result"
    }
   ],
   "source": [
    "t.head()"
   ]
  },
  {
   "cell_type": "markdown",
   "id": "1a419b18-d929-4c0c-bde2-bbd976df5ea1",
   "metadata": {},
   "source": [
    "Середнє, як і в попередній роботі, демонструє, що спочатку йде дуже висока ймовірність, а потім вона в середньому залишається приблизно на одному рівні.\n",
    "\n",
    "З попередніх висновків може випливати, що це може вказувати на якусь закономірність, а не на просто шум у даних. З огляду на великий обсяг датасету, логічно припустити, що рівні можуть бути різними за складністю.(в середньому на всі рівні)"
   ]
  },
  {
   "cell_type": "code",
   "execution_count": 308,
   "id": "7d157865-00eb-4e96-9c0d-6b5a0a739680",
   "metadata": {
    "tags": []
   },
   "outputs": [
    {
     "data": {
      "text/plain": [
       "<Axes: xlabel='level'>"
      ]
     },
     "execution_count": 308,
     "metadata": {},
     "output_type": "execute_result"
    },
    {
     "data": {
      "image/png": "[encoded data removed]",
      "text/plain": [
       "<Figure size 640x480 with 1 Axes>"
      ]
     },
     "metadata": {},
     "output_type": "display_data"
    }
   ],
   "source": [
    "t.set_index('level')[['probability_of_victory']].plot()"
   ]
  },
  {
   "cell_type": "code",
   "execution_count": 309,
   "id": "2c24713f-685c-4c0a-bb94-1476a3ff6e78",
   "metadata": {
    "tags": []
   },
   "outputs": [
    {
     "data": {
      "text/plain": [
       "<Axes: xlabel='level'>"
      ]
     },
     "execution_count": 309,
     "metadata": {},
     "output_type": "execute_result"
    },
    {
     "data": {
      "image/png": "[encoded data removed]",
      "text/plain": [
       "<Figure size 640x480 with 1 Axes>"
      ]
     },
     "metadata": {},
     "output_type": "display_data"
    }
   ],
   "source": [
    "t.set_index('level')[['odds']].plot()"
   ]
  },
  {
   "cell_type": "markdown",
   "id": "77e2ad51-a651-4f42-8381-ae82c8add57c",
   "metadata": {},
   "source": [
    "На гістограмі наш odds (шанси) розподілені таким чином, що на перших рівнях пройти гру дуже дуже великий шанс і воно затьмарило все. Подивившись в Інтернеті, що роблять люди в таких випадках, я порахував логарифмічний шанс"
   ]
  },
  {
   "cell_type": "markdown",
   "id": "24b37190-c537-4d94-936f-dcb7cae31359",
   "metadata": {
    "tags": []
   },
   "source": [
    "Це було зроблено для того, щоб побачити кращу динаміку на графіку."
   ]
  },
  {
   "cell_type": "code",
   "execution_count": 259,
   "id": "c0dcded2-1ab6-4829-9bc8-30fb174216de",
   "metadata": {
    "tags": []
   },
   "outputs": [],
   "source": [
    "t['logodds'] = np.log(t['odds'])"
   ]
  },
  {
   "cell_type": "code",
   "execution_count": 260,
   "id": "dd7f195a-10d2-4c1a-b38a-dae4c0e20732",
   "metadata": {
    "tags": []
   },
   "outputs": [
    {
     "data": {
      "text/plain": [
       "<Axes: xlabel='level'>"
      ]
     },
     "execution_count": 260,
     "metadata": {},
     "output_type": "execute_result"
    },
    {
     "data": {
      "image/png": "[encoded data removed]",
      "text/plain": [
       "<Figure size 640x480 with 1 Axes>"
      ]
     },
     "metadata": {},
     "output_type": "display_data"
    }
   ],
   "source": [
    "t.set_index('level')[['logodds']].plot()"
   ]
  },
  {
   "cell_type": "code",
   "execution_count": 310,
   "id": "cde20a41-43cf-4fc7-9699-459c8b814d11",
   "metadata": {
    "tags": []
   },
   "outputs": [
    {
     "data": {
      "text/html": [
       "<div>\n",
       "<style scoped>\n",
       "    .dataframe tbody tr th:only-of-type {\n",
       "        vertical-align: middle;\n",
       "    }\n",
       "\n",
       "    .dataframe tbody tr th {\n",
       "        vertical-align: top;\n",
       "    }\n",
       "\n",
       "    .dataframe thead th {\n",
       "        text-align: right;\n",
       "    }\n",
       "</style>\n",
       "<table border=\"1\" class=\"dataframe\">\n",
       "  <thead>\n",
       "    <tr style=\"text-align: right;\">\n",
       "      <th></th>\n",
       "      <th>level</th>\n",
       "      <th>count_of_users</th>\n",
       "      <th>probability_of_victory</th>\n",
       "      <th>odds</th>\n",
       "    </tr>\n",
       "  </thead>\n",
       "  <tbody>\n",
       "    <tr>\n",
       "      <th>0</th>\n",
       "      <td>1</td>\n",
       "      <td>25157</td>\n",
       "      <td>0.999324</td>\n",
       "      <td>1478.823529</td>\n",
       "    </tr>\n",
       "    <tr>\n",
       "      <th>1</th>\n",
       "      <td>2</td>\n",
       "      <td>23313</td>\n",
       "      <td>0.962382</td>\n",
       "      <td>25.582668</td>\n",
       "    </tr>\n",
       "    <tr>\n",
       "      <th>2</th>\n",
       "      <td>3</td>\n",
       "      <td>23634</td>\n",
       "      <td>0.917619</td>\n",
       "      <td>11.138675</td>\n",
       "    </tr>\n",
       "    <tr>\n",
       "      <th>3</th>\n",
       "      <td>4</td>\n",
       "      <td>21636</td>\n",
       "      <td>0.985487</td>\n",
       "      <td>67.904459</td>\n",
       "    </tr>\n",
       "    <tr>\n",
       "      <th>4</th>\n",
       "      <td>5</td>\n",
       "      <td>27192</td>\n",
       "      <td>0.763791</td>\n",
       "      <td>3.233536</td>\n",
       "    </tr>\n",
       "  </tbody>\n",
       "</table>\n",
       "</div>"
      ],
      "text/plain": [
       "   level  count_of_users  probability_of_victory         odds\n",
       "0      1           25157                0.999324  1478.823529\n",
       "1      2           23313                0.962382    25.582668\n",
       "2      3           23634                0.917619    11.138675\n",
       "3      4           21636                0.985487    67.904459\n",
       "4      5           27192                0.763791     3.233536"
      ]
     },
     "execution_count": 310,
     "metadata": {},
     "output_type": "execute_result"
    }
   ],
   "source": [
    "t.head()"
   ]
  },
  {
   "cell_type": "markdown",
   "id": "4135e9a3-0ff0-45c3-b9b2-fdcb3acef12b",
   "metadata": {},
   "source": [
    "Пропоную перевести ймовірність до відсотків."
   ]
  },
  {
   "cell_type": "code",
   "execution_count": 311,
   "id": "b829763e-1024-4703-b122-0dbbcd025ae7",
   "metadata": {
    "tags": []
   },
   "outputs": [],
   "source": [
    "t['winning_percentage'] = (t.probability_of_victory)*100"
   ]
  },
  {
   "cell_type": "code",
   "execution_count": 312,
   "id": "13e81247-eba6-4950-8423-3fce0ca327a0",
   "metadata": {
    "tags": []
   },
   "outputs": [],
   "source": [
    "t.rename(columns = {'count_of_users':'attempts'},inplace = True)"
   ]
  },
  {
   "cell_type": "code",
   "execution_count": 313,
   "id": "98eea8c3-0eff-4db1-b785-0fdc2efa6566",
   "metadata": {
    "tags": []
   },
   "outputs": [
    {
     "data": {
      "text/plain": [
       "<Axes: xlabel='attempts', ylabel='winning_percentage'>"
      ]
     },
     "execution_count": 313,
     "metadata": {},
     "output_type": "execute_result"
    },
    {
     "data": {
      "image/png": "[encoded data removed]",
      "text/plain": [
       "<Figure size 640x480 with 1 Axes>"
      ]
     },
     "metadata": {},
     "output_type": "display_data"
    }
   ],
   "source": [
    "sns.lineplot(data = t, x ='attempts', y = 'winning_percentage')"
   ]
  },
  {
   "cell_type": "markdown",
   "id": "a0dc9b1b-5b90-4a40-b27b-7e3c646a1526",
   "metadata": {},
   "source": [
    "На цьому графіку можемо побачити, що чим більше спроб, тим відсоток на виграш падає."
   ]
  },
  {
   "cell_type": "code",
   "execution_count": 265,
   "id": "c24766a1-6801-49c1-aebd-207a075d13b6",
   "metadata": {
    "tags": []
   },
   "outputs": [],
   "source": [
    "tt = df.groupby(['level','uid'])['action'].count().reset_index()"
   ]
  },
  {
   "cell_type": "code",
   "execution_count": 266,
   "id": "474e12ba-fc7d-4236-8777-8a36e0f73c4b",
   "metadata": {
    "tags": []
   },
   "outputs": [
    {
     "data": {
      "text/html": [
       "<div>\n",
       "<style scoped>\n",
       "    .dataframe tbody tr th:only-of-type {\n",
       "        vertical-align: middle;\n",
       "    }\n",
       "\n",
       "    .dataframe tbody tr th {\n",
       "        vertical-align: top;\n",
       "    }\n",
       "\n",
       "    .dataframe thead th {\n",
       "        text-align: right;\n",
       "    }\n",
       "</style>\n",
       "<table border=\"1\" class=\"dataframe\">\n",
       "  <thead>\n",
       "    <tr style=\"text-align: right;\">\n",
       "      <th></th>\n",
       "      <th>level</th>\n",
       "      <th>uid</th>\n",
       "      <th>action</th>\n",
       "    </tr>\n",
       "  </thead>\n",
       "  <tbody>\n",
       "    <tr>\n",
       "      <th>0</th>\n",
       "      <td>1</td>\n",
       "      <td>M001TWRFNWc5MjQ1MDI3MTAyMjE5MA</td>\n",
       "      <td>1</td>\n",
       "    </tr>\n",
       "    <tr>\n",
       "      <th>1</th>\n",
       "      <td>1</td>\n",
       "      <td>M001VTlGalU5MzcwMTI3MTAyMjE5Mg</td>\n",
       "      <td>1</td>\n",
       "    </tr>\n",
       "    <tr>\n",
       "      <th>2</th>\n",
       "      <td>1</td>\n",
       "      <td>M010Z2VmOFgzMzgwMTI3MTAyMjE4Mg</td>\n",
       "      <td>1</td>\n",
       "    </tr>\n",
       "    <tr>\n",
       "      <th>3</th>\n",
       "      <td>1</td>\n",
       "      <td>M01QQlBMVmo1NTcyODA3MTAyMjE4MQ</td>\n",
       "      <td>1</td>\n",
       "    </tr>\n",
       "    <tr>\n",
       "      <th>4</th>\n",
       "      <td>1</td>\n",
       "      <td>M01TMDNDdzA0MDkwNzE3MTAyMjE2MA</td>\n",
       "      <td>1</td>\n",
       "    </tr>\n",
       "  </tbody>\n",
       "</table>\n",
       "</div>"
      ],
      "text/plain": [
       "   level                             uid  action\n",
       "0      1  M001TWRFNWc5MjQ1MDI3MTAyMjE5MA       1\n",
       "1      1  M001VTlGalU5MzcwMTI3MTAyMjE5Mg       1\n",
       "2      1  M010Z2VmOFgzMzgwMTI3MTAyMjE4Mg       1\n",
       "3      1  M01QQlBMVmo1NTcyODA3MTAyMjE4MQ       1\n",
       "4      1  M01TMDNDdzA0MDkwNzE3MTAyMjE2MA       1"
      ]
     },
     "execution_count": 266,
     "metadata": {},
     "output_type": "execute_result"
    }
   ],
   "source": [
    "tt.head()"
   ]
  },
  {
   "cell_type": "code",
   "execution_count": 267,
   "id": "81088ce5-a7b4-45b6-af21-420327392cac",
   "metadata": {
    "tags": []
   },
   "outputs": [],
   "source": [
    "attempts = tt.groupby('level')['action'].agg(['count','mean','median'])"
   ]
  },
  {
   "cell_type": "code",
   "execution_count": 315,
   "id": "c59f83d9-7031-4a3d-ad13-6d48f10be5c9",
   "metadata": {
    "tags": []
   },
   "outputs": [
    {
     "data": {
      "text/html": [
       "<div>\n",
       "<style scoped>\n",
       "    .dataframe tbody tr th:only-of-type {\n",
       "        vertical-align: middle;\n",
       "    }\n",
       "\n",
       "    .dataframe tbody tr th {\n",
       "        vertical-align: top;\n",
       "    }\n",
       "\n",
       "    .dataframe thead th {\n",
       "        text-align: right;\n",
       "    }\n",
       "</style>\n",
       "<table border=\"1\" class=\"dataframe\">\n",
       "  <thead>\n",
       "    <tr style=\"text-align: right;\">\n",
       "      <th></th>\n",
       "      <th>count</th>\n",
       "      <th>mean</th>\n",
       "      <th>median</th>\n",
       "    </tr>\n",
       "    <tr>\n",
       "      <th>level</th>\n",
       "      <th></th>\n",
       "      <th></th>\n",
       "      <th></th>\n",
       "    </tr>\n",
       "  </thead>\n",
       "  <tbody>\n",
       "    <tr>\n",
       "      <th>1</th>\n",
       "      <td>24162</td>\n",
       "      <td>1.041180</td>\n",
       "      <td>1.0</td>\n",
       "    </tr>\n",
       "    <tr>\n",
       "      <th>2</th>\n",
       "      <td>22177</td>\n",
       "      <td>1.051224</td>\n",
       "      <td>1.0</td>\n",
       "    </tr>\n",
       "    <tr>\n",
       "      <th>3</th>\n",
       "      <td>21415</td>\n",
       "      <td>1.103619</td>\n",
       "      <td>1.0</td>\n",
       "    </tr>\n",
       "    <tr>\n",
       "      <th>4</th>\n",
       "      <td>20916</td>\n",
       "      <td>1.034423</td>\n",
       "      <td>1.0</td>\n",
       "    </tr>\n",
       "    <tr>\n",
       "      <th>5</th>\n",
       "      <td>20625</td>\n",
       "      <td>1.318400</td>\n",
       "      <td>1.0</td>\n",
       "    </tr>\n",
       "  </tbody>\n",
       "</table>\n",
       "</div>"
      ],
      "text/plain": [
       "       count      mean  median\n",
       "level                         \n",
       "1      24162  1.041180     1.0\n",
       "2      22177  1.051224     1.0\n",
       "3      21415  1.103619     1.0\n",
       "4      20916  1.034423     1.0\n",
       "5      20625  1.318400     1.0"
      ]
     },
     "execution_count": 315,
     "metadata": {},
     "output_type": "execute_result"
    }
   ],
   "source": [
    "attempts.head()"
   ]
  },
  {
   "cell_type": "markdown",
   "id": "b420b650-cbaa-4a59-a1d3-3c1cfdfcf55d",
   "metadata": {},
   "source": [
    "порахуємо середнє на кожен рівень гри"
   ]
  },
  {
   "cell_type": "code",
   "execution_count": 268,
   "id": "1f009b1f-7aed-4bc5-b0d0-6a7f323e611f",
   "metadata": {
    "tags": []
   },
   "outputs": [],
   "source": [
    "t = t.join(attempts,lsuffix='_l',rsuffix='_r')"
   ]
  },
  {
   "cell_type": "code",
   "execution_count": 269,
   "id": "d5cc89bd-249f-4ec7-a718-47a24c93f525",
   "metadata": {
    "tags": []
   },
   "outputs": [
    {
     "data": {
      "text/html": [
       "<div>\n",
       "<style scoped>\n",
       "    .dataframe tbody tr th:only-of-type {\n",
       "        vertical-align: middle;\n",
       "    }\n",
       "\n",
       "    .dataframe tbody tr th {\n",
       "        vertical-align: top;\n",
       "    }\n",
       "\n",
       "    .dataframe thead th {\n",
       "        text-align: right;\n",
       "    }\n",
       "</style>\n",
       "<table border=\"1\" class=\"dataframe\">\n",
       "  <thead>\n",
       "    <tr style=\"text-align: right;\">\n",
       "      <th></th>\n",
       "      <th>level</th>\n",
       "      <th>attempts</th>\n",
       "      <th>probability_of_victory</th>\n",
       "      <th>odds</th>\n",
       "      <th>logodds</th>\n",
       "      <th>winning_percentage</th>\n",
       "      <th>count</th>\n",
       "      <th>mean</th>\n",
       "      <th>median</th>\n",
       "    </tr>\n",
       "  </thead>\n",
       "  <tbody>\n",
       "    <tr>\n",
       "      <th>0</th>\n",
       "      <td>1</td>\n",
       "      <td>25157</td>\n",
       "      <td>0.999324</td>\n",
       "      <td>1478.823529</td>\n",
       "      <td>7.299002</td>\n",
       "      <td>99.932424</td>\n",
       "      <td>NaN</td>\n",
       "      <td>NaN</td>\n",
       "      <td>NaN</td>\n",
       "    </tr>\n",
       "    <tr>\n",
       "      <th>1</th>\n",
       "      <td>2</td>\n",
       "      <td>23313</td>\n",
       "      <td>0.962382</td>\n",
       "      <td>25.582668</td>\n",
       "      <td>3.241915</td>\n",
       "      <td>96.238150</td>\n",
       "      <td>24162.0</td>\n",
       "      <td>1.041180</td>\n",
       "      <td>1.0</td>\n",
       "    </tr>\n",
       "    <tr>\n",
       "      <th>2</th>\n",
       "      <td>3</td>\n",
       "      <td>23634</td>\n",
       "      <td>0.917619</td>\n",
       "      <td>11.138675</td>\n",
       "      <td>2.410423</td>\n",
       "      <td>91.761868</td>\n",
       "      <td>22177.0</td>\n",
       "      <td>1.051224</td>\n",
       "      <td>1.0</td>\n",
       "    </tr>\n",
       "    <tr>\n",
       "      <th>3</th>\n",
       "      <td>4</td>\n",
       "      <td>21636</td>\n",
       "      <td>0.985487</td>\n",
       "      <td>67.904459</td>\n",
       "      <td>4.218102</td>\n",
       "      <td>98.548715</td>\n",
       "      <td>21415.0</td>\n",
       "      <td>1.103619</td>\n",
       "      <td>1.0</td>\n",
       "    </tr>\n",
       "    <tr>\n",
       "      <th>4</th>\n",
       "      <td>5</td>\n",
       "      <td>27192</td>\n",
       "      <td>0.763791</td>\n",
       "      <td>3.233536</td>\n",
       "      <td>1.173576</td>\n",
       "      <td>76.379082</td>\n",
       "      <td>20916.0</td>\n",
       "      <td>1.034423</td>\n",
       "      <td>1.0</td>\n",
       "    </tr>\n",
       "  </tbody>\n",
       "</table>\n",
       "</div>"
      ],
      "text/plain": [
       "   level  attempts  probability_of_victory         odds   logodds  \\\n",
       "0      1     25157                0.999324  1478.823529  7.299002   \n",
       "1      2     23313                0.962382    25.582668  3.241915   \n",
       "2      3     23634                0.917619    11.138675  2.410423   \n",
       "3      4     21636                0.985487    67.904459  4.218102   \n",
       "4      5     27192                0.763791     3.233536  1.173576   \n",
       "\n",
       "   winning_percentage    count      mean  median  \n",
       "0           99.932424      NaN       NaN     NaN  \n",
       "1           96.238150  24162.0  1.041180     1.0  \n",
       "2           91.761868  22177.0  1.051224     1.0  \n",
       "3           98.548715  21415.0  1.103619     1.0  \n",
       "4           76.379082  20916.0  1.034423     1.0  "
      ]
     },
     "execution_count": 269,
     "metadata": {},
     "output_type": "execute_result"
    }
   ],
   "source": [
    "t.head()"
   ]
  },
  {
   "cell_type": "code",
   "execution_count": 270,
   "id": "2d5ed24b-fd14-43d1-922a-e98616c0aab1",
   "metadata": {
    "tags": []
   },
   "outputs": [],
   "source": [
    "t.columns = ['level','level_all_attempts', 'prob_win', 'odds_win', \n",
    "             'logodds_win', 'winning_percentage','user_cnt', 'attempt_mean', 'attempt_median']"
   ]
  },
  {
   "cell_type": "code",
   "execution_count": 271,
   "id": "2586eaaf-5b22-471d-859b-b4709fdd4abc",
   "metadata": {
    "tags": []
   },
   "outputs": [
    {
     "data": {
      "text/html": [
       "<div>\n",
       "<style scoped>\n",
       "    .dataframe tbody tr th:only-of-type {\n",
       "        vertical-align: middle;\n",
       "    }\n",
       "\n",
       "    .dataframe tbody tr th {\n",
       "        vertical-align: top;\n",
       "    }\n",
       "\n",
       "    .dataframe thead th {\n",
       "        text-align: right;\n",
       "    }\n",
       "</style>\n",
       "<table border=\"1\" class=\"dataframe\">\n",
       "  <thead>\n",
       "    <tr style=\"text-align: right;\">\n",
       "      <th></th>\n",
       "      <th>level</th>\n",
       "      <th>level_all_attempts</th>\n",
       "      <th>prob_win</th>\n",
       "      <th>odds_win</th>\n",
       "      <th>logodds_win</th>\n",
       "      <th>winning_percentage</th>\n",
       "      <th>user_cnt</th>\n",
       "      <th>attempt_mean</th>\n",
       "      <th>attempt_median</th>\n",
       "    </tr>\n",
       "  </thead>\n",
       "  <tbody>\n",
       "    <tr>\n",
       "      <th>0</th>\n",
       "      <td>1</td>\n",
       "      <td>25157</td>\n",
       "      <td>0.999324</td>\n",
       "      <td>1478.823529</td>\n",
       "      <td>7.299002</td>\n",
       "      <td>99.932424</td>\n",
       "      <td>NaN</td>\n",
       "      <td>NaN</td>\n",
       "      <td>NaN</td>\n",
       "    </tr>\n",
       "    <tr>\n",
       "      <th>1</th>\n",
       "      <td>2</td>\n",
       "      <td>23313</td>\n",
       "      <td>0.962382</td>\n",
       "      <td>25.582668</td>\n",
       "      <td>3.241915</td>\n",
       "      <td>96.238150</td>\n",
       "      <td>24162.0</td>\n",
       "      <td>1.041180</td>\n",
       "      <td>1.0</td>\n",
       "    </tr>\n",
       "    <tr>\n",
       "      <th>2</th>\n",
       "      <td>3</td>\n",
       "      <td>23634</td>\n",
       "      <td>0.917619</td>\n",
       "      <td>11.138675</td>\n",
       "      <td>2.410423</td>\n",
       "      <td>91.761868</td>\n",
       "      <td>22177.0</td>\n",
       "      <td>1.051224</td>\n",
       "      <td>1.0</td>\n",
       "    </tr>\n",
       "    <tr>\n",
       "      <th>3</th>\n",
       "      <td>4</td>\n",
       "      <td>21636</td>\n",
       "      <td>0.985487</td>\n",
       "      <td>67.904459</td>\n",
       "      <td>4.218102</td>\n",
       "      <td>98.548715</td>\n",
       "      <td>21415.0</td>\n",
       "      <td>1.103619</td>\n",
       "      <td>1.0</td>\n",
       "    </tr>\n",
       "    <tr>\n",
       "      <th>4</th>\n",
       "      <td>5</td>\n",
       "      <td>27192</td>\n",
       "      <td>0.763791</td>\n",
       "      <td>3.233536</td>\n",
       "      <td>1.173576</td>\n",
       "      <td>76.379082</td>\n",
       "      <td>20916.0</td>\n",
       "      <td>1.034423</td>\n",
       "      <td>1.0</td>\n",
       "    </tr>\n",
       "  </tbody>\n",
       "</table>\n",
       "</div>"
      ],
      "text/plain": [
       "   level  level_all_attempts  prob_win     odds_win  logodds_win  \\\n",
       "0      1               25157  0.999324  1478.823529     7.299002   \n",
       "1      2               23313  0.962382    25.582668     3.241915   \n",
       "2      3               23634  0.917619    11.138675     2.410423   \n",
       "3      4               21636  0.985487    67.904459     4.218102   \n",
       "4      5               27192  0.763791     3.233536     1.173576   \n",
       "\n",
       "   winning_percentage  user_cnt  attempt_mean  attempt_median  \n",
       "0           99.932424       NaN           NaN             NaN  \n",
       "1           96.238150   24162.0      1.041180             1.0  \n",
       "2           91.761868   22177.0      1.051224             1.0  \n",
       "3           98.548715   21415.0      1.103619             1.0  \n",
       "4           76.379082   20916.0      1.034423             1.0  "
      ]
     },
     "execution_count": 271,
     "metadata": {},
     "output_type": "execute_result"
    }
   ],
   "source": [
    "t.head()"
   ]
  },
  {
   "cell_type": "markdown",
   "id": "c6bcf780-dce2-4587-b145-c70e3b007915",
   "metadata": {},
   "source": [
    "і розрахуємо ймовірність програти"
   ]
  },
  {
   "cell_type": "code",
   "execution_count": 272,
   "id": "4b619a23-5575-47dd-890d-e95691e34978",
   "metadata": {
    "tags": []
   },
   "outputs": [],
   "source": [
    "t['prob_lose'] = 1 - t['prob_win']"
   ]
  },
  {
   "cell_type": "code",
   "execution_count": 273,
   "id": "930de2e4-81c8-496b-860a-e8b8ffbddb00",
   "metadata": {
    "tags": []
   },
   "outputs": [
    {
     "data": {
      "text/html": [
       "<div>\n",
       "<style scoped>\n",
       "    .dataframe tbody tr th:only-of-type {\n",
       "        vertical-align: middle;\n",
       "    }\n",
       "\n",
       "    .dataframe tbody tr th {\n",
       "        vertical-align: top;\n",
       "    }\n",
       "\n",
       "    .dataframe thead th {\n",
       "        text-align: right;\n",
       "    }\n",
       "</style>\n",
       "<table border=\"1\" class=\"dataframe\">\n",
       "  <thead>\n",
       "    <tr style=\"text-align: right;\">\n",
       "      <th></th>\n",
       "      <th>level</th>\n",
       "      <th>level_all_attempts</th>\n",
       "      <th>prob_win</th>\n",
       "      <th>odds_win</th>\n",
       "      <th>logodds_win</th>\n",
       "      <th>winning_percentage</th>\n",
       "      <th>user_cnt</th>\n",
       "      <th>attempt_mean</th>\n",
       "      <th>attempt_median</th>\n",
       "      <th>prob_lose</th>\n",
       "    </tr>\n",
       "  </thead>\n",
       "  <tbody>\n",
       "    <tr>\n",
       "      <th>0</th>\n",
       "      <td>1</td>\n",
       "      <td>25157</td>\n",
       "      <td>0.999324</td>\n",
       "      <td>1478.823529</td>\n",
       "      <td>7.299002</td>\n",
       "      <td>99.932424</td>\n",
       "      <td>NaN</td>\n",
       "      <td>NaN</td>\n",
       "      <td>NaN</td>\n",
       "      <td>0.000676</td>\n",
       "    </tr>\n",
       "    <tr>\n",
       "      <th>1</th>\n",
       "      <td>2</td>\n",
       "      <td>23313</td>\n",
       "      <td>0.962382</td>\n",
       "      <td>25.582668</td>\n",
       "      <td>3.241915</td>\n",
       "      <td>96.238150</td>\n",
       "      <td>24162.0</td>\n",
       "      <td>1.041180</td>\n",
       "      <td>1.0</td>\n",
       "      <td>0.037618</td>\n",
       "    </tr>\n",
       "    <tr>\n",
       "      <th>2</th>\n",
       "      <td>3</td>\n",
       "      <td>23634</td>\n",
       "      <td>0.917619</td>\n",
       "      <td>11.138675</td>\n",
       "      <td>2.410423</td>\n",
       "      <td>91.761868</td>\n",
       "      <td>22177.0</td>\n",
       "      <td>1.051224</td>\n",
       "      <td>1.0</td>\n",
       "      <td>0.082381</td>\n",
       "    </tr>\n",
       "    <tr>\n",
       "      <th>3</th>\n",
       "      <td>4</td>\n",
       "      <td>21636</td>\n",
       "      <td>0.985487</td>\n",
       "      <td>67.904459</td>\n",
       "      <td>4.218102</td>\n",
       "      <td>98.548715</td>\n",
       "      <td>21415.0</td>\n",
       "      <td>1.103619</td>\n",
       "      <td>1.0</td>\n",
       "      <td>0.014513</td>\n",
       "    </tr>\n",
       "    <tr>\n",
       "      <th>4</th>\n",
       "      <td>5</td>\n",
       "      <td>27192</td>\n",
       "      <td>0.763791</td>\n",
       "      <td>3.233536</td>\n",
       "      <td>1.173576</td>\n",
       "      <td>76.379082</td>\n",
       "      <td>20916.0</td>\n",
       "      <td>1.034423</td>\n",
       "      <td>1.0</td>\n",
       "      <td>0.236209</td>\n",
       "    </tr>\n",
       "  </tbody>\n",
       "</table>\n",
       "</div>"
      ],
      "text/plain": [
       "   level  level_all_attempts  prob_win     odds_win  logodds_win  \\\n",
       "0      1               25157  0.999324  1478.823529     7.299002   \n",
       "1      2               23313  0.962382    25.582668     3.241915   \n",
       "2      3               23634  0.917619    11.138675     2.410423   \n",
       "3      4               21636  0.985487    67.904459     4.218102   \n",
       "4      5               27192  0.763791     3.233536     1.173576   \n",
       "\n",
       "   winning_percentage  user_cnt  attempt_mean  attempt_median  prob_lose  \n",
       "0           99.932424       NaN           NaN             NaN   0.000676  \n",
       "1           96.238150   24162.0      1.041180             1.0   0.037618  \n",
       "2           91.761868   22177.0      1.051224             1.0   0.082381  \n",
       "3           98.548715   21415.0      1.103619             1.0   0.014513  \n",
       "4           76.379082   20916.0      1.034423             1.0   0.236209  "
      ]
     },
     "execution_count": 273,
     "metadata": {},
     "output_type": "execute_result"
    }
   ],
   "source": [
    "t.head()"
   ]
  },
  {
   "cell_type": "code",
   "execution_count": 274,
   "id": "ce55e9b4-7310-4bd0-ae3e-2c304f6f46f4",
   "metadata": {
    "tags": []
   },
   "outputs": [
    {
     "data": {
      "text/plain": [
       "<Axes: xlabel='attempt_mean', ylabel='prob_lose'>"
      ]
     },
     "execution_count": 274,
     "metadata": {},
     "output_type": "execute_result"
    },
    {
     "data": {
      "image/png": "[encoded data removed]",
      "text/plain": [
       "<Figure size 640x480 with 1 Axes>"
      ]
     },
     "metadata": {},
     "output_type": "display_data"
    }
   ],
   "source": [
    "sns.scatterplot(data=t,x='attempt_mean',y='prob_lose')"
   ]
  },
  {
   "cell_type": "markdown",
   "id": "2c14a4b9-90b8-4c8b-a2f8-dcf708912d2e",
   "metadata": {},
   "source": [
    "Доволі непоганий показник: коли збільшується кількість спроб, ймовірність програти зростає. Іншими словами, ми виявили динаміку рівнів: в середньому, чим більше спроб, тим більше ми усвідомлюємо, що рівень є складним.\""
   ]
  },
  {
   "cell_type": "markdown",
   "id": "c5506d55-3bda-4f15-adae-4961346391f1",
   "metadata": {},
   "source": [
    "можна для себе визначити...завжди, коли ми розглядаємо ймовірність перемоги, ми можемо також розрахувати ймовірність програшу."
   ]
  },
  {
   "cell_type": "markdown",
   "id": "4580b9ee-64dc-451b-bc27-8bc8fe17b4f9",
   "metadata": {},
   "source": [
    "Чим більше спроб, тим рівень стає складнішим. І завжди корисно розраховувати середнє значення на одного користувача або на одну спробу."
   ]
  },
  {
   "cell_type": "markdown",
   "id": "213119f6-b91a-4878-be51-af57241639e8",
   "metadata": {},
   "source": [
    "'Difficulty' може бути визначена як відсоток поразок"
   ]
  },
  {
   "cell_type": "markdown",
   "id": "123cdc83-36e8-40c2-9b6d-808bc87a2300",
   "metadata": {
    "tags": []
   },
   "source": [
    "Взагалі, в моєму попередньому проєкті я використовував процентилі з розрахунком, що чим більше спроб, тим рівень стає складнішим. Тут можна розділити на групи трохи іншим чином. Усього у нас буде 100 груп."
   ]
  },
  {
   "cell_type": "code",
   "execution_count": 275,
   "id": "2be292b7-30c7-43d3-ae2a-1dd80a1d067d",
   "metadata": {
    "tags": []
   },
   "outputs": [],
   "source": [
    "t['level_grp'] = t['level'] // 5"
   ]
  },
  {
   "cell_type": "code",
   "execution_count": 276,
   "id": "0994ee0b-b81f-42aa-9716-d1d4227e380b",
   "metadata": {
    "tags": []
   },
   "outputs": [],
   "source": [
    "t['wins'] = round(t['prob_win'] * t['level_all_attempts']).astype(int)"
   ]
  },
  {
   "cell_type": "code",
   "execution_count": 277,
   "id": "7bc5e1ae-9f98-4be9-989c-83280ca4e30e",
   "metadata": {
    "tags": []
   },
   "outputs": [],
   "source": [
    "t['lose'] =  round(t['prob_lose'] * t['level_all_attempts']).astype(int)"
   ]
  },
  {
   "cell_type": "code",
   "execution_count": 278,
   "id": "e5d0c331-a0a5-42f7-9897-4bfc4b7c8de5",
   "metadata": {
    "tags": []
   },
   "outputs": [],
   "source": [
    "tt = t.groupby('level_grp')[['level_all_attempts','lose']].sum()"
   ]
  },
  {
   "cell_type": "code",
   "execution_count": 279,
   "id": "7cbe2b80-28a1-42ff-9a86-63e4a10682d5",
   "metadata": {
    "tags": []
   },
   "outputs": [
    {
     "data": {
      "text/html": [
       "<div>\n",
       "<style scoped>\n",
       "    .dataframe tbody tr th:only-of-type {\n",
       "        vertical-align: middle;\n",
       "    }\n",
       "\n",
       "    .dataframe tbody tr th {\n",
       "        vertical-align: top;\n",
       "    }\n",
       "\n",
       "    .dataframe thead th {\n",
       "        text-align: right;\n",
       "    }\n",
       "</style>\n",
       "<table border=\"1\" class=\"dataframe\">\n",
       "  <thead>\n",
       "    <tr style=\"text-align: right;\">\n",
       "      <th></th>\n",
       "      <th>level_all_attempts</th>\n",
       "      <th>lose</th>\n",
       "    </tr>\n",
       "    <tr>\n",
       "      <th>level_grp</th>\n",
       "      <th></th>\n",
       "      <th></th>\n",
       "    </tr>\n",
       "  </thead>\n",
       "  <tbody>\n",
       "    <tr>\n",
       "      <th>0</th>\n",
       "      <td>93740</td>\n",
       "      <td>3155</td>\n",
       "    </tr>\n",
       "    <tr>\n",
       "      <th>1</th>\n",
       "      <td>153252</td>\n",
       "      <td>56983</td>\n",
       "    </tr>\n",
       "    <tr>\n",
       "      <th>2</th>\n",
       "      <td>182849</td>\n",
       "      <td>97556</td>\n",
       "    </tr>\n",
       "    <tr>\n",
       "      <th>3</th>\n",
       "      <td>168941</td>\n",
       "      <td>90262</td>\n",
       "    </tr>\n",
       "    <tr>\n",
       "      <th>4</th>\n",
       "      <td>209624</td>\n",
       "      <td>134604</td>\n",
       "    </tr>\n",
       "    <tr>\n",
       "      <th>...</th>\n",
       "      <td>...</td>\n",
       "      <td>...</td>\n",
       "    </tr>\n",
       "    <tr>\n",
       "      <th>96</th>\n",
       "      <td>13379</td>\n",
       "      <td>10984</td>\n",
       "    </tr>\n",
       "    <tr>\n",
       "      <th>97</th>\n",
       "      <td>14024</td>\n",
       "      <td>11787</td>\n",
       "    </tr>\n",
       "    <tr>\n",
       "      <th>98</th>\n",
       "      <td>13476</td>\n",
       "      <td>11215</td>\n",
       "    </tr>\n",
       "    <tr>\n",
       "      <th>99</th>\n",
       "      <td>12264</td>\n",
       "      <td>10199</td>\n",
       "    </tr>\n",
       "    <tr>\n",
       "      <th>100</th>\n",
       "      <td>3526</td>\n",
       "      <td>3136</td>\n",
       "    </tr>\n",
       "  </tbody>\n",
       "</table>\n",
       "<p>101 rows × 2 columns</p>\n",
       "</div>"
      ],
      "text/plain": [
       "           level_all_attempts    lose\n",
       "level_grp                            \n",
       "0                       93740    3155\n",
       "1                      153252   56983\n",
       "2                      182849   97556\n",
       "3                      168941   90262\n",
       "4                      209624  134604\n",
       "...                       ...     ...\n",
       "96                      13379   10984\n",
       "97                      14024   11787\n",
       "98                      13476   11215\n",
       "99                      12264   10199\n",
       "100                      3526    3136\n",
       "\n",
       "[101 rows x 2 columns]"
      ]
     },
     "execution_count": 279,
     "metadata": {},
     "output_type": "execute_result"
    }
   ],
   "source": [
    "tt"
   ]
  },
  {
   "cell_type": "markdown",
   "id": "3e4ce9b6-d8ed-438a-94bc-90a24faafdfb",
   "metadata": {},
   "source": [
    "Ми поділимо наші програші на загальну кількість спроб, і побачимо, що лінія трохи спадає і ймовірність зробити помилки на якомусь етапі стає меншою. Загугливши специфіку цих ігор, цих видів гри, це може бути пов'язано з таким моментом, що на початкових рівнях гри гравець може легко подолати перешкоди та виконувати завдання без особливих зусиль. Однак у міру просування гравця його навички стають більш вимогливими та точними. Це може створити відчуття, що гра стає складнішою, хоча насправді гравець просто стає більш вимогливим до себе."
   ]
  },
  {
   "cell_type": "code",
   "execution_count": 280,
   "id": "61282fd1-61b1-4cd0-95dd-0b18d0abed4e",
   "metadata": {
    "tags": []
   },
   "outputs": [],
   "source": [
    "tt['prob_lose'] = tt['lose'] / tt['level_all_attempts']"
   ]
  },
  {
   "cell_type": "code",
   "execution_count": 281,
   "id": "4d40f7a6-2acc-4273-8ebe-bf15f6dd8a73",
   "metadata": {
    "tags": []
   },
   "outputs": [
    {
     "data": {
      "text/plain": [
       "<Axes: xlabel='level_grp'>"
      ]
     },
     "execution_count": 281,
     "metadata": {},
     "output_type": "execute_result"
    },
    {
     "data": {
      "image/png": "[encoded data removed]",
      "text/plain": [
       "<Figure size 640x480 with 1 Axes>"
      ]
     },
     "metadata": {},
     "output_type": "display_data"
    }
   ],
   "source": [
    "tt['prob_lose'].plot(grid=False)"
   ]
  },
  {
   "cell_type": "markdown",
   "id": "472dc726-f193-4889-86b0-da31db5b6692",
   "metadata": {
    "tags": []
   },
   "source": [
    "Це кінець, друзі, на цьому тестовому завданні. Особливо нічого я не зробив, але деякі нові речі я для себе запам'ятав і захотів таким чином викласти це до свого портфоліо, а також поділитися з вами. Сподіваюся, вам було цікаво. Завжди відкритий до ваших думок та зауважень."
   ]
  },
  {
   "cell_type": "code",
   "execution_count": null,
   "id": "2334e719-fc25-43bd-b943-e932ac02a59d",
   "metadata": {},
   "outputs": [],
   "source": []
  }
 ],
 "metadata": {
  "kernelspec": {
   "display_name": "Python 3 (ipykernel)",
   "language": "python",
   "name": "python3"
  },
  "language_info": {
   "codemirror_mode": {
    "name": "ipython",
    "version": 3
   },
   "file_extension": ".py",
   "mimetype": "text/x-python",
   "name": "python",
   "nbconvert_exporter": "python",
   "pygments_lexer": "ipython3",
   "version": "3.11.5"
  }
 },
 "nbformat": 4,
 "nbformat_minor": 5
}
