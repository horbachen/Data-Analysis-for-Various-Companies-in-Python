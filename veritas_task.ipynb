{
 "cells": [
  {
   "cell_type": "markdown",
   "id": "4de074b5-3aab-4c00-b09e-3ee033715d05",
   "metadata": {},
   "source": [
    "%Company name%: Hometask\n",
    "\n",
    "As a financial institution regulated by the FCA, %Company name% has the obligation to verify the identity of all customers who want to open a %Company name% account. Each prospective customer has to go through a Know Your Customer (KYC) process by submitting a government-issued photo ID and a facial picture of themselves to our partner, Veritas. Veritas then would perform 2 checks:\n",
    "\n",
    "• Document check: To verify that the photo ID is valid and authentic; • Facial Similarity check: To verify that the face in the picture is the same with that on the submitted ID.\n",
    "\n",
    "The customer will ‘pass’ the KYC process and get onboarded if the results of both Document and Facial Similarity checks are ‘clear’. If the result of any check is not ‘clear’, the customer has to submit all the photos again.\n",
    "\n",
    "The “pass rate” is defined as the number of customers who pass both the KYC process divided by the number of customers who attempt the process. Each customer has up to 2 attempts. The pass rate has decreased substantially in the recent period.\n",
    "\n",
    "Please write a report that outlines the root causes and suggest solutions.\n",
    "\n",
    "Relevant files: • Reports of all Facial Similarity checks • Reports of all Document checks • veritas.html - API documentation of Veritas explaining some terms used in the reports.\n",
    "\n",
    "The candidate is free to use Excel or any scripting language to parse and analyse the data. Please show all your work (including your code if applicable) and assumptions as well as provide a pdf / keynote with your findings (outcomes).\n",
    "\n",
    "Good luck!"
   ]
  },
  {
   "cell_type": "markdown",
   "id": "f0f2d975-7b01-462f-95e6-1ea44214173c",
   "metadata": {},
   "source": [
    "# Початок аналізу "
   ]
  },
  {
   "cell_type": "code",
   "execution_count": 1,
   "id": "c3bd81b5-7dd6-4dd0-a599-59ba049aed3c",
   "metadata": {
    "tags": []
   },
   "outputs": [],
   "source": [
    "import pandas                 as pd \n",
    "import numpy                  as np \n",
    "from matplotlib import pyplot as plt \n",
    "import seaborn                as sns \n",
    "plt.style.use('dark_background')"
   ]
  },
  {
   "cell_type": "code",
   "execution_count": 3,
   "id": "b13acf20-1adc-40d0-b25f-0ae4c656642e",
   "metadata": {
    "tags": []
   },
   "outputs": [],
   "source": [
    "doc  = pd.read_csv('C:/Users/tuf/Downloads/doc_reports_sample.csv')\n",
    "face = pd.read_csv('C:/Users/tuf/Downloads/face_reports_sample.csv')"
   ]
  },
  {
   "cell_type": "markdown",
   "id": "e0ccb977-3409-44e9-9647-5c7f4580ea8c",
   "metadata": {},
   "source": [
    "Подивимося на дані."
   ]
  },
  {
   "cell_type": "code",
   "execution_count": 4,
   "id": "670541f4-937e-4db1-bbf3-1bf03073260b",
   "metadata": {
    "tags": []
   },
   "outputs": [
    {
     "data": {
      "text/html": [
       "<div>\n",
       "<style scoped>\n",
       "    .dataframe tbody tr th:only-of-type {\n",
       "        vertical-align: middle;\n",
       "    }\n",
       "\n",
       "    .dataframe tbody tr th {\n",
       "        vertical-align: top;\n",
       "    }\n",
       "\n",
       "    .dataframe thead th {\n",
       "        text-align: right;\n",
       "    }\n",
       "</style>\n",
       "<table border=\"1\" class=\"dataframe\">\n",
       "  <thead>\n",
       "    <tr style=\"text-align: right;\">\n",
       "      <th></th>\n",
       "      <th>Unnamed: 0</th>\n",
       "      <th>user_id</th>\n",
       "      <th>result</th>\n",
       "      <th>visual_authenticity_result</th>\n",
       "      <th>image_integrity_result</th>\n",
       "      <th>face_detection_result</th>\n",
       "      <th>image_quality_result</th>\n",
       "      <th>created_at</th>\n",
       "      <th>supported_document_result</th>\n",
       "      <th>conclusive_document_quality_result</th>\n",
       "      <th>colour_picture_result</th>\n",
       "      <th>data_validation_result</th>\n",
       "      <th>data_consistency_result</th>\n",
       "      <th>data_comparison_result</th>\n",
       "      <th>attempt_id</th>\n",
       "      <th>police_record_result</th>\n",
       "      <th>compromised_document_result</th>\n",
       "      <th>properties</th>\n",
       "      <th>sub_result</th>\n",
       "    </tr>\n",
       "  </thead>\n",
       "  <tbody>\n",
       "    <tr>\n",
       "      <th>0</th>\n",
       "      <td>27241</td>\n",
       "      <td>8190909e566647a5b6afeee9b4ec6c6a</td>\n",
       "      <td>clear</td>\n",
       "      <td>clear</td>\n",
       "      <td>clear</td>\n",
       "      <td>clear</td>\n",
       "      <td>clear</td>\n",
       "      <td>2017-05-25 08:38:56</td>\n",
       "      <td>clear</td>\n",
       "      <td>NaN</td>\n",
       "      <td>NaN</td>\n",
       "      <td>clear</td>\n",
       "      <td>NaN</td>\n",
       "      <td>clear</td>\n",
       "      <td>30e11e95e30748f485a2271ca5e6abb8</td>\n",
       "      <td>clear</td>\n",
       "      <td>NaN</td>\n",
       "      <td>{'gender': 'Female', 'document_type': 'driving...</td>\n",
       "      <td>clear</td>\n",
       "    </tr>\n",
       "    <tr>\n",
       "      <th>1</th>\n",
       "      <td>28369</td>\n",
       "      <td>6b62136dfde348a99855e350294aaf5d</td>\n",
       "      <td>clear</td>\n",
       "      <td>clear</td>\n",
       "      <td>clear</td>\n",
       "      <td>clear</td>\n",
       "      <td>clear</td>\n",
       "      <td>2017-05-31 08:12:51</td>\n",
       "      <td>clear</td>\n",
       "      <td>NaN</td>\n",
       "      <td>NaN</td>\n",
       "      <td>clear</td>\n",
       "      <td>NaN</td>\n",
       "      <td>clear</td>\n",
       "      <td>4c0bfde8eb2249ed820e1f61d3ec3e33</td>\n",
       "      <td>clear</td>\n",
       "      <td>NaN</td>\n",
       "      <td>{'gender': 'Male', 'document_type': 'driving_l...</td>\n",
       "      <td>clear</td>\n",
       "    </tr>\n",
       "    <tr>\n",
       "      <th>2</th>\n",
       "      <td>27988</td>\n",
       "      <td>73679363dccc46fa9f34a4fefd0d76e3</td>\n",
       "      <td>clear</td>\n",
       "      <td>clear</td>\n",
       "      <td>clear</td>\n",
       "      <td>clear</td>\n",
       "      <td>clear</td>\n",
       "      <td>2017-05-29 15:07:04</td>\n",
       "      <td>clear</td>\n",
       "      <td>NaN</td>\n",
       "      <td>NaN</td>\n",
       "      <td>clear</td>\n",
       "      <td>clear</td>\n",
       "      <td>clear</td>\n",
       "      <td>c5004fd1fc1d4e36a11433b70d960867</td>\n",
       "      <td>clear</td>\n",
       "      <td>NaN</td>\n",
       "      <td>{'gender': 'Male', 'nationality': 'GBR', 'docu...</td>\n",
       "      <td>clear</td>\n",
       "    </tr>\n",
       "    <tr>\n",
       "      <th>3</th>\n",
       "      <td>27529</td>\n",
       "      <td>07857065dfa64db386739ec4fff47856</td>\n",
       "      <td>consider</td>\n",
       "      <td>clear</td>\n",
       "      <td>clear</td>\n",
       "      <td>clear</td>\n",
       "      <td>clear</td>\n",
       "      <td>2017-05-26 19:00:35</td>\n",
       "      <td>clear</td>\n",
       "      <td>NaN</td>\n",
       "      <td>NaN</td>\n",
       "      <td>clear</td>\n",
       "      <td>clear</td>\n",
       "      <td>consider</td>\n",
       "      <td>e4b26d4ddda545c9931a0a845cd65109</td>\n",
       "      <td>clear</td>\n",
       "      <td>NaN</td>\n",
       "      <td>{'gender': 'Male', 'nationality': 'PER', 'docu...</td>\n",
       "      <td>caution</td>\n",
       "    </tr>\n",
       "    <tr>\n",
       "      <th>4</th>\n",
       "      <td>47987</td>\n",
       "      <td>9f887805b2af49069349ff107e0bca01</td>\n",
       "      <td>clear</td>\n",
       "      <td>clear</td>\n",
       "      <td>clear</td>\n",
       "      <td>clear</td>\n",
       "      <td>clear</td>\n",
       "      <td>2017-05-29 14:38:21</td>\n",
       "      <td>clear</td>\n",
       "      <td>NaN</td>\n",
       "      <td>NaN</td>\n",
       "      <td>clear</td>\n",
       "      <td>clear</td>\n",
       "      <td>clear</td>\n",
       "      <td>8ead2b23ef664e4d85fae798a7d5d52c</td>\n",
       "      <td>clear</td>\n",
       "      <td>NaN</td>\n",
       "      <td>{'gender': 'Male', 'issuing_date': '2011-03', ...</td>\n",
       "      <td>clear</td>\n",
       "    </tr>\n",
       "  </tbody>\n",
       "</table>\n",
       "</div>"
      ],
      "text/plain": [
       "   Unnamed: 0                           user_id    result  \\\n",
       "0       27241  8190909e566647a5b6afeee9b4ec6c6a     clear   \n",
       "1       28369  6b62136dfde348a99855e350294aaf5d     clear   \n",
       "2       27988  73679363dccc46fa9f34a4fefd0d76e3     clear   \n",
       "3       27529  07857065dfa64db386739ec4fff47856  consider   \n",
       "4       47987  9f887805b2af49069349ff107e0bca01     clear   \n",
       "\n",
       "  visual_authenticity_result image_integrity_result face_detection_result  \\\n",
       "0                      clear                  clear                 clear   \n",
       "1                      clear                  clear                 clear   \n",
       "2                      clear                  clear                 clear   \n",
       "3                      clear                  clear                 clear   \n",
       "4                      clear                  clear                 clear   \n",
       "\n",
       "  image_quality_result           created_at supported_document_result  \\\n",
       "0                clear  2017-05-25 08:38:56                     clear   \n",
       "1                clear  2017-05-31 08:12:51                     clear   \n",
       "2                clear  2017-05-29 15:07:04                     clear   \n",
       "3                clear  2017-05-26 19:00:35                     clear   \n",
       "4                clear  2017-05-29 14:38:21                     clear   \n",
       "\n",
       "  conclusive_document_quality_result colour_picture_result  \\\n",
       "0                                NaN                   NaN   \n",
       "1                                NaN                   NaN   \n",
       "2                                NaN                   NaN   \n",
       "3                                NaN                   NaN   \n",
       "4                                NaN                   NaN   \n",
       "\n",
       "  data_validation_result data_consistency_result data_comparison_result  \\\n",
       "0                  clear                     NaN                  clear   \n",
       "1                  clear                     NaN                  clear   \n",
       "2                  clear                   clear                  clear   \n",
       "3                  clear                   clear               consider   \n",
       "4                  clear                   clear                  clear   \n",
       "\n",
       "                         attempt_id police_record_result  \\\n",
       "0  30e11e95e30748f485a2271ca5e6abb8                clear   \n",
       "1  4c0bfde8eb2249ed820e1f61d3ec3e33                clear   \n",
       "2  c5004fd1fc1d4e36a11433b70d960867                clear   \n",
       "3  e4b26d4ddda545c9931a0a845cd65109                clear   \n",
       "4  8ead2b23ef664e4d85fae798a7d5d52c                clear   \n",
       "\n",
       "  compromised_document_result  \\\n",
       "0                         NaN   \n",
       "1                         NaN   \n",
       "2                         NaN   \n",
       "3                         NaN   \n",
       "4                         NaN   \n",
       "\n",
       "                                          properties sub_result  \n",
       "0  {'gender': 'Female', 'document_type': 'driving...      clear  \n",
       "1  {'gender': 'Male', 'document_type': 'driving_l...      clear  \n",
       "2  {'gender': 'Male', 'nationality': 'GBR', 'docu...      clear  \n",
       "3  {'gender': 'Male', 'nationality': 'PER', 'docu...    caution  \n",
       "4  {'gender': 'Male', 'issuing_date': '2011-03', ...      clear  "
      ]
     },
     "execution_count": 4,
     "metadata": {},
     "output_type": "execute_result"
    }
   ],
   "source": [
    "doc.head()"
   ]
  },
  {
   "cell_type": "markdown",
   "id": "15a4f9ef-ef2d-4979-97b6-fad920690d10",
   "metadata": {},
   "source": [
    "Давайте подивимося на кількість рядків і стовпців."
   ]
  },
  {
   "cell_type": "code",
   "execution_count": 5,
   "id": "bef2ec89-47db-421a-92b7-e6c14a2e1c6d",
   "metadata": {
    "tags": []
   },
   "outputs": [
    {
     "data": {
      "text/plain": [
       "(5880, 19)"
      ]
     },
     "execution_count": 5,
     "metadata": {},
     "output_type": "execute_result"
    }
   ],
   "source": [
    "doc.shape"
   ]
  },
  {
   "cell_type": "markdown",
   "id": "2796cc05-0f4b-482b-9aaf-caa233b11ec0",
   "metadata": {
    "tags": []
   },
   "source": [
    "На даному етапі я вирішив перевірити, чи дублюється наше user_id. Ми можемо побачити, що є id, які повторюються, і це логічно згідно з нашим описом завдання. Саме ці користувачі не пройшли верифікацію з першої спроби."
   ]
  },
  {
   "cell_type": "code",
   "execution_count": 6,
   "id": "3e6f61e3-b202-4ddb-b0bd-7251ad402740",
   "metadata": {
    "tags": []
   },
   "outputs": [
    {
     "data": {
      "text/plain": [
       "user_id\n",
       "12028371d6c943babadf18224ebe96cb    2\n",
       "67a943369bbc48e187c3a07b35302f65    2\n",
       "b6f9bdc46bb543bab45e6c34e850adf7    2\n",
       "2e98fa65f2fe4d76a1ff0f30bd4048a9    2\n",
       "0b3fe48a14554fa687e5152a1c20d768    2\n",
       "                                   ..\n",
       "61ebe1797db7451ca218573ed2da41a1    1\n",
       "2e3b8deec6914a81be669462dc2bc82c    1\n",
       "a3c7ba928024419dbece61de8824c66e    1\n",
       "ded4e9772ac94f48b2c93c93b04ea8ae    1\n",
       "be89b841eda0429999a6fa4cee5c29a9    1\n",
       "Name: count, Length: 5848, dtype: int64"
      ]
     },
     "execution_count": 6,
     "metadata": {},
     "output_type": "execute_result"
    }
   ],
   "source": [
    "doc.user_id.value_counts()"
   ]
  },
  {
   "cell_type": "code",
   "execution_count": 7,
   "id": "1e142049-8d15-4575-8104-ec731e115dbb",
   "metadata": {
    "tags": []
   },
   "outputs": [
    {
     "data": {
      "text/plain": [
       "Unnamed: 0                             int64\n",
       "user_id                               object\n",
       "result                                object\n",
       "visual_authenticity_result            object\n",
       "image_integrity_result                object\n",
       "face_detection_result                 object\n",
       "image_quality_result                  object\n",
       "created_at                            object\n",
       "supported_document_result             object\n",
       "conclusive_document_quality_result    object\n",
       "colour_picture_result                 object\n",
       "data_validation_result                object\n",
       "data_consistency_result               object\n",
       "data_comparison_result                object\n",
       "attempt_id                            object\n",
       "police_record_result                  object\n",
       "compromised_document_result           object\n",
       "properties                            object\n",
       "sub_result                            object\n",
       "dtype: object"
      ]
     },
     "execution_count": 7,
     "metadata": {},
     "output_type": "execute_result"
    }
   ],
   "source": [
    "doc.dtypes"
   ]
  },
  {
   "cell_type": "markdown",
   "id": "d8f238ea-73dc-48e7-aa74-90c430a3ac71",
   "metadata": {},
   "source": [
    "Переведемо наші дати з рядкового формату в формат datetime."
   ]
  },
  {
   "cell_type": "code",
   "execution_count": 8,
   "id": "a2ffac6f-a0e3-427c-b05f-4596d2c488b1",
   "metadata": {
    "tags": []
   },
   "outputs": [],
   "source": [
    "doc['created_at'] = pd.to_datetime(doc.created_at, format='%Y-%m-%d %H:%M:%S')"
   ]
  },
  {
   "cell_type": "code",
   "execution_count": 9,
   "id": "07aaa333-f5b5-45cc-8fc2-1ec6662f4cc5",
   "metadata": {
    "tags": []
   },
   "outputs": [
    {
     "data": {
      "text/plain": [
       "Unnamed: 0                                     int64\n",
       "user_id                                       object\n",
       "result                                        object\n",
       "visual_authenticity_result                    object\n",
       "image_integrity_result                        object\n",
       "face_detection_result                         object\n",
       "image_quality_result                          object\n",
       "created_at                            datetime64[ns]\n",
       "supported_document_result                     object\n",
       "conclusive_document_quality_result            object\n",
       "colour_picture_result                         object\n",
       "data_validation_result                        object\n",
       "data_consistency_result                       object\n",
       "data_comparison_result                        object\n",
       "attempt_id                                    object\n",
       "police_record_result                          object\n",
       "compromised_document_result                   object\n",
       "properties                                    object\n",
       "sub_result                                    object\n",
       "dtype: object"
      ]
     },
     "execution_count": 9,
     "metadata": {},
     "output_type": "execute_result"
    }
   ],
   "source": [
    "doc.dtypes"
   ]
  },
  {
   "cell_type": "markdown",
   "id": "b342fdeb-7a77-4ab0-8858-562e23edf6e3",
   "metadata": {
    "tags": []
   },
   "source": [
    "Подивимося на мінімальну та максимальну дату."
   ]
  },
  {
   "cell_type": "code",
   "execution_count": 10,
   "id": "323c5af3-3e12-4601-ae5c-1323bfc85487",
   "metadata": {
    "tags": []
   },
   "outputs": [
    {
     "data": {
      "text/plain": [
       "Timestamp('2017-05-23 17:25:05')"
      ]
     },
     "execution_count": 10,
     "metadata": {},
     "output_type": "execute_result"
    }
   ],
   "source": [
    "doc.created_at.min()"
   ]
  },
  {
   "cell_type": "code",
   "execution_count": 11,
   "id": "83f1d290-b02a-4d33-aa6c-c3ba908a692b",
   "metadata": {
    "tags": []
   },
   "outputs": [
    {
     "data": {
      "text/plain": [
       "Timestamp('2017-10-31 22:06:10')"
      ]
     },
     "execution_count": 11,
     "metadata": {},
     "output_type": "execute_result"
    }
   ],
   "source": [
    "doc.created_at.max()"
   ]
  },
  {
   "cell_type": "code",
   "execution_count": 12,
   "id": "81349b69-3467-4c35-a7e1-3d622804855b",
   "metadata": {
    "tags": []
   },
   "outputs": [
    {
     "data": {
      "text/plain": [
       "result\n",
       "clear       4406\n",
       "consider    1474\n",
       "Name: count, dtype: int64"
      ]
     },
     "execution_count": 12,
     "metadata": {},
     "output_type": "execute_result"
    }
   ],
   "source": [
    "doc.result.value_counts()"
   ]
  },
  {
   "cell_type": "code",
   "execution_count": 13,
   "id": "d1a03e6d-f245-47e4-ae17-e9829a8df08c",
   "metadata": {
    "tags": []
   },
   "outputs": [
    {
     "data": {
      "text/plain": [
       "sub_result\n",
       "clear        4406\n",
       "rejected      889\n",
       "caution       525\n",
       "suspected      60\n",
       "Name: count, dtype: int64"
      ]
     },
     "execution_count": 13,
     "metadata": {},
     "output_type": "execute_result"
    }
   ],
   "source": [
    "doc.sub_result.value_counts()"
   ]
  },
  {
   "cell_type": "markdown",
   "id": "df7b7b26-82e6-4ef1-8e9e-cd7fb13d4ed2",
   "metadata": {},
   "source": [
    "За допомогою аргументу dt витягнем місяць з дати, щоб мати можливість групувати дані за місяцями. Також, для зручності, витягнем назви місяців."
   ]
  },
  {
   "cell_type": "code",
   "execution_count": 14,
   "id": "6f527f59-bc8b-4287-8852-71f81efaa043",
   "metadata": {
    "tags": []
   },
   "outputs": [],
   "source": [
    "doc['month'] = doc.created_at.dt.month"
   ]
  },
  {
   "cell_type": "code",
   "execution_count": 15,
   "id": "a8cbeb3c-dd8f-4b4d-93dc-ac4416e6297c",
   "metadata": {
    "tags": []
   },
   "outputs": [],
   "source": [
    "doc['month_name'] = doc.created_at.dt.month_name()"
   ]
  },
  {
   "cell_type": "markdown",
   "id": "1b4e214e-55ac-41f8-b2ee-cb4e72fc5ccb",
   "metadata": {},
   "source": [
    "Далі створимо зведену таблицю, де ми розглянемо розподіл rejected, caution, suspected, оскільки ці три типи вважаються неуспішними у системі. Наше завдання - визначити, після якого часу саме розпочалися скасування."
   ]
  },
  {
   "cell_type": "code",
   "execution_count": 16,
   "id": "0e87b907-c0f2-43dd-9a23-611813e3c62a",
   "metadata": {
    "tags": []
   },
   "outputs": [
    {
     "data": {
      "text/html": [
       "<div>\n",
       "<style scoped>\n",
       "    .dataframe tbody tr th:only-of-type {\n",
       "        vertical-align: middle;\n",
       "    }\n",
       "\n",
       "    .dataframe tbody tr th {\n",
       "        vertical-align: top;\n",
       "    }\n",
       "\n",
       "    .dataframe thead th {\n",
       "        text-align: right;\n",
       "    }\n",
       "</style>\n",
       "<table border=\"1\" class=\"dataframe\">\n",
       "  <thead>\n",
       "    <tr style=\"text-align: right;\">\n",
       "      <th>sub_result</th>\n",
       "      <th>month</th>\n",
       "      <th>caution</th>\n",
       "      <th>clear</th>\n",
       "      <th>rejected</th>\n",
       "      <th>suspected</th>\n",
       "    </tr>\n",
       "  </thead>\n",
       "  <tbody>\n",
       "    <tr>\n",
       "      <th>0</th>\n",
       "      <td>5</td>\n",
       "      <td>2.0</td>\n",
       "      <td>56.0</td>\n",
       "      <td>NaN</td>\n",
       "      <td>NaN</td>\n",
       "    </tr>\n",
       "    <tr>\n",
       "      <th>1</th>\n",
       "      <td>6</td>\n",
       "      <td>6.0</td>\n",
       "      <td>267.0</td>\n",
       "      <td>1.0</td>\n",
       "      <td>2.0</td>\n",
       "    </tr>\n",
       "    <tr>\n",
       "      <th>2</th>\n",
       "      <td>7</td>\n",
       "      <td>21.0</td>\n",
       "      <td>1013.0</td>\n",
       "      <td>96.0</td>\n",
       "      <td>3.0</td>\n",
       "    </tr>\n",
       "    <tr>\n",
       "      <th>3</th>\n",
       "      <td>8</td>\n",
       "      <td>35.0</td>\n",
       "      <td>1017.0</td>\n",
       "      <td>165.0</td>\n",
       "      <td>11.0</td>\n",
       "    </tr>\n",
       "    <tr>\n",
       "      <th>4</th>\n",
       "      <td>9</td>\n",
       "      <td>115.0</td>\n",
       "      <td>901.0</td>\n",
       "      <td>220.0</td>\n",
       "      <td>17.0</td>\n",
       "    </tr>\n",
       "    <tr>\n",
       "      <th>5</th>\n",
       "      <td>10</td>\n",
       "      <td>346.0</td>\n",
       "      <td>1152.0</td>\n",
       "      <td>407.0</td>\n",
       "      <td>27.0</td>\n",
       "    </tr>\n",
       "  </tbody>\n",
       "</table>\n",
       "</div>"
      ],
      "text/plain": [
       "sub_result  month  caution   clear  rejected  suspected\n",
       "0               5      2.0    56.0       NaN        NaN\n",
       "1               6      6.0   267.0       1.0        2.0\n",
       "2               7     21.0  1013.0      96.0        3.0\n",
       "3               8     35.0  1017.0     165.0       11.0\n",
       "4               9    115.0   901.0     220.0       17.0\n",
       "5              10    346.0  1152.0     407.0       27.0"
      ]
     },
     "execution_count": 16,
     "metadata": {},
     "output_type": "execute_result"
    }
   ],
   "source": [
    "doc.pivot_table(columns='sub_result',index='month', values = 'result', aggfunc = 'count').reset_index()"
   ]
  },
  {
   "cell_type": "markdown",
   "id": "96edc110-923b-4042-993d-ca435517ce11",
   "metadata": {},
   "source": [
    "На даному етапі ми зробимо відносно поверхневий аналіз, де покищо просто розглянемо закономірності і не будемо виконувати математичні доведення. Тут ми відіберемо саме ті події, які відбулися після 6 місяців, оскільки ми помітили в попередній таблиці, що перевірка почала сильно давати скасування саме після 6 місяців. Тут ми відіберемо саме тип 'rejected' і розглянемо дані, далі ми переведемо наші дані в числовий формат, де зможемо більш детально досліджувати вже статистику."
   ]
  },
  {
   "cell_type": "code",
   "execution_count": 17,
   "id": "ab9cf4af-ba85-4e6f-adb2-97ea3be5e359",
   "metadata": {
    "tags": []
   },
   "outputs": [
    {
     "data": {
      "text/html": [
       "<div>\n",
       "<style scoped>\n",
       "    .dataframe tbody tr th:only-of-type {\n",
       "        vertical-align: middle;\n",
       "    }\n",
       "\n",
       "    .dataframe tbody tr th {\n",
       "        vertical-align: top;\n",
       "    }\n",
       "\n",
       "    .dataframe thead th {\n",
       "        text-align: right;\n",
       "    }\n",
       "</style>\n",
       "<table border=\"1\" class=\"dataframe\">\n",
       "  <thead>\n",
       "    <tr style=\"text-align: right;\">\n",
       "      <th></th>\n",
       "      <th>Unnamed: 0</th>\n",
       "      <th>user_id</th>\n",
       "      <th>result</th>\n",
       "      <th>visual_authenticity_result</th>\n",
       "      <th>image_integrity_result</th>\n",
       "      <th>face_detection_result</th>\n",
       "      <th>image_quality_result</th>\n",
       "      <th>created_at</th>\n",
       "      <th>supported_document_result</th>\n",
       "      <th>conclusive_document_quality_result</th>\n",
       "      <th>...</th>\n",
       "      <th>data_validation_result</th>\n",
       "      <th>data_consistency_result</th>\n",
       "      <th>data_comparison_result</th>\n",
       "      <th>attempt_id</th>\n",
       "      <th>police_record_result</th>\n",
       "      <th>compromised_document_result</th>\n",
       "      <th>properties</th>\n",
       "      <th>sub_result</th>\n",
       "      <th>month</th>\n",
       "      <th>month_name</th>\n",
       "    </tr>\n",
       "  </thead>\n",
       "  <tbody>\n",
       "    <tr>\n",
       "      <th>343</th>\n",
       "      <td>173060</td>\n",
       "      <td>d3b53f315f574fbbb6815b6d79c97cd8</td>\n",
       "      <td>consider</td>\n",
       "      <td>NaN</td>\n",
       "      <td>consider</td>\n",
       "      <td>NaN</td>\n",
       "      <td>unidentified</td>\n",
       "      <td>2017-07-12 14:03:21</td>\n",
       "      <td>clear</td>\n",
       "      <td>NaN</td>\n",
       "      <td>...</td>\n",
       "      <td>NaN</td>\n",
       "      <td>NaN</td>\n",
       "      <td>NaN</td>\n",
       "      <td>62f820f1ddde4b72bced5ec576f6f90d</td>\n",
       "      <td>NaN</td>\n",
       "      <td>NaN</td>\n",
       "      <td>{}</td>\n",
       "      <td>rejected</td>\n",
       "      <td>7</td>\n",
       "      <td>July</td>\n",
       "    </tr>\n",
       "    <tr>\n",
       "      <th>345</th>\n",
       "      <td>169235</td>\n",
       "      <td>7110a661f0504bdab39c35b6fe78f013</td>\n",
       "      <td>consider</td>\n",
       "      <td>NaN</td>\n",
       "      <td>consider</td>\n",
       "      <td>NaN</td>\n",
       "      <td>unidentified</td>\n",
       "      <td>2017-07-16 18:22:18</td>\n",
       "      <td>clear</td>\n",
       "      <td>NaN</td>\n",
       "      <td>...</td>\n",
       "      <td>NaN</td>\n",
       "      <td>NaN</td>\n",
       "      <td>NaN</td>\n",
       "      <td>89c07b06a360475c83366d7d5fadfc50</td>\n",
       "      <td>NaN</td>\n",
       "      <td>NaN</td>\n",
       "      <td>{}</td>\n",
       "      <td>rejected</td>\n",
       "      <td>7</td>\n",
       "      <td>July</td>\n",
       "    </tr>\n",
       "    <tr>\n",
       "      <th>355</th>\n",
       "      <td>173188</td>\n",
       "      <td>f6c75ec8113f4072bb02e0cc49a84bbc</td>\n",
       "      <td>consider</td>\n",
       "      <td>NaN</td>\n",
       "      <td>consider</td>\n",
       "      <td>NaN</td>\n",
       "      <td>unidentified</td>\n",
       "      <td>2017-07-11 22:18:53</td>\n",
       "      <td>clear</td>\n",
       "      <td>NaN</td>\n",
       "      <td>...</td>\n",
       "      <td>NaN</td>\n",
       "      <td>NaN</td>\n",
       "      <td>NaN</td>\n",
       "      <td>1c60216eaec34da1899056fbffcc5a6b</td>\n",
       "      <td>NaN</td>\n",
       "      <td>NaN</td>\n",
       "      <td>{}</td>\n",
       "      <td>rejected</td>\n",
       "      <td>7</td>\n",
       "      <td>July</td>\n",
       "    </tr>\n",
       "    <tr>\n",
       "      <th>361</th>\n",
       "      <td>168038</td>\n",
       "      <td>161bf8c0b47a4c09bb01fe6cf43ba038</td>\n",
       "      <td>consider</td>\n",
       "      <td>NaN</td>\n",
       "      <td>consider</td>\n",
       "      <td>NaN</td>\n",
       "      <td>unidentified</td>\n",
       "      <td>2017-07-18 13:32:30</td>\n",
       "      <td>clear</td>\n",
       "      <td>NaN</td>\n",
       "      <td>...</td>\n",
       "      <td>NaN</td>\n",
       "      <td>NaN</td>\n",
       "      <td>NaN</td>\n",
       "      <td>53214463b0e24f02aca0717bd2552781</td>\n",
       "      <td>NaN</td>\n",
       "      <td>NaN</td>\n",
       "      <td>{}</td>\n",
       "      <td>rejected</td>\n",
       "      <td>7</td>\n",
       "      <td>July</td>\n",
       "    </tr>\n",
       "    <tr>\n",
       "      <th>367</th>\n",
       "      <td>160654</td>\n",
       "      <td>ca5b52b44fff4847b779b9db5e865c49</td>\n",
       "      <td>consider</td>\n",
       "      <td>NaN</td>\n",
       "      <td>consider</td>\n",
       "      <td>NaN</td>\n",
       "      <td>unidentified</td>\n",
       "      <td>2017-07-26 21:05:01</td>\n",
       "      <td>clear</td>\n",
       "      <td>NaN</td>\n",
       "      <td>...</td>\n",
       "      <td>NaN</td>\n",
       "      <td>NaN</td>\n",
       "      <td>NaN</td>\n",
       "      <td>6b00da82c8a64adf93ef6a8a445b0fd3</td>\n",
       "      <td>NaN</td>\n",
       "      <td>NaN</td>\n",
       "      <td>{}</td>\n",
       "      <td>rejected</td>\n",
       "      <td>7</td>\n",
       "      <td>July</td>\n",
       "    </tr>\n",
       "  </tbody>\n",
       "</table>\n",
       "<p>5 rows × 21 columns</p>\n",
       "</div>"
      ],
      "text/plain": [
       "     Unnamed: 0                           user_id    result  \\\n",
       "343      173060  d3b53f315f574fbbb6815b6d79c97cd8  consider   \n",
       "345      169235  7110a661f0504bdab39c35b6fe78f013  consider   \n",
       "355      173188  f6c75ec8113f4072bb02e0cc49a84bbc  consider   \n",
       "361      168038  161bf8c0b47a4c09bb01fe6cf43ba038  consider   \n",
       "367      160654  ca5b52b44fff4847b779b9db5e865c49  consider   \n",
       "\n",
       "    visual_authenticity_result image_integrity_result face_detection_result  \\\n",
       "343                        NaN               consider                   NaN   \n",
       "345                        NaN               consider                   NaN   \n",
       "355                        NaN               consider                   NaN   \n",
       "361                        NaN               consider                   NaN   \n",
       "367                        NaN               consider                   NaN   \n",
       "\n",
       "    image_quality_result          created_at supported_document_result  \\\n",
       "343         unidentified 2017-07-12 14:03:21                     clear   \n",
       "345         unidentified 2017-07-16 18:22:18                     clear   \n",
       "355         unidentified 2017-07-11 22:18:53                     clear   \n",
       "361         unidentified 2017-07-18 13:32:30                     clear   \n",
       "367         unidentified 2017-07-26 21:05:01                     clear   \n",
       "\n",
       "    conclusive_document_quality_result  ... data_validation_result  \\\n",
       "343                                NaN  ...                    NaN   \n",
       "345                                NaN  ...                    NaN   \n",
       "355                                NaN  ...                    NaN   \n",
       "361                                NaN  ...                    NaN   \n",
       "367                                NaN  ...                    NaN   \n",
       "\n",
       "    data_consistency_result data_comparison_result  \\\n",
       "343                     NaN                    NaN   \n",
       "345                     NaN                    NaN   \n",
       "355                     NaN                    NaN   \n",
       "361                     NaN                    NaN   \n",
       "367                     NaN                    NaN   \n",
       "\n",
       "                           attempt_id police_record_result  \\\n",
       "343  62f820f1ddde4b72bced5ec576f6f90d                  NaN   \n",
       "345  89c07b06a360475c83366d7d5fadfc50                  NaN   \n",
       "355  1c60216eaec34da1899056fbffcc5a6b                  NaN   \n",
       "361  53214463b0e24f02aca0717bd2552781                  NaN   \n",
       "367  6b00da82c8a64adf93ef6a8a445b0fd3                  NaN   \n",
       "\n",
       "    compromised_document_result properties sub_result month  month_name  \n",
       "343                         NaN         {}   rejected     7        July  \n",
       "345                         NaN         {}   rejected     7        July  \n",
       "355                         NaN         {}   rejected     7        July  \n",
       "361                         NaN         {}   rejected     7        July  \n",
       "367                         NaN         {}   rejected     7        July  \n",
       "\n",
       "[5 rows x 21 columns]"
      ]
     },
     "execution_count": 17,
     "metadata": {},
     "output_type": "execute_result"
    }
   ],
   "source": [
    "doc.query('month > 6 and sub_result == \"rejected\"').head()"
   ]
  },
  {
   "cell_type": "markdown",
   "id": "bad1aa5c-f487-4321-a667-7f5add15172c",
   "metadata": {},
   "source": [
    "На перший погляд, здається, що є проблеми з технічною частиною. Є пропущені значення в таких метриках, як: visual_authenticity_result, conclusive_document_quality_result, colour_picture_result, data_validation_result, data_consistency_result. У подальшому, змінна 'result' не надає нам 'clear'."
   ]
  },
  {
   "cell_type": "code",
   "execution_count": 211,
   "id": "0f8f588e-e3d0-4f05-82f6-dca15082e742",
   "metadata": {
    "tags": []
   },
   "outputs": [],
   "source": [
    "#doc.query('month == 7 and sub_result == \"rejected\"').head()"
   ]
  },
  {
   "cell_type": "code",
   "execution_count": 19,
   "id": "8f6fffbf-7cf0-4117-9017-7fae52ff2b9d",
   "metadata": {
    "tags": []
   },
   "outputs": [],
   "source": [
    "# doc.query('month == 8 and sub_result == \"rejected\"').head()"
   ]
  },
  {
   "cell_type": "code",
   "execution_count": 20,
   "id": "dc09e24c-fe17-4c35-814e-bcfbb99717f9",
   "metadata": {
    "tags": []
   },
   "outputs": [],
   "source": [
    "# doc.query('month == 9 and sub_result == \"rejected\"').head()"
   ]
  },
  {
   "cell_type": "code",
   "execution_count": 21,
   "id": "78d2acd9-4bf1-4665-b0f5-7996abbea52a",
   "metadata": {
    "tags": []
   },
   "outputs": [],
   "source": [
    "# doc.query('month == 10 and sub_result == \"rejected\"').head()"
   ]
  },
  {
   "cell_type": "code",
   "execution_count": 22,
   "id": "5200458c-ed1c-4d00-b3fc-a6c23e07413e",
   "metadata": {
    "tags": []
   },
   "outputs": [],
   "source": [
    "#doc.query('month > 6 and sub_result == \"caution\"')\n"
   ]
  },
  {
   "cell_type": "markdown",
   "id": "b1ceb8ac-4626-4f3c-853b-0ba91d4079b9",
   "metadata": {},
   "source": [
    "Далі ми перетворили наші рядкові значення в числові."
   ]
  },
  {
   "cell_type": "code",
   "execution_count": 23,
   "id": "bf8a50e6-40e7-4bfe-a119-3826b14e7abf",
   "metadata": {
    "tags": []
   },
   "outputs": [],
   "source": [
    "doc['result_flag'] = doc.result.apply( lambda x:  1 if x == 'rejected' else 0)"
   ]
  },
  {
   "cell_type": "code",
   "execution_count": 24,
   "id": "9f667062-1001-46ae-ba97-4c0e5697c784",
   "metadata": {
    "tags": []
   },
   "outputs": [],
   "source": [
    "doc['pass_rate'] = doc.result.apply( lambda x:  1 if x == 'clear' else 0)"
   ]
  },
  {
   "cell_type": "markdown",
   "id": "632508a1-4a0b-4bc4-9ab0-d2559c79daf0",
   "metadata": {},
   "source": [
    "Потім ми перетворили наші рядкові значення в числові."
   ]
  },
  {
   "cell_type": "code",
   "execution_count": 25,
   "id": "64d43d08-7a9c-4556-9961-c60c517f805e",
   "metadata": {
    "tags": []
   },
   "outputs": [
    {
     "data": {
      "text/html": [
       "<div>\n",
       "<style scoped>\n",
       "    .dataframe tbody tr th:only-of-type {\n",
       "        vertical-align: middle;\n",
       "    }\n",
       "\n",
       "    .dataframe tbody tr th {\n",
       "        vertical-align: top;\n",
       "    }\n",
       "\n",
       "    .dataframe thead th {\n",
       "        text-align: right;\n",
       "    }\n",
       "</style>\n",
       "<table border=\"1\" class=\"dataframe\">\n",
       "  <thead>\n",
       "    <tr style=\"text-align: right;\">\n",
       "      <th></th>\n",
       "      <th>count</th>\n",
       "      <th>mean</th>\n",
       "    </tr>\n",
       "    <tr>\n",
       "      <th>month</th>\n",
       "      <th></th>\n",
       "      <th></th>\n",
       "    </tr>\n",
       "  </thead>\n",
       "  <tbody>\n",
       "    <tr>\n",
       "      <th>5</th>\n",
       "      <td>58</td>\n",
       "      <td>0.965517</td>\n",
       "    </tr>\n",
       "    <tr>\n",
       "      <th>6</th>\n",
       "      <td>276</td>\n",
       "      <td>0.967391</td>\n",
       "    </tr>\n",
       "    <tr>\n",
       "      <th>7</th>\n",
       "      <td>1133</td>\n",
       "      <td>0.894086</td>\n",
       "    </tr>\n",
       "    <tr>\n",
       "      <th>8</th>\n",
       "      <td>1228</td>\n",
       "      <td>0.828176</td>\n",
       "    </tr>\n",
       "    <tr>\n",
       "      <th>9</th>\n",
       "      <td>1253</td>\n",
       "      <td>0.719074</td>\n",
       "    </tr>\n",
       "    <tr>\n",
       "      <th>10</th>\n",
       "      <td>1932</td>\n",
       "      <td>0.596273</td>\n",
       "    </tr>\n",
       "  </tbody>\n",
       "</table>\n",
       "</div>"
      ],
      "text/plain": [
       "       count      mean\n",
       "month                 \n",
       "5         58  0.965517\n",
       "6        276  0.967391\n",
       "7       1133  0.894086\n",
       "8       1228  0.828176\n",
       "9       1253  0.719074\n",
       "10      1932  0.596273"
      ]
     },
     "execution_count": 25,
     "metadata": {},
     "output_type": "execute_result"
    }
   ],
   "source": [
    "doc.groupby('month')['pass_rate'].agg(['count','mean'])"
   ]
  },
  {
   "cell_type": "markdown",
   "id": "044cfc57-8102-4ae1-978d-8571285d8b69",
   "metadata": {},
   "source": [
    "Подивимося на динаміку нашої метрики за допомогою графіка."
   ]
  },
  {
   "cell_type": "code",
   "execution_count": 213,
   "id": "5d1127f1-6e49-4a4a-8347-0b824d003130",
   "metadata": {
    "tags": []
   },
   "outputs": [
    {
     "data": {
      "text/plain": [
       "<Axes: xlabel='month'>"
      ]
     },
     "execution_count": 213,
     "metadata": {},
     "output_type": "execute_result"
    },
    {
     "data": {
      "image/png": "[encoded data removed]",
      "text/plain": [
       "<Figure size 1000x500 with 1 Axes>"
      ]
     },
     "metadata": {},
     "output_type": "display_data"
    }
   ],
   "source": [
    "plt.figure(figsize=(10,5))\n",
    "doc.groupby('month')['pass_rate'].agg('mean').plot()"
   ]
  },
  {
   "cell_type": "markdown",
   "id": "daeb4dd0-677e-4e7e-923d-365ee8da74cd",
   "metadata": {},
   "source": [
    "# Аналіз таблиці 'Face'"
   ]
  },
  {
   "cell_type": "markdown",
   "id": "b03b1a58-d9a9-4a1d-bd1b-3f10e1b3536e",
   "metadata": {},
   "source": [
    "Проведемо аналогічні дії щодо таблиці з обличчями. Перетворимо наші дані і подивимося на pass_rate."
   ]
  },
  {
   "cell_type": "code",
   "execution_count": 27,
   "id": "a762fa72-6095-4ae6-8830-77b03149a981",
   "metadata": {
    "tags": []
   },
   "outputs": [
    {
     "data": {
      "text/html": [
       "<div>\n",
       "<style scoped>\n",
       "    .dataframe tbody tr th:only-of-type {\n",
       "        vertical-align: middle;\n",
       "    }\n",
       "\n",
       "    .dataframe tbody tr th {\n",
       "        vertical-align: top;\n",
       "    }\n",
       "\n",
       "    .dataframe thead th {\n",
       "        text-align: right;\n",
       "    }\n",
       "</style>\n",
       "<table border=\"1\" class=\"dataframe\">\n",
       "  <thead>\n",
       "    <tr style=\"text-align: right;\">\n",
       "      <th></th>\n",
       "      <th>Unnamed: 0</th>\n",
       "      <th>user_id</th>\n",
       "      <th>result</th>\n",
       "      <th>face_comparison_result</th>\n",
       "      <th>created_at</th>\n",
       "      <th>facial_image_integrity_result</th>\n",
       "      <th>visual_authenticity_result</th>\n",
       "      <th>properties</th>\n",
       "      <th>attempt_id</th>\n",
       "    </tr>\n",
       "  </thead>\n",
       "  <tbody>\n",
       "    <tr>\n",
       "      <th>0</th>\n",
       "      <td>58</td>\n",
       "      <td>ecee468d4a124a8eafeec61271cd0da1</td>\n",
       "      <td>clear</td>\n",
       "      <td>clear</td>\n",
       "      <td>2017-06-20 17:50:43</td>\n",
       "      <td>clear</td>\n",
       "      <td>clear</td>\n",
       "      <td>{}</td>\n",
       "      <td>9e4277fc1ddf4a059da3dd2db35f6c76</td>\n",
       "    </tr>\n",
       "    <tr>\n",
       "      <th>1</th>\n",
       "      <td>76</td>\n",
       "      <td>1895d2b1782740bb8503b9bf3edf1ead</td>\n",
       "      <td>clear</td>\n",
       "      <td>clear</td>\n",
       "      <td>2017-06-20 13:28:00</td>\n",
       "      <td>clear</td>\n",
       "      <td>clear</td>\n",
       "      <td>{}</td>\n",
       "      <td>ab259d3cb33b4711b0a5174e4de1d72c</td>\n",
       "    </tr>\n",
       "    <tr>\n",
       "      <th>2</th>\n",
       "      <td>217</td>\n",
       "      <td>e71b27ea145249878b10f5b3f1fb4317</td>\n",
       "      <td>clear</td>\n",
       "      <td>clear</td>\n",
       "      <td>2017-06-18 21:18:31</td>\n",
       "      <td>clear</td>\n",
       "      <td>clear</td>\n",
       "      <td>{}</td>\n",
       "      <td>2b7f1c6f3fc5416286d9f1c97b15e8f9</td>\n",
       "    </tr>\n",
       "    <tr>\n",
       "      <th>3</th>\n",
       "      <td>221</td>\n",
       "      <td>f512dc74bd1b4c109d9bd2981518a9f8</td>\n",
       "      <td>clear</td>\n",
       "      <td>clear</td>\n",
       "      <td>2017-06-18 22:17:29</td>\n",
       "      <td>clear</td>\n",
       "      <td>clear</td>\n",
       "      <td>{}</td>\n",
       "      <td>ab5989375b514968b2ff2b21095ed1ef</td>\n",
       "    </tr>\n",
       "    <tr>\n",
       "      <th>4</th>\n",
       "      <td>251</td>\n",
       "      <td>0685c7945d1349b7a954e1a0869bae4b</td>\n",
       "      <td>clear</td>\n",
       "      <td>clear</td>\n",
       "      <td>2017-06-18 19:54:21</td>\n",
       "      <td>clear</td>\n",
       "      <td>clear</td>\n",
       "      <td>{}</td>\n",
       "      <td>dd1b0b2dbe234f4cb747cc054de2fdd3</td>\n",
       "    </tr>\n",
       "  </tbody>\n",
       "</table>\n",
       "</div>"
      ],
      "text/plain": [
       "   Unnamed: 0                           user_id result face_comparison_result  \\\n",
       "0          58  ecee468d4a124a8eafeec61271cd0da1  clear                  clear   \n",
       "1          76  1895d2b1782740bb8503b9bf3edf1ead  clear                  clear   \n",
       "2         217  e71b27ea145249878b10f5b3f1fb4317  clear                  clear   \n",
       "3         221  f512dc74bd1b4c109d9bd2981518a9f8  clear                  clear   \n",
       "4         251  0685c7945d1349b7a954e1a0869bae4b  clear                  clear   \n",
       "\n",
       "            created_at facial_image_integrity_result  \\\n",
       "0  2017-06-20 17:50:43                         clear   \n",
       "1  2017-06-20 13:28:00                         clear   \n",
       "2  2017-06-18 21:18:31                         clear   \n",
       "3  2017-06-18 22:17:29                         clear   \n",
       "4  2017-06-18 19:54:21                         clear   \n",
       "\n",
       "  visual_authenticity_result properties                        attempt_id  \n",
       "0                      clear         {}  9e4277fc1ddf4a059da3dd2db35f6c76  \n",
       "1                      clear         {}  ab259d3cb33b4711b0a5174e4de1d72c  \n",
       "2                      clear         {}  2b7f1c6f3fc5416286d9f1c97b15e8f9  \n",
       "3                      clear         {}  ab5989375b514968b2ff2b21095ed1ef  \n",
       "4                      clear         {}  dd1b0b2dbe234f4cb747cc054de2fdd3  "
      ]
     },
     "execution_count": 27,
     "metadata": {},
     "output_type": "execute_result"
    }
   ],
   "source": [
    "face.head()"
   ]
  },
  {
   "cell_type": "code",
   "execution_count": 219,
   "id": "e504b653-c187-4f5b-abff-0202e67a50cd",
   "metadata": {
    "tags": []
   },
   "outputs": [],
   "source": [
    "face['created_at'] = pd.to_datetime(face.created_at, format='%Y-%m-%d %H:%M:%S')"
   ]
  },
  {
   "cell_type": "code",
   "execution_count": 220,
   "id": "02024599-bd31-4bf5-99c1-b7240f066708",
   "metadata": {
    "tags": []
   },
   "outputs": [],
   "source": [
    "face['month'] = face.created_at.dt.month"
   ]
  },
  {
   "cell_type": "code",
   "execution_count": 225,
   "id": "259e193b-9544-4104-87f0-3e92cb11151a",
   "metadata": {
    "tags": []
   },
   "outputs": [],
   "source": [
    "face['pass_rate'] = face.result.apply( lambda x:  1 if x == 'clear' else 0)"
   ]
  },
  {
   "cell_type": "code",
   "execution_count": 226,
   "id": "46fb8b10-0f32-44a2-9e9d-8545bec95ec8",
   "metadata": {
    "tags": []
   },
   "outputs": [
    {
     "data": {
      "text/html": [
       "<div>\n",
       "<style scoped>\n",
       "    .dataframe tbody tr th:only-of-type {\n",
       "        vertical-align: middle;\n",
       "    }\n",
       "\n",
       "    .dataframe tbody tr th {\n",
       "        vertical-align: top;\n",
       "    }\n",
       "\n",
       "    .dataframe thead th {\n",
       "        text-align: right;\n",
       "    }\n",
       "</style>\n",
       "<table border=\"1\" class=\"dataframe\">\n",
       "  <thead>\n",
       "    <tr style=\"text-align: right;\">\n",
       "      <th></th>\n",
       "      <th>count</th>\n",
       "      <th>mean</th>\n",
       "    </tr>\n",
       "    <tr>\n",
       "      <th>month</th>\n",
       "      <th></th>\n",
       "      <th></th>\n",
       "    </tr>\n",
       "  </thead>\n",
       "  <tbody>\n",
       "    <tr>\n",
       "      <th>5</th>\n",
       "      <td>58</td>\n",
       "      <td>0.862069</td>\n",
       "    </tr>\n",
       "    <tr>\n",
       "      <th>6</th>\n",
       "      <td>276</td>\n",
       "      <td>0.938406</td>\n",
       "    </tr>\n",
       "    <tr>\n",
       "      <th>7</th>\n",
       "      <td>1133</td>\n",
       "      <td>0.915269</td>\n",
       "    </tr>\n",
       "    <tr>\n",
       "      <th>8</th>\n",
       "      <td>1228</td>\n",
       "      <td>0.920195</td>\n",
       "    </tr>\n",
       "    <tr>\n",
       "      <th>9</th>\n",
       "      <td>1253</td>\n",
       "      <td>0.934557</td>\n",
       "    </tr>\n",
       "    <tr>\n",
       "      <th>10</th>\n",
       "      <td>1932</td>\n",
       "      <td>0.965839</td>\n",
       "    </tr>\n",
       "  </tbody>\n",
       "</table>\n",
       "</div>"
      ],
      "text/plain": [
       "       count      mean\n",
       "month                 \n",
       "5         58  0.862069\n",
       "6        276  0.938406\n",
       "7       1133  0.915269\n",
       "8       1228  0.920195\n",
       "9       1253  0.934557\n",
       "10      1932  0.965839"
      ]
     },
     "execution_count": 226,
     "metadata": {},
     "output_type": "execute_result"
    }
   ],
   "source": [
    "face.groupby('month')['pass_rate'].agg(['count','mean'])"
   ]
  },
  {
   "cell_type": "markdown",
   "id": "e2207b51-beeb-44bc-a352-c37575d4e6c8",
   "metadata": {},
   "source": [
    "І на цьому графіку ми можемо побачити динаміку pass_rate. Тут картина, очевидно, інша: був невеликий спад після 6 місяців, але потім метрика починає зростати. Отже, на цьому етапі ми вже можемо припустити, що в глобальному розумінні pass_rate падає, ймовірно, з причин, вказаних у першій таблиці. Далі об'єднаємо таблиці і подивимося вже на злиті дані."
   ]
  },
  {
   "cell_type": "code",
   "execution_count": 227,
   "id": "658d5373-cdbd-4618-9a67-bd69fc728bf2",
   "metadata": {
    "tags": []
   },
   "outputs": [
    {
     "data": {
      "text/plain": [
       "<Axes: xlabel='month'>"
      ]
     },
     "execution_count": 227,
     "metadata": {},
     "output_type": "execute_result"
    },
    {
     "data": {
      "image/png": "[encoded data removed]",
      "text/plain": [
       "<Figure size 1000x500 with 1 Axes>"
      ]
     },
     "metadata": {},
     "output_type": "display_data"
    }
   ],
   "source": [
    "plt.figure(figsize=(10,5))\n",
    "face.groupby('month')['pass_rate'].agg('mean').plot()"
   ]
  },
  {
   "cell_type": "markdown",
   "id": "15cb4b5b-949a-48be-9ec2-fd7c70e5fcee",
   "metadata": {},
   "source": [
    "Тепер давайте розглянемо унікальні рядки. Вони повинні співпадати за кількістю, оскільки при об'єднанні, якщо є дублікати, виникає так зване \"декартовий добуток\", і дані будуть множитися."
   ]
  },
  {
   "cell_type": "code",
   "execution_count": 28,
   "id": "7bb2143b-db9a-4ea8-aa64-68b6e2b57126",
   "metadata": {
    "tags": []
   },
   "outputs": [
    {
     "data": {
      "text/plain": [
       "5848"
      ]
     },
     "execution_count": 28,
     "metadata": {},
     "output_type": "execute_result"
    }
   ],
   "source": [
    "doc.user_id.nunique()"
   ]
  },
  {
   "cell_type": "code",
   "execution_count": 29,
   "id": "6def9753-71c3-4bc8-ad3b-a16a39ac45ec",
   "metadata": {
    "tags": []
   },
   "outputs": [
    {
     "data": {
      "text/plain": [
       "5848"
      ]
     },
     "execution_count": 29,
     "metadata": {},
     "output_type": "execute_result"
    }
   ],
   "source": [
    "face.user_id.nunique()"
   ]
  },
  {
   "cell_type": "code",
   "execution_count": 30,
   "id": "af9907d0-3458-4032-aac2-88cdbd86eb0c",
   "metadata": {
    "tags": []
   },
   "outputs": [],
   "source": [
    "df = doc.merge(face,how='left',on = ['user_id','attempt_id'],suffixes = ['_doc','_face'])"
   ]
  },
  {
   "cell_type": "code",
   "execution_count": 31,
   "id": "fbb11b40-5f48-4cd8-8b69-e65eef792361",
   "metadata": {
    "tags": []
   },
   "outputs": [
    {
     "data": {
      "text/html": [
       "<div>\n",
       "<style scoped>\n",
       "    .dataframe tbody tr th:only-of-type {\n",
       "        vertical-align: middle;\n",
       "    }\n",
       "\n",
       "    .dataframe tbody tr th {\n",
       "        vertical-align: top;\n",
       "    }\n",
       "\n",
       "    .dataframe thead th {\n",
       "        text-align: right;\n",
       "    }\n",
       "</style>\n",
       "<table border=\"1\" class=\"dataframe\">\n",
       "  <thead>\n",
       "    <tr style=\"text-align: right;\">\n",
       "      <th></th>\n",
       "      <th>Unnamed: 0_doc</th>\n",
       "      <th>user_id</th>\n",
       "      <th>result_doc</th>\n",
       "      <th>visual_authenticity_result_doc</th>\n",
       "      <th>image_integrity_result</th>\n",
       "      <th>face_detection_result</th>\n",
       "      <th>image_quality_result</th>\n",
       "      <th>created_at_doc</th>\n",
       "      <th>supported_document_result</th>\n",
       "      <th>conclusive_document_quality_result</th>\n",
       "      <th>...</th>\n",
       "      <th>month_name</th>\n",
       "      <th>result_flag</th>\n",
       "      <th>pass_rate</th>\n",
       "      <th>Unnamed: 0_face</th>\n",
       "      <th>result_face</th>\n",
       "      <th>face_comparison_result</th>\n",
       "      <th>created_at_face</th>\n",
       "      <th>facial_image_integrity_result</th>\n",
       "      <th>visual_authenticity_result_face</th>\n",
       "      <th>properties_face</th>\n",
       "    </tr>\n",
       "  </thead>\n",
       "  <tbody>\n",
       "    <tr>\n",
       "      <th>0</th>\n",
       "      <td>27241</td>\n",
       "      <td>8190909e566647a5b6afeee9b4ec6c6a</td>\n",
       "      <td>clear</td>\n",
       "      <td>clear</td>\n",
       "      <td>clear</td>\n",
       "      <td>clear</td>\n",
       "      <td>clear</td>\n",
       "      <td>2017-05-25 08:38:56</td>\n",
       "      <td>clear</td>\n",
       "      <td>NaN</td>\n",
       "      <td>...</td>\n",
       "      <td>May</td>\n",
       "      <td>0</td>\n",
       "      <td>1</td>\n",
       "      <td>27241</td>\n",
       "      <td>consider</td>\n",
       "      <td>consider</td>\n",
       "      <td>2017-05-25 08:38:56</td>\n",
       "      <td>clear</td>\n",
       "      <td>clear</td>\n",
       "      <td>{'score': 0.42}</td>\n",
       "    </tr>\n",
       "    <tr>\n",
       "      <th>1</th>\n",
       "      <td>28369</td>\n",
       "      <td>6b62136dfde348a99855e350294aaf5d</td>\n",
       "      <td>clear</td>\n",
       "      <td>clear</td>\n",
       "      <td>clear</td>\n",
       "      <td>clear</td>\n",
       "      <td>clear</td>\n",
       "      <td>2017-05-31 08:12:51</td>\n",
       "      <td>clear</td>\n",
       "      <td>NaN</td>\n",
       "      <td>...</td>\n",
       "      <td>May</td>\n",
       "      <td>0</td>\n",
       "      <td>1</td>\n",
       "      <td>28369</td>\n",
       "      <td>clear</td>\n",
       "      <td>clear</td>\n",
       "      <td>2017-05-31 08:12:51</td>\n",
       "      <td>clear</td>\n",
       "      <td>clear</td>\n",
       "      <td>{'score': 0.61}</td>\n",
       "    </tr>\n",
       "    <tr>\n",
       "      <th>2</th>\n",
       "      <td>27988</td>\n",
       "      <td>73679363dccc46fa9f34a4fefd0d76e3</td>\n",
       "      <td>clear</td>\n",
       "      <td>clear</td>\n",
       "      <td>clear</td>\n",
       "      <td>clear</td>\n",
       "      <td>clear</td>\n",
       "      <td>2017-05-29 15:07:04</td>\n",
       "      <td>clear</td>\n",
       "      <td>NaN</td>\n",
       "      <td>...</td>\n",
       "      <td>May</td>\n",
       "      <td>0</td>\n",
       "      <td>1</td>\n",
       "      <td>27988</td>\n",
       "      <td>consider</td>\n",
       "      <td>NaN</td>\n",
       "      <td>2017-05-29 15:07:04</td>\n",
       "      <td>consider</td>\n",
       "      <td>clear</td>\n",
       "      <td>{}</td>\n",
       "    </tr>\n",
       "    <tr>\n",
       "      <th>3</th>\n",
       "      <td>27529</td>\n",
       "      <td>07857065dfa64db386739ec4fff47856</td>\n",
       "      <td>consider</td>\n",
       "      <td>clear</td>\n",
       "      <td>clear</td>\n",
       "      <td>clear</td>\n",
       "      <td>clear</td>\n",
       "      <td>2017-05-26 19:00:35</td>\n",
       "      <td>clear</td>\n",
       "      <td>NaN</td>\n",
       "      <td>...</td>\n",
       "      <td>May</td>\n",
       "      <td>0</td>\n",
       "      <td>0</td>\n",
       "      <td>27529</td>\n",
       "      <td>clear</td>\n",
       "      <td>clear</td>\n",
       "      <td>2017-05-26 19:00:35</td>\n",
       "      <td>clear</td>\n",
       "      <td>clear</td>\n",
       "      <td>{'score': 0.65}</td>\n",
       "    </tr>\n",
       "    <tr>\n",
       "      <th>4</th>\n",
       "      <td>47987</td>\n",
       "      <td>9f887805b2af49069349ff107e0bca01</td>\n",
       "      <td>clear</td>\n",
       "      <td>clear</td>\n",
       "      <td>clear</td>\n",
       "      <td>clear</td>\n",
       "      <td>clear</td>\n",
       "      <td>2017-05-29 14:38:21</td>\n",
       "      <td>clear</td>\n",
       "      <td>NaN</td>\n",
       "      <td>...</td>\n",
       "      <td>May</td>\n",
       "      <td>0</td>\n",
       "      <td>1</td>\n",
       "      <td>47987</td>\n",
       "      <td>clear</td>\n",
       "      <td>clear</td>\n",
       "      <td>2017-05-29 14:38:21</td>\n",
       "      <td>clear</td>\n",
       "      <td>clear</td>\n",
       "      <td>{'score': 0.59}</td>\n",
       "    </tr>\n",
       "  </tbody>\n",
       "</table>\n",
       "<p>5 rows × 30 columns</p>\n",
       "</div>"
      ],
      "text/plain": [
       "   Unnamed: 0_doc                           user_id result_doc  \\\n",
       "0           27241  8190909e566647a5b6afeee9b4ec6c6a      clear   \n",
       "1           28369  6b62136dfde348a99855e350294aaf5d      clear   \n",
       "2           27988  73679363dccc46fa9f34a4fefd0d76e3      clear   \n",
       "3           27529  07857065dfa64db386739ec4fff47856   consider   \n",
       "4           47987  9f887805b2af49069349ff107e0bca01      clear   \n",
       "\n",
       "  visual_authenticity_result_doc image_integrity_result face_detection_result  \\\n",
       "0                          clear                  clear                 clear   \n",
       "1                          clear                  clear                 clear   \n",
       "2                          clear                  clear                 clear   \n",
       "3                          clear                  clear                 clear   \n",
       "4                          clear                  clear                 clear   \n",
       "\n",
       "  image_quality_result      created_at_doc supported_document_result  \\\n",
       "0                clear 2017-05-25 08:38:56                     clear   \n",
       "1                clear 2017-05-31 08:12:51                     clear   \n",
       "2                clear 2017-05-29 15:07:04                     clear   \n",
       "3                clear 2017-05-26 19:00:35                     clear   \n",
       "4                clear 2017-05-29 14:38:21                     clear   \n",
       "\n",
       "  conclusive_document_quality_result  ... month_name result_flag pass_rate  \\\n",
       "0                                NaN  ...        May           0         1   \n",
       "1                                NaN  ...        May           0         1   \n",
       "2                                NaN  ...        May           0         1   \n",
       "3                                NaN  ...        May           0         0   \n",
       "4                                NaN  ...        May           0         1   \n",
       "\n",
       "  Unnamed: 0_face result_face face_comparison_result      created_at_face  \\\n",
       "0           27241    consider               consider  2017-05-25 08:38:56   \n",
       "1           28369       clear                  clear  2017-05-31 08:12:51   \n",
       "2           27988    consider                    NaN  2017-05-29 15:07:04   \n",
       "3           27529       clear                  clear  2017-05-26 19:00:35   \n",
       "4           47987       clear                  clear  2017-05-29 14:38:21   \n",
       "\n",
       "  facial_image_integrity_result visual_authenticity_result_face  \\\n",
       "0                         clear                           clear   \n",
       "1                         clear                           clear   \n",
       "2                      consider                           clear   \n",
       "3                         clear                           clear   \n",
       "4                         clear                           clear   \n",
       "\n",
       "   properties_face  \n",
       "0  {'score': 0.42}  \n",
       "1  {'score': 0.61}  \n",
       "2               {}  \n",
       "3  {'score': 0.65}  \n",
       "4  {'score': 0.59}  \n",
       "\n",
       "[5 rows x 30 columns]"
      ]
     },
     "execution_count": 31,
     "metadata": {},
     "output_type": "execute_result"
    }
   ],
   "source": [
    "df.head()"
   ]
  },
  {
   "cell_type": "markdown",
   "id": "d61a9181-15d9-462d-ae27-c4ab91d79c6a",
   "metadata": {},
   "source": [
    "Після об'єднання наших таблиць моєю стратегією було відібрати людей, які з першого разу не змогли пройти верифікацію, і ретельно дослідити їхню поведінку."
   ]
  },
  {
   "cell_type": "code",
   "execution_count": 34,
   "id": "d55105cc-6088-437d-9a30-268658950177",
   "metadata": {
    "tags": []
   },
   "outputs": [],
   "source": [
    "duplicated_users = df.user_id\\\n",
    "                     .value_counts()\\\n",
    "                     .to_frame()\\\n",
    "                     .query('count>1')\\\n",
    "                     .reset_index().user_id"
   ]
  },
  {
   "cell_type": "code",
   "execution_count": 35,
   "id": "e0658b32-c9d7-42dd-9670-0e8fc02b641b",
   "metadata": {
    "tags": []
   },
   "outputs": [
    {
     "data": {
      "text/plain": [
       "0     12028371d6c943babadf18224ebe96cb\n",
       "1     67a943369bbc48e187c3a07b35302f65\n",
       "2     b6f9bdc46bb543bab45e6c34e850adf7\n",
       "3     2e98fa65f2fe4d76a1ff0f30bd4048a9\n",
       "4     0b3fe48a14554fa687e5152a1c20d768\n",
       "5     f218379dd76b4058958450cb9aaea143\n",
       "6     0a743f7f87884a51bd8c165e0d3e70ed\n",
       "7     176a83a802e04eb8b36e7c69731aeda4\n",
       "8     1b7a0094e1174512a16f36885aaf5187\n",
       "9     76e5f56153ee4fbdb80372e2a6425622\n",
       "10    d05a9ec2f1a54c03942b6fc9fd6b44cc\n",
       "11    5ccac3c8cb00411e86ef8ebf41e8c86d\n",
       "12    0b677d16a072467eb95dd396e25840d9\n",
       "13    b3b7554c4ea443758809912ef11b525c\n",
       "14    c835775c51f347868c15198f7f7ee9d5\n",
       "15    730ef3d0916747ba98d6b5ab150fdbec\n",
       "16    cb300e2235c848598e410662c71d51d6\n",
       "17    54c536e2b4894a88a0cc42c156548e1f\n",
       "18    e1419879e0f948a191bc3a9ea90e0fdd\n",
       "19    9a2239187ebb404c9765c6867f4270a5\n",
       "20    932a394bb5754565b221af3c7e51c11e\n",
       "21    aac901afba47473a8302fa7493f2f121\n",
       "22    a7661341ef9d4852bc72d1fc38bec51d\n",
       "23    527691d1867747d58a9357421f61a2b1\n",
       "24    6a556fd0048b4912b5a3a8a9b61a41ba\n",
       "25    bfc44280c2fd4ba7a57c16edaa4573ba\n",
       "26    edc77146e73c48be994bf45036a8c48c\n",
       "27    b795749ca0584d03b345e270f03463ea\n",
       "28    b1bf904844304dc09bab1f3e8372582b\n",
       "29    9b2b9c5402cd45bfad6c715707cd8dd6\n",
       "30    0be42f25621d46739d902fda1abfb67c\n",
       "31    e96cd0bcab7c4dfbb6b9294f17afc577\n",
       "Name: user_id, dtype: object"
      ]
     },
     "execution_count": 35,
     "metadata": {},
     "output_type": "execute_result"
    }
   ],
   "source": [
    "duplicated_users"
   ]
  },
  {
   "cell_type": "code",
   "execution_count": 36,
   "id": "13e8c387-b49e-4c3d-85dd-227348732127",
   "metadata": {
    "tags": []
   },
   "outputs": [],
   "source": [
    "duplicated_users = df[df['user_id'].isin(duplicated_users)]"
   ]
  },
  {
   "cell_type": "code",
   "execution_count": 37,
   "id": "63fb29ad-71aa-4dca-b7f7-f65c5f70dac9",
   "metadata": {
    "tags": []
   },
   "outputs": [],
   "source": [
    "duplicated_users = duplicated_users.sort_values('user_id')"
   ]
  },
  {
   "cell_type": "code",
   "execution_count": 38,
   "id": "99dbd52d-e494-4e68-880c-6007290adf64",
   "metadata": {
    "tags": []
   },
   "outputs": [],
   "source": [
    "duplicated_users['result_doc'] = duplicated_users.result_doc.replace('consider',0).replace('clear',1)"
   ]
  },
  {
   "cell_type": "code",
   "execution_count": 39,
   "id": "b4101d17-4719-4971-ad72-4daf595fbbe6",
   "metadata": {
    "tags": []
   },
   "outputs": [],
   "source": [
    "duplicated_users['result_face'] = duplicated_users.result_face.replace('consider',0).replace('clear',1)"
   ]
  },
  {
   "cell_type": "markdown",
   "id": "aea92ed2-5fdf-4b73-9e4c-2e28db6fb57c",
   "metadata": {},
   "source": [
    "Через цей код ми розглядали середні значення по кінцевому результату за основними метриками. Тільки для тих користувачів, які з першого разу не пройшли верифікацію. І картина тут така, що в середньому за вимірами, пов'язаними з документами, помилка менша вдвічі, ніж за перевіркою обличчя.Це також може свідчити про те, що проблема знаходиться на боці даних, пов'язаних з документами."
   ]
  },
  {
   "cell_type": "code",
   "execution_count": 40,
   "id": "02897683-109f-4775-a156-9ea26f121266",
   "metadata": {
    "tags": []
   },
   "outputs": [
    {
     "data": {
      "text/html": [
       "<div>\n",
       "<style scoped>\n",
       "    .dataframe tbody tr th:only-of-type {\n",
       "        vertical-align: middle;\n",
       "    }\n",
       "\n",
       "    .dataframe tbody tr th {\n",
       "        vertical-align: top;\n",
       "    }\n",
       "\n",
       "    .dataframe thead th {\n",
       "        text-align: right;\n",
       "    }\n",
       "</style>\n",
       "<table border=\"1\" class=\"dataframe\">\n",
       "  <thead>\n",
       "    <tr style=\"text-align: right;\">\n",
       "      <th></th>\n",
       "      <th>result_doc</th>\n",
       "    </tr>\n",
       "  </thead>\n",
       "  <tbody>\n",
       "    <tr>\n",
       "      <th>count</th>\n",
       "      <td>64.000000</td>\n",
       "    </tr>\n",
       "    <tr>\n",
       "      <th>mean</th>\n",
       "      <td>0.421875</td>\n",
       "    </tr>\n",
       "  </tbody>\n",
       "</table>\n",
       "</div>"
      ],
      "text/plain": [
       "       result_doc\n",
       "count   64.000000\n",
       "mean     0.421875"
      ]
     },
     "execution_count": 40,
     "metadata": {},
     "output_type": "execute_result"
    }
   ],
   "source": [
    "duplicated_users.agg({'result_doc': ['count','mean']})"
   ]
  },
  {
   "cell_type": "code",
   "execution_count": 41,
   "id": "3ce89e1d-5349-49f7-a5b8-4267a4863fa0",
   "metadata": {
    "tags": []
   },
   "outputs": [
    {
     "data": {
      "text/html": [
       "<div>\n",
       "<style scoped>\n",
       "    .dataframe tbody tr th:only-of-type {\n",
       "        vertical-align: middle;\n",
       "    }\n",
       "\n",
       "    .dataframe tbody tr th {\n",
       "        vertical-align: top;\n",
       "    }\n",
       "\n",
       "    .dataframe thead th {\n",
       "        text-align: right;\n",
       "    }\n",
       "</style>\n",
       "<table border=\"1\" class=\"dataframe\">\n",
       "  <thead>\n",
       "    <tr style=\"text-align: right;\">\n",
       "      <th></th>\n",
       "      <th>result_face</th>\n",
       "    </tr>\n",
       "  </thead>\n",
       "  <tbody>\n",
       "    <tr>\n",
       "      <th>count</th>\n",
       "      <td>64.000000</td>\n",
       "    </tr>\n",
       "    <tr>\n",
       "      <th>mean</th>\n",
       "      <td>0.890625</td>\n",
       "    </tr>\n",
       "  </tbody>\n",
       "</table>\n",
       "</div>"
      ],
      "text/plain": [
       "       result_face\n",
       "count    64.000000\n",
       "mean      0.890625"
      ]
     },
     "execution_count": 41,
     "metadata": {},
     "output_type": "execute_result"
    }
   ],
   "source": [
    "duplicated_users.agg({'result_face': ['count','mean']})"
   ]
  },
  {
   "cell_type": "code",
   "execution_count": 42,
   "id": "25e919da-f76f-41e7-9d84-ee6aa6de14c1",
   "metadata": {
    "tags": []
   },
   "outputs": [],
   "source": [
    "duplicated_users['created_at_doc'] = pd.to_datetime(duplicated_users.created_at_doc, format='%Y-%m-%d %H:%M:%S')"
   ]
  },
  {
   "cell_type": "code",
   "execution_count": 43,
   "id": "f3005072-9c58-4f60-9436-2b60b239e051",
   "metadata": {
    "tags": []
   },
   "outputs": [
    {
     "data": {
      "text/plain": [
       "2989   2017-09-30 09:55:07\n",
       "3755   2017-09-30 10:06:16\n",
       "3367   2017-09-19 17:58:58\n",
       "2914   2017-09-19 17:39:42\n",
       "1588   2017-08-31 22:30:14\n",
       "               ...        \n",
       "3853   2017-09-19 20:27:06\n",
       "700    2017-07-17 13:26:25\n",
       "1266   2017-07-17 13:39:47\n",
       "780    2017-07-20 15:39:32\n",
       "1406   2017-07-20 18:46:48\n",
       "Name: created_at_doc, Length: 64, dtype: datetime64[ns]"
      ]
     },
     "execution_count": 43,
     "metadata": {},
     "output_type": "execute_result"
    }
   ],
   "source": [
    "duplicated_users.created_at_doc"
   ]
  },
  {
   "cell_type": "code",
   "execution_count": 44,
   "id": "241b87b2-bc0c-4cd2-92fe-457c05a8d25e",
   "metadata": {
    "tags": []
   },
   "outputs": [],
   "source": [
    "duplicated_users['month'] = duplicated_users.created_at_doc.dt.month"
   ]
  },
  {
   "cell_type": "code",
   "execution_count": 45,
   "id": "5527f8c7-a12d-4449-b037-61eacf89410d",
   "metadata": {
    "tags": []
   },
   "outputs": [],
   "source": [
    "duplicated_users['final_result'] = duplicated_users.result_doc * duplicated_users.result_face"
   ]
  },
  {
   "cell_type": "code",
   "execution_count": 46,
   "id": "b8f4e8ed-b398-4d87-91d3-5e03162beb04",
   "metadata": {
    "tags": []
   },
   "outputs": [
    {
     "data": {
      "text/plain": [
       "month\n",
       "10    16\n",
       "9     15\n",
       "8      4\n",
       "7      3\n",
       "6      2\n",
       "Name: count, dtype: int64"
      ]
     },
     "execution_count": 46,
     "metadata": {},
     "output_type": "execute_result"
    }
   ],
   "source": [
    "duplicated_users.query('final_result==0').month.value_counts()"
   ]
  },
  {
   "cell_type": "markdown",
   "id": "95eb1058-aa44-4835-86d1-7365a0cba860",
   "metadata": {},
   "source": [
    "Тут ми побачили, що остаточно, коли перевірку не пройшли, найбільше випадків сталося в 9 та 10 місяцях (серед тих, хто не пройшов вдруге)."
   ]
  },
  {
   "cell_type": "markdown",
   "id": "253bb071-91c4-4251-a43d-71b855190212",
   "metadata": {
    "tags": []
   },
   "source": [
    "тепер попрацюємо з основною таблицею та розрахуємо нашу головну метрику"
   ]
  },
  {
   "cell_type": "code",
   "execution_count": 48,
   "id": "a396cc17-418f-4c07-bc67-8c9c5d6306db",
   "metadata": {
    "tags": []
   },
   "outputs": [],
   "source": [
    "df['pass_rate'] = (df[['result_doc','result_face']].sum(axis=1) == 2)*1"
   ]
  },
  {
   "cell_type": "code",
   "execution_count": 49,
   "id": "f6613345-f75d-43e2-a43e-601ea216e392",
   "metadata": {
    "tags": []
   },
   "outputs": [
    {
     "data": {
      "text/plain": [
       "Index(['Unnamed: 0_doc', 'user_id', 'result_doc',\n",
       "       'visual_authenticity_result_doc', 'image_integrity_result',\n",
       "       'face_detection_result', 'image_quality_result', 'created_at_doc',\n",
       "       'supported_document_result', 'conclusive_document_quality_result',\n",
       "       'colour_picture_result', 'data_validation_result',\n",
       "       'data_consistency_result', 'data_comparison_result', 'attempt_id',\n",
       "       'police_record_result', 'compromised_document_result', 'properties_doc',\n",
       "       'sub_result', 'month', 'month_name', 'result_flag', 'pass_rate',\n",
       "       'Unnamed: 0_face', 'result_face', 'face_comparison_result',\n",
       "       'created_at_face', 'facial_image_integrity_result',\n",
       "       'visual_authenticity_result_face', 'properties_face'],\n",
       "      dtype='object')"
      ]
     },
     "execution_count": 49,
     "metadata": {},
     "output_type": "execute_result"
    }
   ],
   "source": [
    "df.columns"
   ]
  },
  {
   "cell_type": "code",
   "execution_count": 50,
   "id": "0116944f-2a1a-44a6-8173-c3e8f38dfa8f",
   "metadata": {
    "tags": []
   },
   "outputs": [],
   "source": [
    "flags = ['pass_rate','result_doc',\n",
    "       'visual_authenticity_result_doc', 'image_integrity_result',\n",
    "       'face_detection_result', 'image_quality_result',\n",
    "       'supported_document_result', 'conclusive_document_quality_result',\n",
    "       'colour_picture_result', 'data_validation_result',\n",
    "       'data_consistency_result', 'data_comparison_result',\n",
    "       'police_record_result', 'compromised_document_result',\n",
    "       'sub_result', 'result_face',\n",
    "       'face_comparison_result',\n",
    "       'facial_image_integrity_result', 'visual_authenticity_result_face']"
   ]
  },
  {
   "cell_type": "markdown",
   "id": "d00c5076-4c2b-42fd-a845-c15b13543bc9",
   "metadata": {},
   "source": [
    "в подальшому ми замінимо дані типу рядка на числа, такі як бінарні результати. Для цього ми відіберемо всі наші метрики і потім розглядатимемо їх статистику."
   ]
  },
  {
   "cell_type": "markdown",
   "id": "7ce9d868-a4b9-434e-be55-74c9857c817c",
   "metadata": {},
   "source": [
    "Також сконвертуємо наші дані"
   ]
  },
  {
   "cell_type": "code",
   "execution_count": 51,
   "id": "e44c8aeb-d3bd-455a-aa4a-8668c0768d8a",
   "metadata": {
    "tags": []
   },
   "outputs": [],
   "source": [
    "df['created_at_doc'] = pd.to_datetime(df.created_at_doc, format='%Y-%m-%d %H:%M:%S')"
   ]
  },
  {
   "cell_type": "code",
   "execution_count": 52,
   "id": "eb4b5f99-56b5-4080-bf5d-7d950c7a7b28",
   "metadata": {
    "tags": []
   },
   "outputs": [],
   "source": [
    "df['month'] = df.created_at_doc.dt.month"
   ]
  },
  {
   "cell_type": "code",
   "execution_count": 53,
   "id": "4f029be6-f0dc-4b0f-9628-9ce905f7e438",
   "metadata": {
    "tags": []
   },
   "outputs": [
    {
     "data": {
      "text/plain": [
       "Unnamed: 0_doc                                 int64\n",
       "user_id                                       object\n",
       "result_doc                                    object\n",
       "visual_authenticity_result_doc                object\n",
       "image_integrity_result                        object\n",
       "face_detection_result                         object\n",
       "image_quality_result                          object\n",
       "created_at_doc                        datetime64[ns]\n",
       "supported_document_result                     object\n",
       "conclusive_document_quality_result            object\n",
       "colour_picture_result                         object\n",
       "data_validation_result                        object\n",
       "data_consistency_result                       object\n",
       "data_comparison_result                        object\n",
       "attempt_id                                    object\n",
       "police_record_result                          object\n",
       "compromised_document_result                   object\n",
       "properties_doc                                object\n",
       "sub_result                                    object\n",
       "month                                          int32\n",
       "month_name                                    object\n",
       "result_flag                                    int64\n",
       "pass_rate                                      int32\n",
       "Unnamed: 0_face                                int64\n",
       "result_face                                   object\n",
       "face_comparison_result                        object\n",
       "created_at_face                               object\n",
       "facial_image_integrity_result                 object\n",
       "visual_authenticity_result_face               object\n",
       "properties_face                               object\n",
       "dtype: object"
      ]
     },
     "execution_count": 53,
     "metadata": {},
     "output_type": "execute_result"
    }
   ],
   "source": [
    "df.dtypes"
   ]
  },
  {
   "cell_type": "markdown",
   "id": "d61d68df-ff28-433d-955e-68ba7a963aa2",
   "metadata": {},
   "source": [
    "У нас є лише один позитивний результат, який має значення \"clear\", всі інші ми розглядаємо як непройдену верифікацію."
   ]
  },
  {
   "cell_type": "code",
   "execution_count": 55,
   "id": "df3f87d7-1e09-428f-bfea-b2eff809834c",
   "metadata": {
    "tags": []
   },
   "outputs": [],
   "source": [
    "df = df.replace('clear',1).replace('consider',0).replace('caution',0).replace('rejected',0).replace('suspected',0).replace('unidentified',0)"
   ]
  },
  {
   "cell_type": "code",
   "execution_count": 56,
   "id": "0d8a3c52-b3fc-409b-b8c5-85adbebed207",
   "metadata": {
    "tags": []
   },
   "outputs": [],
   "source": [
    "user_to_drop = duplicated_users.user_id"
   ]
  },
  {
   "cell_type": "code",
   "execution_count": 57,
   "id": "eb0f3fba-07cb-44e1-baa3-5565eac2acfd",
   "metadata": {
    "tags": []
   },
   "outputs": [
    {
     "data": {
      "text/plain": [
       "count      5816\n",
       "nunique    5816\n",
       "Name: user_id, dtype: int64"
      ]
     },
     "execution_count": 57,
     "metadata": {},
     "output_type": "execute_result"
    }
   ],
   "source": [
    "df[~df['user_id'].isin(user_to_drop)]['user_id'].agg(['count','nunique'])"
   ]
  },
  {
   "cell_type": "markdown",
   "id": "3baf49f6-8e3f-402c-b873-40fb8a0e5754",
   "metadata": {
    "tags": []
   },
   "source": [
    "Тут ми видалили користувачів, які пройшли другий раз верифікацію."
   ]
  },
  {
   "cell_type": "code",
   "execution_count": 58,
   "id": "f4c91c21-284c-4a5a-8ea3-e523b12e4b9a",
   "metadata": {
    "tags": []
   },
   "outputs": [],
   "source": [
    "df = df[~df['user_id'].isin(user_to_drop)]"
   ]
  },
  {
   "cell_type": "code",
   "execution_count": 59,
   "id": "5f0cb091-71c0-4719-8b08-8c388299e6e7",
   "metadata": {
    "tags": []
   },
   "outputs": [
    {
     "data": {
      "text/plain": [
       "(5816, 29)"
      ]
     },
     "execution_count": 59,
     "metadata": {},
     "output_type": "execute_result"
    }
   ],
   "source": [
    "df.shape"
   ]
  },
  {
   "cell_type": "code",
   "execution_count": 60,
   "id": "eef68769-1ab0-4b9a-9a56-0d0ed6b9c190",
   "metadata": {
    "tags": []
   },
   "outputs": [
    {
     "data": {
      "text/html": [
       "<div>\n",
       "<style scoped>\n",
       "    .dataframe tbody tr th:only-of-type {\n",
       "        vertical-align: middle;\n",
       "    }\n",
       "\n",
       "    .dataframe tbody tr th {\n",
       "        vertical-align: top;\n",
       "    }\n",
       "\n",
       "    .dataframe thead th {\n",
       "        text-align: right;\n",
       "    }\n",
       "</style>\n",
       "<table border=\"1\" class=\"dataframe\">\n",
       "  <thead>\n",
       "    <tr style=\"text-align: right;\">\n",
       "      <th></th>\n",
       "      <th>Unnamed: 0_doc</th>\n",
       "      <th>user_id</th>\n",
       "      <th>result_doc</th>\n",
       "      <th>visual_authenticity_result_doc</th>\n",
       "      <th>image_integrity_result</th>\n",
       "      <th>face_detection_result</th>\n",
       "      <th>image_quality_result</th>\n",
       "      <th>created_at_doc</th>\n",
       "      <th>supported_document_result</th>\n",
       "      <th>conclusive_document_quality_result</th>\n",
       "      <th>...</th>\n",
       "      <th>month</th>\n",
       "      <th>month_name</th>\n",
       "      <th>result_flag</th>\n",
       "      <th>Unnamed: 0_face</th>\n",
       "      <th>result_face</th>\n",
       "      <th>face_comparison_result</th>\n",
       "      <th>created_at_face</th>\n",
       "      <th>facial_image_integrity_result</th>\n",
       "      <th>visual_authenticity_result_face</th>\n",
       "      <th>properties_face</th>\n",
       "    </tr>\n",
       "  </thead>\n",
       "  <tbody>\n",
       "    <tr>\n",
       "      <th>0</th>\n",
       "      <td>27241</td>\n",
       "      <td>8190909e566647a5b6afeee9b4ec6c6a</td>\n",
       "      <td>1</td>\n",
       "      <td>1.0</td>\n",
       "      <td>1</td>\n",
       "      <td>1.0</td>\n",
       "      <td>1</td>\n",
       "      <td>2017-05-25 08:38:56</td>\n",
       "      <td>1.0</td>\n",
       "      <td>NaN</td>\n",
       "      <td>...</td>\n",
       "      <td>5</td>\n",
       "      <td>May</td>\n",
       "      <td>0</td>\n",
       "      <td>27241</td>\n",
       "      <td>0</td>\n",
       "      <td>0.0</td>\n",
       "      <td>2017-05-25 08:38:56</td>\n",
       "      <td>1.0</td>\n",
       "      <td>1.0</td>\n",
       "      <td>{'score': 0.42}</td>\n",
       "    </tr>\n",
       "    <tr>\n",
       "      <th>1</th>\n",
       "      <td>28369</td>\n",
       "      <td>6b62136dfde348a99855e350294aaf5d</td>\n",
       "      <td>1</td>\n",
       "      <td>1.0</td>\n",
       "      <td>1</td>\n",
       "      <td>1.0</td>\n",
       "      <td>1</td>\n",
       "      <td>2017-05-31 08:12:51</td>\n",
       "      <td>1.0</td>\n",
       "      <td>NaN</td>\n",
       "      <td>...</td>\n",
       "      <td>5</td>\n",
       "      <td>May</td>\n",
       "      <td>0</td>\n",
       "      <td>28369</td>\n",
       "      <td>1</td>\n",
       "      <td>1.0</td>\n",
       "      <td>2017-05-31 08:12:51</td>\n",
       "      <td>1.0</td>\n",
       "      <td>1.0</td>\n",
       "      <td>{'score': 0.61}</td>\n",
       "    </tr>\n",
       "    <tr>\n",
       "      <th>2</th>\n",
       "      <td>27988</td>\n",
       "      <td>73679363dccc46fa9f34a4fefd0d76e3</td>\n",
       "      <td>1</td>\n",
       "      <td>1.0</td>\n",
       "      <td>1</td>\n",
       "      <td>1.0</td>\n",
       "      <td>1</td>\n",
       "      <td>2017-05-29 15:07:04</td>\n",
       "      <td>1.0</td>\n",
       "      <td>NaN</td>\n",
       "      <td>...</td>\n",
       "      <td>5</td>\n",
       "      <td>May</td>\n",
       "      <td>0</td>\n",
       "      <td>27988</td>\n",
       "      <td>0</td>\n",
       "      <td>NaN</td>\n",
       "      <td>2017-05-29 15:07:04</td>\n",
       "      <td>0.0</td>\n",
       "      <td>1.0</td>\n",
       "      <td>{}</td>\n",
       "    </tr>\n",
       "    <tr>\n",
       "      <th>3</th>\n",
       "      <td>27529</td>\n",
       "      <td>07857065dfa64db386739ec4fff47856</td>\n",
       "      <td>0</td>\n",
       "      <td>1.0</td>\n",
       "      <td>1</td>\n",
       "      <td>1.0</td>\n",
       "      <td>1</td>\n",
       "      <td>2017-05-26 19:00:35</td>\n",
       "      <td>1.0</td>\n",
       "      <td>NaN</td>\n",
       "      <td>...</td>\n",
       "      <td>5</td>\n",
       "      <td>May</td>\n",
       "      <td>0</td>\n",
       "      <td>27529</td>\n",
       "      <td>1</td>\n",
       "      <td>1.0</td>\n",
       "      <td>2017-05-26 19:00:35</td>\n",
       "      <td>1.0</td>\n",
       "      <td>1.0</td>\n",
       "      <td>{'score': 0.65}</td>\n",
       "    </tr>\n",
       "    <tr>\n",
       "      <th>4</th>\n",
       "      <td>47987</td>\n",
       "      <td>9f887805b2af49069349ff107e0bca01</td>\n",
       "      <td>1</td>\n",
       "      <td>1.0</td>\n",
       "      <td>1</td>\n",
       "      <td>1.0</td>\n",
       "      <td>1</td>\n",
       "      <td>2017-05-29 14:38:21</td>\n",
       "      <td>1.0</td>\n",
       "      <td>NaN</td>\n",
       "      <td>...</td>\n",
       "      <td>5</td>\n",
       "      <td>May</td>\n",
       "      <td>0</td>\n",
       "      <td>47987</td>\n",
       "      <td>1</td>\n",
       "      <td>1.0</td>\n",
       "      <td>2017-05-29 14:38:21</td>\n",
       "      <td>1.0</td>\n",
       "      <td>1.0</td>\n",
       "      <td>{'score': 0.59}</td>\n",
       "    </tr>\n",
       "  </tbody>\n",
       "</table>\n",
       "<p>5 rows × 29 columns</p>\n",
       "</div>"
      ],
      "text/plain": [
       "   Unnamed: 0_doc                           user_id  result_doc  \\\n",
       "0           27241  8190909e566647a5b6afeee9b4ec6c6a           1   \n",
       "1           28369  6b62136dfde348a99855e350294aaf5d           1   \n",
       "2           27988  73679363dccc46fa9f34a4fefd0d76e3           1   \n",
       "3           27529  07857065dfa64db386739ec4fff47856           0   \n",
       "4           47987  9f887805b2af49069349ff107e0bca01           1   \n",
       "\n",
       "   visual_authenticity_result_doc  image_integrity_result  \\\n",
       "0                             1.0                       1   \n",
       "1                             1.0                       1   \n",
       "2                             1.0                       1   \n",
       "3                             1.0                       1   \n",
       "4                             1.0                       1   \n",
       "\n",
       "   face_detection_result  image_quality_result      created_at_doc  \\\n",
       "0                    1.0                     1 2017-05-25 08:38:56   \n",
       "1                    1.0                     1 2017-05-31 08:12:51   \n",
       "2                    1.0                     1 2017-05-29 15:07:04   \n",
       "3                    1.0                     1 2017-05-26 19:00:35   \n",
       "4                    1.0                     1 2017-05-29 14:38:21   \n",
       "\n",
       "   supported_document_result  conclusive_document_quality_result  ...  month  \\\n",
       "0                        1.0                                 NaN  ...      5   \n",
       "1                        1.0                                 NaN  ...      5   \n",
       "2                        1.0                                 NaN  ...      5   \n",
       "3                        1.0                                 NaN  ...      5   \n",
       "4                        1.0                                 NaN  ...      5   \n",
       "\n",
       "   month_name  result_flag  Unnamed: 0_face result_face  \\\n",
       "0         May            0            27241           0   \n",
       "1         May            0            28369           1   \n",
       "2         May            0            27988           0   \n",
       "3         May            0            27529           1   \n",
       "4         May            0            47987           1   \n",
       "\n",
       "   face_comparison_result      created_at_face facial_image_integrity_result  \\\n",
       "0                     0.0  2017-05-25 08:38:56                           1.0   \n",
       "1                     1.0  2017-05-31 08:12:51                           1.0   \n",
       "2                     NaN  2017-05-29 15:07:04                           0.0   \n",
       "3                     1.0  2017-05-26 19:00:35                           1.0   \n",
       "4                     1.0  2017-05-29 14:38:21                           1.0   \n",
       "\n",
       "   visual_authenticity_result_face  properties_face  \n",
       "0                              1.0  {'score': 0.42}  \n",
       "1                              1.0  {'score': 0.61}  \n",
       "2                              1.0               {}  \n",
       "3                              1.0  {'score': 0.65}  \n",
       "4                              1.0  {'score': 0.59}  \n",
       "\n",
       "[5 rows x 29 columns]"
      ]
     },
     "execution_count": 60,
     "metadata": {},
     "output_type": "execute_result"
    }
   ],
   "source": [
    "df.head()"
   ]
  },
  {
   "cell_type": "code",
   "execution_count": 61,
   "id": "385794f0-7f91-47ae-aa5a-87693456297a",
   "metadata": {
    "tags": []
   },
   "outputs": [
    {
     "data": {
      "text/plain": [
       "['pass_rate',\n",
       " 'result_doc',\n",
       " 'visual_authenticity_result_doc',\n",
       " 'image_integrity_result',\n",
       " 'face_detection_result',\n",
       " 'image_quality_result',\n",
       " 'supported_document_result',\n",
       " 'conclusive_document_quality_result',\n",
       " 'colour_picture_result',\n",
       " 'data_validation_result',\n",
       " 'data_consistency_result',\n",
       " 'data_comparison_result',\n",
       " 'police_record_result',\n",
       " 'compromised_document_result',\n",
       " 'sub_result',\n",
       " 'result_face',\n",
       " 'face_comparison_result',\n",
       " 'facial_image_integrity_result',\n",
       " 'visual_authenticity_result_face']"
      ]
     },
     "execution_count": 61,
     "metadata": {},
     "output_type": "execute_result"
    }
   ],
   "source": [
    "flags"
   ]
  },
  {
   "cell_type": "markdown",
   "id": "64c3ff4c-980e-4a67-b37a-0a0c2492a2a2",
   "metadata": {},
   "source": [
    "сделаем опереации преобразования наших метрик"
   ]
  },
  {
   "cell_type": "code",
   "execution_count": 62,
   "id": "8b3e6313-5377-4b04-8c38-a4339011965e",
   "metadata": {
    "tags": []
   },
   "outputs": [
    {
     "data": {
      "text/plain": [
       "0       1\n",
       "1       1\n",
       "2       1\n",
       "3       0\n",
       "4       1\n",
       "       ..\n",
       "5875    1\n",
       "5876    0\n",
       "5877    1\n",
       "5878    1\n",
       "5879    1\n",
       "Name: sub_result, Length: 5816, dtype: int64"
      ]
     },
     "execution_count": 62,
     "metadata": {},
     "output_type": "execute_result"
    }
   ],
   "source": [
    "df.sub_result"
   ]
  },
  {
   "cell_type": "code",
   "execution_count": 63,
   "id": "ad68b913-b7fa-4417-9a76-d2b7bc81f1c0",
   "metadata": {
    "tags": []
   },
   "outputs": [
    {
     "data": {
      "text/plain": [
       "0       1\n",
       "1       1\n",
       "2       1\n",
       "3       0\n",
       "4       1\n",
       "       ..\n",
       "5875    1\n",
       "5876    0\n",
       "5877    1\n",
       "5878    1\n",
       "5879    1\n",
       "Name: sub_result, Length: 5816, dtype: int32"
      ]
     },
     "execution_count": 63,
     "metadata": {},
     "output_type": "execute_result"
    }
   ],
   "source": [
    "df.sub_result.astype('int')"
   ]
  },
  {
   "cell_type": "code",
   "execution_count": 80,
   "id": "67c9c966-93a6-4496-8331-be62cc393cf6",
   "metadata": {
    "tags": []
   },
   "outputs": [],
   "source": [
    "df.supported_document_result.fillna('0',inplace = True)"
   ]
  },
  {
   "cell_type": "code",
   "execution_count": 82,
   "id": "e7f347b2-a333-4eb3-b6a2-34e3df29d250",
   "metadata": {
    "tags": []
   },
   "outputs": [
    {
     "data": {
      "text/plain": [
       "0       1\n",
       "1       1\n",
       "2       1\n",
       "3       1\n",
       "4       1\n",
       "       ..\n",
       "5875    1\n",
       "5876    1\n",
       "5877    1\n",
       "5878    1\n",
       "5879    1\n",
       "Name: supported_document_result, Length: 5816, dtype: int32"
      ]
     },
     "execution_count": 82,
     "metadata": {},
     "output_type": "execute_result"
    }
   ],
   "source": [
    "df.supported_document_result.astype('int')"
   ]
  },
  {
   "cell_type": "code",
   "execution_count": 83,
   "id": "bd67e32a-13f2-46bb-8b59-d73ed69e11c4",
   "metadata": {
    "tags": []
   },
   "outputs": [
    {
     "data": {
      "text/plain": [
       "Unnamed: 0_doc                                 int64\n",
       "user_id                                       object\n",
       "result_doc                                     int64\n",
       "visual_authenticity_result_doc               float64\n",
       "image_integrity_result                         int64\n",
       "face_detection_result                        float64\n",
       "image_quality_result                           int64\n",
       "created_at_doc                        datetime64[ns]\n",
       "supported_document_result                     object\n",
       "conclusive_document_quality_result           float64\n",
       "colour_picture_result                        float64\n",
       "data_validation_result                       float64\n",
       "data_consistency_result                      float64\n",
       "data_comparison_result                       float64\n",
       "attempt_id                                    object\n",
       "police_record_result                         float64\n",
       "compromised_document_result                  float64\n",
       "properties_doc                                object\n",
       "sub_result                                     int64\n",
       "month                                          int32\n",
       "month_name                                    object\n",
       "result_flag                                    int64\n",
       "Unnamed: 0_face                                int64\n",
       "result_face                                    int64\n",
       "face_comparison_result                       float64\n",
       "created_at_face                               object\n",
       "facial_image_integrity_result                float64\n",
       "visual_authenticity_result_face              float64\n",
       "properties_face                               object\n",
       "pass_rate                                      int32\n",
       "dtype: object"
      ]
     },
     "execution_count": 83,
     "metadata": {},
     "output_type": "execute_result"
    }
   ],
   "source": [
    "df.dtypes"
   ]
  },
  {
   "cell_type": "code",
   "execution_count": 90,
   "id": "799e2052-4219-40df-8b07-e01fe20683be",
   "metadata": {
    "tags": []
   },
   "outputs": [],
   "source": [
    "df.supported_document_result.fillna(0,inplace=True)"
   ]
  },
  {
   "cell_type": "code",
   "execution_count": 98,
   "id": "18b24285-e80a-4a9a-a3fc-7d6103c3abe3",
   "metadata": {
    "tags": []
   },
   "outputs": [],
   "source": [
    "df['supported_document_result'] = df.supported_document_result.astype('int')"
   ]
  },
  {
   "cell_type": "code",
   "execution_count": 99,
   "id": "49fd0972-97ab-4680-9c01-740b7788812b",
   "metadata": {
    "tags": []
   },
   "outputs": [],
   "source": [
    "pd.set_option('display.max_columns', None)"
   ]
  },
  {
   "cell_type": "markdown",
   "id": "7c192663-d698-4f1a-8711-892e0e484476",
   "metadata": {},
   "source": [
    "Хочу відзначити, що тут та ж сама логіка, що і раніше. За такою ж схемою ми розраховуємо наш показник pass_rate. Оскільки у нас є дві колонки 'result' – одна з першої таблиці, а інша – з другої, остаточний результат буде в колонці 'result', де попередні дві колонки перемножуються, і в кінцевому підсумку отримується або 1, або 0."
   ]
  },
  {
   "cell_type": "code",
   "execution_count": 100,
   "id": "fcafa82e-8605-4deb-afe2-3eec16f56210",
   "metadata": {
    "tags": []
   },
   "outputs": [],
   "source": [
    "df['pass_rate'] = (df[['result_doc','result_face']].sum(axis=1) == 2)*1"
   ]
  },
  {
   "cell_type": "markdown",
   "id": "39f91cd2-014c-4071-91e8-d3d858a0082b",
   "metadata": {},
   "source": [
    "Також у нас є колонки, де є пропущені значення."
   ]
  },
  {
   "cell_type": "code",
   "execution_count": 101,
   "id": "2ca32dc2-efbf-4561-aac6-519f7d7b420e",
   "metadata": {
    "tags": []
   },
   "outputs": [
    {
     "data": {
      "text/plain": [
       "pass_rate                             0.000000\n",
       "result_doc                            0.000000\n",
       "visual_authenticity_result_doc        0.149587\n",
       "image_integrity_result                0.000000\n",
       "face_detection_result                 0.149759\n",
       "image_quality_result                  0.000000\n",
       "supported_document_result             0.000000\n",
       "conclusive_document_quality_result    0.464580\n",
       "colour_picture_result                 0.464580\n",
       "data_validation_result                0.192228\n",
       "data_consistency_result               0.484869\n",
       "data_comparison_result                0.985385\n",
       "police_record_result                  0.183631\n",
       "compromised_document_result           0.739856\n",
       "sub_result                            0.000000\n",
       "result_face                           0.000000\n",
       "face_comparison_result                0.058116\n",
       "facial_image_integrity_result         0.003267\n",
       "visual_authenticity_result_face       0.149587\n",
       "dtype: float64"
      ]
     },
     "execution_count": 101,
     "metadata": {},
     "output_type": "execute_result"
    }
   ],
   "source": [
    "df[flags].isna().mean()"
   ]
  },
  {
   "cell_type": "markdown",
   "id": "2294df98-83d6-462b-9b9d-21773cb4a325",
   "metadata": {},
   "source": [
    "На мій погляд, це, можливо, найважливіша таблиця в цьому проекті, оскільки вона показує нам всю динаміку всіх наших метрик. Як можна помітити, у середньому є колонки, де особливо нічого не змінюється. Наприклад, зверніть увагу на колонки \"conclusive_document_quality_result\" та \"image_integrity_result\".\n",
    "\n",
    "Давайте розглянемо період до 7 місяця: здається, що не існувало функції \"conclusive_document_quality_result\", потім з'явилося близько 600 людей. Пізніше компанія розгорнула цих користувачів, і їх з'явилося майже удвічі більше. Однак наш показник \"pass_rate\" знизився. Також помітно, що він суттєво впав на метриці \"image_integrity_result\", хоча за кількістю людей різниці практично немає, як в попередньому випадку. Ми також переконались, що наш \"pass_rate\" правильно відображає нашу динаміку, оскільки в ньому немає жодного пропущеного значення.\n",
    "\n",
    "Далі ми б хотіли якось математично підтвердити, що це не випадковість, щоб зрозуміти, що цей параметр дійсно впливає на наш спад. Ми можемо помітити, що у нас є лінійний зв'язок між метриками, і в даному випадку ми можемо перевірити кореляцію."
   ]
  },
  {
   "cell_type": "code",
   "execution_count": 102,
   "id": "6cdddaa4-d180-4090-bb2d-c47e3ceb44e9",
   "metadata": {
    "tags": []
   },
   "outputs": [
    {
     "data": {
      "text/html": [
       "<div>\n",
       "<style scoped>\n",
       "    .dataframe tbody tr th:only-of-type {\n",
       "        vertical-align: middle;\n",
       "    }\n",
       "\n",
       "    .dataframe tbody tr th {\n",
       "        vertical-align: top;\n",
       "    }\n",
       "\n",
       "    .dataframe thead tr th {\n",
       "        text-align: left;\n",
       "    }\n",
       "\n",
       "    .dataframe thead tr:last-of-type th {\n",
       "        text-align: right;\n",
       "    }\n",
       "</style>\n",
       "<table border=\"1\" class=\"dataframe\">\n",
       "  <thead>\n",
       "    <tr>\n",
       "      <th></th>\n",
       "      <th colspan=\"2\" halign=\"left\">pass_rate</th>\n",
       "      <th colspan=\"2\" halign=\"left\">result_doc</th>\n",
       "      <th colspan=\"2\" halign=\"left\">visual_authenticity_result_doc</th>\n",
       "      <th colspan=\"2\" halign=\"left\">image_integrity_result</th>\n",
       "      <th colspan=\"2\" halign=\"left\">face_detection_result</th>\n",
       "      <th colspan=\"2\" halign=\"left\">image_quality_result</th>\n",
       "      <th colspan=\"2\" halign=\"left\">supported_document_result</th>\n",
       "      <th colspan=\"2\" halign=\"left\">conclusive_document_quality_result</th>\n",
       "      <th colspan=\"2\" halign=\"left\">colour_picture_result</th>\n",
       "      <th colspan=\"2\" halign=\"left\">data_validation_result</th>\n",
       "      <th colspan=\"2\" halign=\"left\">data_consistency_result</th>\n",
       "      <th colspan=\"2\" halign=\"left\">data_comparison_result</th>\n",
       "      <th colspan=\"2\" halign=\"left\">police_record_result</th>\n",
       "      <th colspan=\"2\" halign=\"left\">compromised_document_result</th>\n",
       "      <th colspan=\"2\" halign=\"left\">sub_result</th>\n",
       "      <th colspan=\"2\" halign=\"left\">result_face</th>\n",
       "      <th colspan=\"2\" halign=\"left\">face_comparison_result</th>\n",
       "      <th colspan=\"2\" halign=\"left\">facial_image_integrity_result</th>\n",
       "      <th colspan=\"2\" halign=\"left\">visual_authenticity_result_face</th>\n",
       "    </tr>\n",
       "    <tr>\n",
       "      <th></th>\n",
       "      <th>count</th>\n",
       "      <th>mean</th>\n",
       "      <th>count</th>\n",
       "      <th>mean</th>\n",
       "      <th>count</th>\n",
       "      <th>mean</th>\n",
       "      <th>count</th>\n",
       "      <th>mean</th>\n",
       "      <th>count</th>\n",
       "      <th>mean</th>\n",
       "      <th>count</th>\n",
       "      <th>mean</th>\n",
       "      <th>count</th>\n",
       "      <th>mean</th>\n",
       "      <th>count</th>\n",
       "      <th>mean</th>\n",
       "      <th>count</th>\n",
       "      <th>mean</th>\n",
       "      <th>count</th>\n",
       "      <th>mean</th>\n",
       "      <th>count</th>\n",
       "      <th>mean</th>\n",
       "      <th>count</th>\n",
       "      <th>mean</th>\n",
       "      <th>count</th>\n",
       "      <th>mean</th>\n",
       "      <th>count</th>\n",
       "      <th>mean</th>\n",
       "      <th>count</th>\n",
       "      <th>mean</th>\n",
       "      <th>count</th>\n",
       "      <th>mean</th>\n",
       "      <th>count</th>\n",
       "      <th>mean</th>\n",
       "      <th>count</th>\n",
       "      <th>mean</th>\n",
       "      <th>count</th>\n",
       "      <th>mean</th>\n",
       "    </tr>\n",
       "    <tr>\n",
       "      <th>month</th>\n",
       "      <th></th>\n",
       "      <th></th>\n",
       "      <th></th>\n",
       "      <th></th>\n",
       "      <th></th>\n",
       "      <th></th>\n",
       "      <th></th>\n",
       "      <th></th>\n",
       "      <th></th>\n",
       "      <th></th>\n",
       "      <th></th>\n",
       "      <th></th>\n",
       "      <th></th>\n",
       "      <th></th>\n",
       "      <th></th>\n",
       "      <th></th>\n",
       "      <th></th>\n",
       "      <th></th>\n",
       "      <th></th>\n",
       "      <th></th>\n",
       "      <th></th>\n",
       "      <th></th>\n",
       "      <th></th>\n",
       "      <th></th>\n",
       "      <th></th>\n",
       "      <th></th>\n",
       "      <th></th>\n",
       "      <th></th>\n",
       "      <th></th>\n",
       "      <th></th>\n",
       "      <th></th>\n",
       "      <th></th>\n",
       "      <th></th>\n",
       "      <th></th>\n",
       "      <th></th>\n",
       "      <th></th>\n",
       "      <th></th>\n",
       "      <th></th>\n",
       "    </tr>\n",
       "  </thead>\n",
       "  <tbody>\n",
       "    <tr>\n",
       "      <th>7</th>\n",
       "      <td>1123</td>\n",
       "      <td>0.846839</td>\n",
       "      <td>1123</td>\n",
       "      <td>0.894034</td>\n",
       "      <td>1027</td>\n",
       "      <td>0.983447</td>\n",
       "      <td>1123</td>\n",
       "      <td>0.914515</td>\n",
       "      <td>1027</td>\n",
       "      <td>1.000000</td>\n",
       "      <td>1123</td>\n",
       "      <td>0.924310</td>\n",
       "      <td>1123</td>\n",
       "      <td>0.989314</td>\n",
       "      <td>0</td>\n",
       "      <td>NaN</td>\n",
       "      <td>0</td>\n",
       "      <td>NaN</td>\n",
       "      <td>974</td>\n",
       "      <td>0.991786</td>\n",
       "      <td>613</td>\n",
       "      <td>0.998369</td>\n",
       "      <td>0</td>\n",
       "      <td>NaN</td>\n",
       "      <td>998</td>\n",
       "      <td>1.0</td>\n",
       "      <td>0</td>\n",
       "      <td>NaN</td>\n",
       "      <td>1123</td>\n",
       "      <td>0.894034</td>\n",
       "      <td>1123</td>\n",
       "      <td>0.916296</td>\n",
       "      <td>1037</td>\n",
       "      <td>0.992285</td>\n",
       "      <td>1123</td>\n",
       "      <td>0.923419</td>\n",
       "      <td>1027</td>\n",
       "      <td>0.983447</td>\n",
       "    </tr>\n",
       "    <tr>\n",
       "      <th>8</th>\n",
       "      <td>1219</td>\n",
       "      <td>0.791632</td>\n",
       "      <td>1219</td>\n",
       "      <td>0.830189</td>\n",
       "      <td>1057</td>\n",
       "      <td>0.973510</td>\n",
       "      <td>1219</td>\n",
       "      <td>0.857260</td>\n",
       "      <td>1057</td>\n",
       "      <td>0.993377</td>\n",
       "      <td>1219</td>\n",
       "      <td>0.881050</td>\n",
       "      <td>1219</td>\n",
       "      <td>0.982773</td>\n",
       "      <td>579</td>\n",
       "      <td>0.982729</td>\n",
       "      <td>579</td>\n",
       "      <td>0.996546</td>\n",
       "      <td>1005</td>\n",
       "      <td>0.991045</td>\n",
       "      <td>674</td>\n",
       "      <td>0.998516</td>\n",
       "      <td>0</td>\n",
       "      <td>NaN</td>\n",
       "      <td>1020</td>\n",
       "      <td>1.0</td>\n",
       "      <td>0</td>\n",
       "      <td>NaN</td>\n",
       "      <td>1219</td>\n",
       "      <td>0.830189</td>\n",
       "      <td>1219</td>\n",
       "      <td>0.921247</td>\n",
       "      <td>1124</td>\n",
       "      <td>0.999110</td>\n",
       "      <td>1219</td>\n",
       "      <td>0.922067</td>\n",
       "      <td>1057</td>\n",
       "      <td>0.973510</td>\n",
       "    </tr>\n",
       "    <tr>\n",
       "      <th>9</th>\n",
       "      <td>1232</td>\n",
       "      <td>0.703734</td>\n",
       "      <td>1232</td>\n",
       "      <td>0.725649</td>\n",
       "      <td>1022</td>\n",
       "      <td>0.979452</td>\n",
       "      <td>1232</td>\n",
       "      <td>0.748377</td>\n",
       "      <td>1021</td>\n",
       "      <td>0.991185</td>\n",
       "      <td>1232</td>\n",
       "      <td>0.837662</td>\n",
       "      <td>1232</td>\n",
       "      <td>0.990260</td>\n",
       "      <td>1022</td>\n",
       "      <td>0.902153</td>\n",
       "      <td>1022</td>\n",
       "      <td>1.000000</td>\n",
       "      <td>970</td>\n",
       "      <td>0.984536</td>\n",
       "      <td>636</td>\n",
       "      <td>1.000000</td>\n",
       "      <td>0</td>\n",
       "      <td>NaN</td>\n",
       "      <td>975</td>\n",
       "      <td>1.0</td>\n",
       "      <td>133</td>\n",
       "      <td>1.0</td>\n",
       "      <td>1232</td>\n",
       "      <td>0.725649</td>\n",
       "      <td>1232</td>\n",
       "      <td>0.935065</td>\n",
       "      <td>1155</td>\n",
       "      <td>0.997403</td>\n",
       "      <td>1224</td>\n",
       "      <td>0.943627</td>\n",
       "      <td>1022</td>\n",
       "      <td>0.979452</td>\n",
       "    </tr>\n",
       "    <tr>\n",
       "      <th>10</th>\n",
       "      <td>1914</td>\n",
       "      <td>0.591432</td>\n",
       "      <td>1914</td>\n",
       "      <td>0.600836</td>\n",
       "      <td>1513</td>\n",
       "      <td>0.982816</td>\n",
       "      <td>1914</td>\n",
       "      <td>0.621735</td>\n",
       "      <td>1513</td>\n",
       "      <td>0.996034</td>\n",
       "      <td>1914</td>\n",
       "      <td>0.799373</td>\n",
       "      <td>1914</td>\n",
       "      <td>0.989028</td>\n",
       "      <td>1513</td>\n",
       "      <td>0.786517</td>\n",
       "      <td>1513</td>\n",
       "      <td>1.000000</td>\n",
       "      <td>1445</td>\n",
       "      <td>0.986851</td>\n",
       "      <td>882</td>\n",
       "      <td>0.997732</td>\n",
       "      <td>0</td>\n",
       "      <td>NaN</td>\n",
       "      <td>1473</td>\n",
       "      <td>1.0</td>\n",
       "      <td>1380</td>\n",
       "      <td>1.0</td>\n",
       "      <td>1914</td>\n",
       "      <td>0.600836</td>\n",
       "      <td>1914</td>\n",
       "      <td>0.966040</td>\n",
       "      <td>1852</td>\n",
       "      <td>0.998380</td>\n",
       "      <td>1903</td>\n",
       "      <td>0.973200</td>\n",
       "      <td>1513</td>\n",
       "      <td>0.982816</td>\n",
       "    </tr>\n",
       "  </tbody>\n",
       "</table>\n",
       "</div>"
      ],
      "text/plain": [
       "      pass_rate           result_doc           visual_authenticity_result_doc  \\\n",
       "          count      mean      count      mean                          count   \n",
       "month                                                                           \n",
       "7          1123  0.846839       1123  0.894034                           1027   \n",
       "8          1219  0.791632       1219  0.830189                           1057   \n",
       "9          1232  0.703734       1232  0.725649                           1022   \n",
       "10         1914  0.591432       1914  0.600836                           1513   \n",
       "\n",
       "                image_integrity_result           face_detection_result  \\\n",
       "           mean                  count      mean                 count   \n",
       "month                                                                    \n",
       "7      0.983447                   1123  0.914515                  1027   \n",
       "8      0.973510                   1219  0.857260                  1057   \n",
       "9      0.979452                   1232  0.748377                  1021   \n",
       "10     0.982816                   1914  0.621735                  1513   \n",
       "\n",
       "                image_quality_result           supported_document_result  \\\n",
       "           mean                count      mean                     count   \n",
       "month                                                                      \n",
       "7      1.000000                 1123  0.924310                      1123   \n",
       "8      0.993377                 1219  0.881050                      1219   \n",
       "9      0.991185                 1232  0.837662                      1232   \n",
       "10     0.996034                 1914  0.799373                      1914   \n",
       "\n",
       "                conclusive_document_quality_result            \\\n",
       "           mean                              count      mean   \n",
       "month                                                          \n",
       "7      0.989314                                  0       NaN   \n",
       "8      0.982773                                579  0.982729   \n",
       "9      0.990260                               1022  0.902153   \n",
       "10     0.989028                               1513  0.786517   \n",
       "\n",
       "      colour_picture_result           data_validation_result            \\\n",
       "                      count      mean                  count      mean   \n",
       "month                                                                    \n",
       "7                         0       NaN                    974  0.991786   \n",
       "8                       579  0.996546                   1005  0.991045   \n",
       "9                      1022  1.000000                    970  0.984536   \n",
       "10                     1513  1.000000                   1445  0.986851   \n",
       "\n",
       "      data_consistency_result           data_comparison_result       \\\n",
       "                        count      mean                  count mean   \n",
       "month                                                                 \n",
       "7                         613  0.998369                      0  NaN   \n",
       "8                         674  0.998516                      0  NaN   \n",
       "9                         636  1.000000                      0  NaN   \n",
       "10                        882  0.997732                      0  NaN   \n",
       "\n",
       "      police_record_result      compromised_document_result      sub_result  \\\n",
       "                     count mean                       count mean      count   \n",
       "month                                                                         \n",
       "7                      998  1.0                           0  NaN       1123   \n",
       "8                     1020  1.0                           0  NaN       1219   \n",
       "9                      975  1.0                         133  1.0       1232   \n",
       "10                    1473  1.0                        1380  1.0       1914   \n",
       "\n",
       "                result_face           face_comparison_result            \\\n",
       "           mean       count      mean                  count      mean   \n",
       "month                                                                    \n",
       "7      0.894034        1123  0.916296                   1037  0.992285   \n",
       "8      0.830189        1219  0.921247                   1124  0.999110   \n",
       "9      0.725649        1232  0.935065                   1155  0.997403   \n",
       "10     0.600836        1914  0.966040                   1852  0.998380   \n",
       "\n",
       "      facial_image_integrity_result           visual_authenticity_result_face  \\\n",
       "                              count      mean                           count   \n",
       "month                                                                           \n",
       "7                              1123  0.923419                            1027   \n",
       "8                              1219  0.922067                            1057   \n",
       "9                              1224  0.943627                            1022   \n",
       "10                             1903  0.973200                            1513   \n",
       "\n",
       "                 \n",
       "           mean  \n",
       "month            \n",
       "7      0.983447  \n",
       "8      0.973510  \n",
       "9      0.979452  \n",
       "10     0.982816  "
      ]
     },
     "execution_count": 102,
     "metadata": {},
     "output_type": "execute_result"
    }
   ],
   "source": [
    "df.groupby('month')[flags].agg(['count','mean']).query('month>6')"
   ]
  },
  {
   "cell_type": "markdown",
   "id": "e39f65c2-0dc3-4c68-ab41-e046be9c38f8",
   "metadata": {},
   "source": [
    "І, як ми бачимо, найкраща кореляція саме на попередніх двох метриках, і ми підтвердили нашу гіпотезу, знаходячи кореляцію."
   ]
  },
  {
   "cell_type": "code",
   "execution_count": 103,
   "id": "4659e3f3-643e-49b5-85b2-04f17c41ab8e",
   "metadata": {
    "tags": []
   },
   "outputs": [
    {
     "data": {
      "text/html": [
       "<div>\n",
       "<style scoped>\n",
       "    .dataframe tbody tr th:only-of-type {\n",
       "        vertical-align: middle;\n",
       "    }\n",
       "\n",
       "    .dataframe tbody tr th {\n",
       "        vertical-align: top;\n",
       "    }\n",
       "\n",
       "    .dataframe thead th {\n",
       "        text-align: right;\n",
       "    }\n",
       "</style>\n",
       "<table border=\"1\" class=\"dataframe\">\n",
       "  <thead>\n",
       "    <tr style=\"text-align: right;\">\n",
       "      <th></th>\n",
       "      <th></th>\n",
       "      <th>mean</th>\n",
       "    </tr>\n",
       "  </thead>\n",
       "  <tbody>\n",
       "    <tr>\n",
       "      <th>pass_rate</th>\n",
       "      <th>mean</th>\n",
       "      <td>1.000000</td>\n",
       "    </tr>\n",
       "    <tr>\n",
       "      <th>result_doc</th>\n",
       "      <th>mean</th>\n",
       "      <td>0.999883</td>\n",
       "    </tr>\n",
       "    <tr>\n",
       "      <th>visual_authenticity_result_doc</th>\n",
       "      <th>mean</th>\n",
       "      <td>-0.243417</td>\n",
       "    </tr>\n",
       "    <tr>\n",
       "      <th>image_integrity_result</th>\n",
       "      <th>mean</th>\n",
       "      <td>0.999677</td>\n",
       "    </tr>\n",
       "    <tr>\n",
       "      <th>face_detection_result</th>\n",
       "      <th>mean</th>\n",
       "      <td>0.346018</td>\n",
       "    </tr>\n",
       "    <tr>\n",
       "      <th>image_quality_result</th>\n",
       "      <th>mean</th>\n",
       "      <td>0.984733</td>\n",
       "    </tr>\n",
       "    <tr>\n",
       "      <th>supported_document_result</th>\n",
       "      <th>mean</th>\n",
       "      <td>-0.321827</td>\n",
       "    </tr>\n",
       "    <tr>\n",
       "      <th>conclusive_document_quality_result</th>\n",
       "      <th>mean</th>\n",
       "      <td>0.999471</td>\n",
       "    </tr>\n",
       "    <tr>\n",
       "      <th>colour_picture_result</th>\n",
       "      <th>mean</th>\n",
       "      <td>-0.828787</td>\n",
       "    </tr>\n",
       "    <tr>\n",
       "      <th>data_validation_result</th>\n",
       "      <th>mean</th>\n",
       "      <td>0.756341</td>\n",
       "    </tr>\n",
       "    <tr>\n",
       "      <th>data_consistency_result</th>\n",
       "      <th>mean</th>\n",
       "      <td>0.157426</td>\n",
       "    </tr>\n",
       "    <tr>\n",
       "      <th>data_comparison_result</th>\n",
       "      <th>mean</th>\n",
       "      <td>NaN</td>\n",
       "    </tr>\n",
       "    <tr>\n",
       "      <th>police_record_result</th>\n",
       "      <th>mean</th>\n",
       "      <td>NaN</td>\n",
       "    </tr>\n",
       "    <tr>\n",
       "      <th>compromised_document_result</th>\n",
       "      <th>mean</th>\n",
       "      <td>NaN</td>\n",
       "    </tr>\n",
       "    <tr>\n",
       "      <th>sub_result</th>\n",
       "      <th>mean</th>\n",
       "      <td>0.999883</td>\n",
       "    </tr>\n",
       "    <tr>\n",
       "      <th>result_face</th>\n",
       "      <th>mean</th>\n",
       "      <td>-0.979533</td>\n",
       "    </tr>\n",
       "    <tr>\n",
       "      <th>face_comparison_result</th>\n",
       "      <th>mean</th>\n",
       "      <td>-0.600351</td>\n",
       "    </tr>\n",
       "    <tr>\n",
       "      <th>facial_image_integrity_result</th>\n",
       "      <th>mean</th>\n",
       "      <td>-0.969826</td>\n",
       "    </tr>\n",
       "    <tr>\n",
       "      <th>visual_authenticity_result_face</th>\n",
       "      <th>mean</th>\n",
       "      <td>-0.243417</td>\n",
       "    </tr>\n",
       "  </tbody>\n",
       "</table>\n",
       "</div>"
      ],
      "text/plain": [
       "                                             mean\n",
       "pass_rate                          mean  1.000000\n",
       "result_doc                         mean  0.999883\n",
       "visual_authenticity_result_doc     mean -0.243417\n",
       "image_integrity_result             mean  0.999677\n",
       "face_detection_result              mean  0.346018\n",
       "image_quality_result               mean  0.984733\n",
       "supported_document_result          mean -0.321827\n",
       "conclusive_document_quality_result mean  0.999471\n",
       "colour_picture_result              mean -0.828787\n",
       "data_validation_result             mean  0.756341\n",
       "data_consistency_result            mean  0.157426\n",
       "data_comparison_result             mean       NaN\n",
       "police_record_result               mean       NaN\n",
       "compromised_document_result        mean       NaN\n",
       "sub_result                         mean  0.999883\n",
       "result_face                        mean -0.979533\n",
       "face_comparison_result             mean -0.600351\n",
       "facial_image_integrity_result      mean -0.969826\n",
       "visual_authenticity_result_face    mean -0.243417"
      ]
     },
     "execution_count": 103,
     "metadata": {},
     "output_type": "execute_result"
    }
   ],
   "source": [
    "df.groupby('month')[flags].agg(['mean']).query('month>6').corr().pass_rate"
   ]
  },
  {
   "cell_type": "markdown",
   "id": "4c658243-6499-43dd-9ba0-b46d9985bc52",
   "metadata": {},
   "source": [
    "Як і передбачалося раніше, основні проблеми виникають на стороні першої таблиці. Це говорить нам про те, що проблема не в самих користувачах – вони не підробляють документи і т. д. Замість цього, ймовірно, система не може належним чином визначити саме візуальну частину."
   ]
  },
  {
   "cell_type": "code",
   "execution_count": 105,
   "id": "1506bec9-8fb9-40dd-b52c-3b945c3e9410",
   "metadata": {},
   "outputs": [],
   "source": [
    "flags_face = ['result_face',\n",
    " 'face_comparison_result',\n",
    " 'facial_image_integrity_result',\n",
    " 'visual_authenticity_result_face']"
   ]
  },
  {
   "cell_type": "markdown",
   "id": "57ef33c4-2709-4dc8-962b-19344ad78988",
   "metadata": {},
   "source": [
    "Тут ще раз ми переконаємося, що показник \"pass_rate\" в метриках таблиці \"face\" нікуди не впав. На цьому \"полі бою\" все гаразд."
   ]
  },
  {
   "cell_type": "code",
   "execution_count": 106,
   "id": "ccc5024c-ffa6-41bc-aa20-413b60f9b1d3",
   "metadata": {},
   "outputs": [
    {
     "data": {
      "text/html": [
       "<div>\n",
       "<style scoped>\n",
       "    .dataframe tbody tr th:only-of-type {\n",
       "        vertical-align: middle;\n",
       "    }\n",
       "\n",
       "    .dataframe tbody tr th {\n",
       "        vertical-align: top;\n",
       "    }\n",
       "\n",
       "    .dataframe thead tr th {\n",
       "        text-align: left;\n",
       "    }\n",
       "\n",
       "    .dataframe thead tr:last-of-type th {\n",
       "        text-align: right;\n",
       "    }\n",
       "</style>\n",
       "<table border=\"1\" class=\"dataframe\">\n",
       "  <thead>\n",
       "    <tr>\n",
       "      <th></th>\n",
       "      <th colspan=\"2\" halign=\"left\">result_face</th>\n",
       "      <th colspan=\"2\" halign=\"left\">face_comparison_result</th>\n",
       "      <th colspan=\"2\" halign=\"left\">facial_image_integrity_result</th>\n",
       "      <th colspan=\"2\" halign=\"left\">visual_authenticity_result_face</th>\n",
       "    </tr>\n",
       "    <tr>\n",
       "      <th></th>\n",
       "      <th>count</th>\n",
       "      <th>mean</th>\n",
       "      <th>count</th>\n",
       "      <th>mean</th>\n",
       "      <th>count</th>\n",
       "      <th>mean</th>\n",
       "      <th>count</th>\n",
       "      <th>mean</th>\n",
       "    </tr>\n",
       "    <tr>\n",
       "      <th>month</th>\n",
       "      <th></th>\n",
       "      <th></th>\n",
       "      <th></th>\n",
       "      <th></th>\n",
       "      <th></th>\n",
       "      <th></th>\n",
       "      <th></th>\n",
       "      <th></th>\n",
       "    </tr>\n",
       "  </thead>\n",
       "  <tbody>\n",
       "    <tr>\n",
       "      <th>7</th>\n",
       "      <td>1123</td>\n",
       "      <td>0.916296</td>\n",
       "      <td>1037</td>\n",
       "      <td>0.992285</td>\n",
       "      <td>1123</td>\n",
       "      <td>0.923419</td>\n",
       "      <td>1027</td>\n",
       "      <td>0.983447</td>\n",
       "    </tr>\n",
       "    <tr>\n",
       "      <th>8</th>\n",
       "      <td>1219</td>\n",
       "      <td>0.921247</td>\n",
       "      <td>1124</td>\n",
       "      <td>0.999110</td>\n",
       "      <td>1219</td>\n",
       "      <td>0.922067</td>\n",
       "      <td>1057</td>\n",
       "      <td>0.973510</td>\n",
       "    </tr>\n",
       "    <tr>\n",
       "      <th>9</th>\n",
       "      <td>1232</td>\n",
       "      <td>0.935065</td>\n",
       "      <td>1155</td>\n",
       "      <td>0.997403</td>\n",
       "      <td>1224</td>\n",
       "      <td>0.943627</td>\n",
       "      <td>1022</td>\n",
       "      <td>0.979452</td>\n",
       "    </tr>\n",
       "    <tr>\n",
       "      <th>10</th>\n",
       "      <td>1914</td>\n",
       "      <td>0.966040</td>\n",
       "      <td>1852</td>\n",
       "      <td>0.998380</td>\n",
       "      <td>1903</td>\n",
       "      <td>0.973200</td>\n",
       "      <td>1513</td>\n",
       "      <td>0.982816</td>\n",
       "    </tr>\n",
       "  </tbody>\n",
       "</table>\n",
       "</div>"
      ],
      "text/plain": [
       "      result_face           face_comparison_result            \\\n",
       "            count      mean                  count      mean   \n",
       "month                                                          \n",
       "7            1123  0.916296                   1037  0.992285   \n",
       "8            1219  0.921247                   1124  0.999110   \n",
       "9            1232  0.935065                   1155  0.997403   \n",
       "10           1914  0.966040                   1852  0.998380   \n",
       "\n",
       "      facial_image_integrity_result           visual_authenticity_result_face  \\\n",
       "                              count      mean                           count   \n",
       "month                                                                           \n",
       "7                              1123  0.923419                            1027   \n",
       "8                              1219  0.922067                            1057   \n",
       "9                              1224  0.943627                            1022   \n",
       "10                             1903  0.973200                            1513   \n",
       "\n",
       "                 \n",
       "           mean  \n",
       "month            \n",
       "7      0.983447  \n",
       "8      0.973510  \n",
       "9      0.979452  \n",
       "10     0.982816  "
      ]
     },
     "execution_count": 106,
     "metadata": {},
     "output_type": "execute_result"
    }
   ],
   "source": [
    "df.groupby('month')[flags_face].agg(['count','mean']).query('month>6')"
   ]
  },
  {
   "cell_type": "markdown",
   "id": "a0a86fad-bbc7-4a41-b66e-e0b5caa983a9",
   "metadata": {
    "tags": []
   },
   "source": [
    "Тепер у нас є ще деякі дані, які зберігаються у словниках. За допомогою мови Python ми розберемо їх і подивимося на дані всередині цих словників."
   ]
  },
  {
   "cell_type": "code",
   "execution_count": 113,
   "id": "68810efe-f795-4040-9bca-890e20883ed3",
   "metadata": {},
   "outputs": [],
   "source": [
    "df = pd.concat([df,df['properties_doc'].apply(eval).apply(pd.Series)],axis=1)"
   ]
  },
  {
   "cell_type": "code",
   "execution_count": 115,
   "id": "846b2863-ff36-4bc8-839d-91e996b31d9a",
   "metadata": {},
   "outputs": [
    {
     "data": {
      "text/html": [
       "<div>\n",
       "<style scoped>\n",
       "    .dataframe tbody tr th:only-of-type {\n",
       "        vertical-align: middle;\n",
       "    }\n",
       "\n",
       "    .dataframe tbody tr th {\n",
       "        vertical-align: top;\n",
       "    }\n",
       "\n",
       "    .dataframe thead th {\n",
       "        text-align: right;\n",
       "    }\n",
       "</style>\n",
       "<table border=\"1\" class=\"dataframe\">\n",
       "  <thead>\n",
       "    <tr style=\"text-align: right;\">\n",
       "      <th></th>\n",
       "      <th>Unnamed: 0_doc</th>\n",
       "      <th>user_id</th>\n",
       "      <th>result_doc</th>\n",
       "      <th>visual_authenticity_result_doc</th>\n",
       "      <th>image_integrity_result</th>\n",
       "      <th>face_detection_result</th>\n",
       "      <th>image_quality_result</th>\n",
       "      <th>created_at_doc</th>\n",
       "      <th>supported_document_result</th>\n",
       "      <th>conclusive_document_quality_result</th>\n",
       "      <th>colour_picture_result</th>\n",
       "      <th>data_validation_result</th>\n",
       "      <th>data_consistency_result</th>\n",
       "      <th>data_comparison_result</th>\n",
       "      <th>attempt_id</th>\n",
       "      <th>police_record_result</th>\n",
       "      <th>compromised_document_result</th>\n",
       "      <th>properties_doc</th>\n",
       "      <th>sub_result</th>\n",
       "      <th>month</th>\n",
       "      <th>month_name</th>\n",
       "      <th>result_flag</th>\n",
       "      <th>Unnamed: 0_face</th>\n",
       "      <th>result_face</th>\n",
       "      <th>face_comparison_result</th>\n",
       "      <th>created_at_face</th>\n",
       "      <th>facial_image_integrity_result</th>\n",
       "      <th>visual_authenticity_result_face</th>\n",
       "      <th>properties_face</th>\n",
       "      <th>pass_rate</th>\n",
       "      <th>gender</th>\n",
       "      <th>document_type</th>\n",
       "      <th>date_of_expiry</th>\n",
       "      <th>issuing_country</th>\n",
       "      <th>nationality</th>\n",
       "      <th>issuing_date</th>\n",
       "      <th>issuing_state</th>\n",
       "      <th>document_version</th>\n",
       "    </tr>\n",
       "  </thead>\n",
       "  <tbody>\n",
       "    <tr>\n",
       "      <th>0</th>\n",
       "      <td>27241</td>\n",
       "      <td>8190909e566647a5b6afeee9b4ec6c6a</td>\n",
       "      <td>1</td>\n",
       "      <td>1.0</td>\n",
       "      <td>1</td>\n",
       "      <td>1.0</td>\n",
       "      <td>1</td>\n",
       "      <td>2017-05-25 08:38:56</td>\n",
       "      <td>1</td>\n",
       "      <td>NaN</td>\n",
       "      <td>NaN</td>\n",
       "      <td>1.0</td>\n",
       "      <td>NaN</td>\n",
       "      <td>1.0</td>\n",
       "      <td>30e11e95e30748f485a2271ca5e6abb8</td>\n",
       "      <td>1.0</td>\n",
       "      <td>NaN</td>\n",
       "      <td>{'gender': 'Female', 'document_type': 'driving...</td>\n",
       "      <td>1</td>\n",
       "      <td>5</td>\n",
       "      <td>May</td>\n",
       "      <td>0</td>\n",
       "      <td>27241</td>\n",
       "      <td>0</td>\n",
       "      <td>0.0</td>\n",
       "      <td>2017-05-25 08:38:56</td>\n",
       "      <td>1.0</td>\n",
       "      <td>1.0</td>\n",
       "      <td>{'score': 0.42}</td>\n",
       "      <td>0</td>\n",
       "      <td>Female</td>\n",
       "      <td>driving_licence</td>\n",
       "      <td>2023-12-05</td>\n",
       "      <td>GBR</td>\n",
       "      <td>NaN</td>\n",
       "      <td>NaN</td>\n",
       "      <td>NaN</td>\n",
       "      <td>NaN</td>\n",
       "    </tr>\n",
       "    <tr>\n",
       "      <th>1</th>\n",
       "      <td>28369</td>\n",
       "      <td>6b62136dfde348a99855e350294aaf5d</td>\n",
       "      <td>1</td>\n",
       "      <td>1.0</td>\n",
       "      <td>1</td>\n",
       "      <td>1.0</td>\n",
       "      <td>1</td>\n",
       "      <td>2017-05-31 08:12:51</td>\n",
       "      <td>1</td>\n",
       "      <td>NaN</td>\n",
       "      <td>NaN</td>\n",
       "      <td>1.0</td>\n",
       "      <td>NaN</td>\n",
       "      <td>1.0</td>\n",
       "      <td>4c0bfde8eb2249ed820e1f61d3ec3e33</td>\n",
       "      <td>1.0</td>\n",
       "      <td>NaN</td>\n",
       "      <td>{'gender': 'Male', 'document_type': 'driving_l...</td>\n",
       "      <td>1</td>\n",
       "      <td>5</td>\n",
       "      <td>May</td>\n",
       "      <td>0</td>\n",
       "      <td>28369</td>\n",
       "      <td>1</td>\n",
       "      <td>1.0</td>\n",
       "      <td>2017-05-31 08:12:51</td>\n",
       "      <td>1.0</td>\n",
       "      <td>1.0</td>\n",
       "      <td>{'score': 0.61}</td>\n",
       "      <td>1</td>\n",
       "      <td>Male</td>\n",
       "      <td>driving_licence</td>\n",
       "      <td>2020-05-13</td>\n",
       "      <td>GBR</td>\n",
       "      <td>NaN</td>\n",
       "      <td>NaN</td>\n",
       "      <td>NaN</td>\n",
       "      <td>NaN</td>\n",
       "    </tr>\n",
       "    <tr>\n",
       "      <th>2</th>\n",
       "      <td>27988</td>\n",
       "      <td>73679363dccc46fa9f34a4fefd0d76e3</td>\n",
       "      <td>1</td>\n",
       "      <td>1.0</td>\n",
       "      <td>1</td>\n",
       "      <td>1.0</td>\n",
       "      <td>1</td>\n",
       "      <td>2017-05-29 15:07:04</td>\n",
       "      <td>1</td>\n",
       "      <td>NaN</td>\n",
       "      <td>NaN</td>\n",
       "      <td>1.0</td>\n",
       "      <td>1.0</td>\n",
       "      <td>1.0</td>\n",
       "      <td>c5004fd1fc1d4e36a11433b70d960867</td>\n",
       "      <td>1.0</td>\n",
       "      <td>NaN</td>\n",
       "      <td>{'gender': 'Male', 'nationality': 'GBR', 'docu...</td>\n",
       "      <td>1</td>\n",
       "      <td>5</td>\n",
       "      <td>May</td>\n",
       "      <td>0</td>\n",
       "      <td>27988</td>\n",
       "      <td>0</td>\n",
       "      <td>NaN</td>\n",
       "      <td>2017-05-29 15:07:04</td>\n",
       "      <td>0.0</td>\n",
       "      <td>1.0</td>\n",
       "      <td>{}</td>\n",
       "      <td>0</td>\n",
       "      <td>Male</td>\n",
       "      <td>passport</td>\n",
       "      <td>2023-11-15</td>\n",
       "      <td>GBR</td>\n",
       "      <td>GBR</td>\n",
       "      <td>NaN</td>\n",
       "      <td>NaN</td>\n",
       "      <td>NaN</td>\n",
       "    </tr>\n",
       "    <tr>\n",
       "      <th>3</th>\n",
       "      <td>27529</td>\n",
       "      <td>07857065dfa64db386739ec4fff47856</td>\n",
       "      <td>0</td>\n",
       "      <td>1.0</td>\n",
       "      <td>1</td>\n",
       "      <td>1.0</td>\n",
       "      <td>1</td>\n",
       "      <td>2017-05-26 19:00:35</td>\n",
       "      <td>1</td>\n",
       "      <td>NaN</td>\n",
       "      <td>NaN</td>\n",
       "      <td>1.0</td>\n",
       "      <td>1.0</td>\n",
       "      <td>0.0</td>\n",
       "      <td>e4b26d4ddda545c9931a0a845cd65109</td>\n",
       "      <td>1.0</td>\n",
       "      <td>NaN</td>\n",
       "      <td>{'gender': 'Male', 'nationality': 'PER', 'docu...</td>\n",
       "      <td>0</td>\n",
       "      <td>5</td>\n",
       "      <td>May</td>\n",
       "      <td>0</td>\n",
       "      <td>27529</td>\n",
       "      <td>1</td>\n",
       "      <td>1.0</td>\n",
       "      <td>2017-05-26 19:00:35</td>\n",
       "      <td>1.0</td>\n",
       "      <td>1.0</td>\n",
       "      <td>{'score': 0.65}</td>\n",
       "      <td>0</td>\n",
       "      <td>Male</td>\n",
       "      <td>passport</td>\n",
       "      <td>2021-01-27</td>\n",
       "      <td>PER</td>\n",
       "      <td>PER</td>\n",
       "      <td>NaN</td>\n",
       "      <td>NaN</td>\n",
       "      <td>NaN</td>\n",
       "    </tr>\n",
       "    <tr>\n",
       "      <th>4</th>\n",
       "      <td>47987</td>\n",
       "      <td>9f887805b2af49069349ff107e0bca01</td>\n",
       "      <td>1</td>\n",
       "      <td>1.0</td>\n",
       "      <td>1</td>\n",
       "      <td>1.0</td>\n",
       "      <td>1</td>\n",
       "      <td>2017-05-29 14:38:21</td>\n",
       "      <td>1</td>\n",
       "      <td>NaN</td>\n",
       "      <td>NaN</td>\n",
       "      <td>1.0</td>\n",
       "      <td>1.0</td>\n",
       "      <td>1.0</td>\n",
       "      <td>8ead2b23ef664e4d85fae798a7d5d52c</td>\n",
       "      <td>1.0</td>\n",
       "      <td>NaN</td>\n",
       "      <td>{'gender': 'Male', 'issuing_date': '2011-03', ...</td>\n",
       "      <td>1</td>\n",
       "      <td>5</td>\n",
       "      <td>May</td>\n",
       "      <td>0</td>\n",
       "      <td>47987</td>\n",
       "      <td>1</td>\n",
       "      <td>1.0</td>\n",
       "      <td>2017-05-29 14:38:21</td>\n",
       "      <td>1.0</td>\n",
       "      <td>1.0</td>\n",
       "      <td>{'score': 0.59}</td>\n",
       "      <td>1</td>\n",
       "      <td>Male</td>\n",
       "      <td>national_identity_card</td>\n",
       "      <td>NaN</td>\n",
       "      <td>FRA</td>\n",
       "      <td>NaN</td>\n",
       "      <td>2011-03</td>\n",
       "      <td>NaN</td>\n",
       "      <td>NaN</td>\n",
       "    </tr>\n",
       "  </tbody>\n",
       "</table>\n",
       "</div>"
      ],
      "text/plain": [
       "   Unnamed: 0_doc                           user_id  result_doc  \\\n",
       "0           27241  8190909e566647a5b6afeee9b4ec6c6a           1   \n",
       "1           28369  6b62136dfde348a99855e350294aaf5d           1   \n",
       "2           27988  73679363dccc46fa9f34a4fefd0d76e3           1   \n",
       "3           27529  07857065dfa64db386739ec4fff47856           0   \n",
       "4           47987  9f887805b2af49069349ff107e0bca01           1   \n",
       "\n",
       "   visual_authenticity_result_doc  image_integrity_result  \\\n",
       "0                             1.0                       1   \n",
       "1                             1.0                       1   \n",
       "2                             1.0                       1   \n",
       "3                             1.0                       1   \n",
       "4                             1.0                       1   \n",
       "\n",
       "   face_detection_result  image_quality_result      created_at_doc  \\\n",
       "0                    1.0                     1 2017-05-25 08:38:56   \n",
       "1                    1.0                     1 2017-05-31 08:12:51   \n",
       "2                    1.0                     1 2017-05-29 15:07:04   \n",
       "3                    1.0                     1 2017-05-26 19:00:35   \n",
       "4                    1.0                     1 2017-05-29 14:38:21   \n",
       "\n",
       "   supported_document_result  conclusive_document_quality_result  \\\n",
       "0                          1                                 NaN   \n",
       "1                          1                                 NaN   \n",
       "2                          1                                 NaN   \n",
       "3                          1                                 NaN   \n",
       "4                          1                                 NaN   \n",
       "\n",
       "   colour_picture_result  data_validation_result  data_consistency_result  \\\n",
       "0                    NaN                     1.0                      NaN   \n",
       "1                    NaN                     1.0                      NaN   \n",
       "2                    NaN                     1.0                      1.0   \n",
       "3                    NaN                     1.0                      1.0   \n",
       "4                    NaN                     1.0                      1.0   \n",
       "\n",
       "   data_comparison_result                        attempt_id  \\\n",
       "0                     1.0  30e11e95e30748f485a2271ca5e6abb8   \n",
       "1                     1.0  4c0bfde8eb2249ed820e1f61d3ec3e33   \n",
       "2                     1.0  c5004fd1fc1d4e36a11433b70d960867   \n",
       "3                     0.0  e4b26d4ddda545c9931a0a845cd65109   \n",
       "4                     1.0  8ead2b23ef664e4d85fae798a7d5d52c   \n",
       "\n",
       "   police_record_result  compromised_document_result  \\\n",
       "0                   1.0                          NaN   \n",
       "1                   1.0                          NaN   \n",
       "2                   1.0                          NaN   \n",
       "3                   1.0                          NaN   \n",
       "4                   1.0                          NaN   \n",
       "\n",
       "                                      properties_doc  sub_result  month  \\\n",
       "0  {'gender': 'Female', 'document_type': 'driving...           1      5   \n",
       "1  {'gender': 'Male', 'document_type': 'driving_l...           1      5   \n",
       "2  {'gender': 'Male', 'nationality': 'GBR', 'docu...           1      5   \n",
       "3  {'gender': 'Male', 'nationality': 'PER', 'docu...           0      5   \n",
       "4  {'gender': 'Male', 'issuing_date': '2011-03', ...           1      5   \n",
       "\n",
       "  month_name  result_flag  Unnamed: 0_face  result_face  \\\n",
       "0        May            0            27241            0   \n",
       "1        May            0            28369            1   \n",
       "2        May            0            27988            0   \n",
       "3        May            0            27529            1   \n",
       "4        May            0            47987            1   \n",
       "\n",
       "   face_comparison_result      created_at_face  facial_image_integrity_result  \\\n",
       "0                     0.0  2017-05-25 08:38:56                            1.0   \n",
       "1                     1.0  2017-05-31 08:12:51                            1.0   \n",
       "2                     NaN  2017-05-29 15:07:04                            0.0   \n",
       "3                     1.0  2017-05-26 19:00:35                            1.0   \n",
       "4                     1.0  2017-05-29 14:38:21                            1.0   \n",
       "\n",
       "   visual_authenticity_result_face  properties_face  pass_rate  gender  \\\n",
       "0                              1.0  {'score': 0.42}          0  Female   \n",
       "1                              1.0  {'score': 0.61}          1    Male   \n",
       "2                              1.0               {}          0    Male   \n",
       "3                              1.0  {'score': 0.65}          0    Male   \n",
       "4                              1.0  {'score': 0.59}          1    Male   \n",
       "\n",
       "            document_type date_of_expiry issuing_country nationality  \\\n",
       "0         driving_licence     2023-12-05             GBR         NaN   \n",
       "1         driving_licence     2020-05-13             GBR         NaN   \n",
       "2                passport     2023-11-15             GBR         GBR   \n",
       "3                passport     2021-01-27             PER         PER   \n",
       "4  national_identity_card            NaN             FRA         NaN   \n",
       "\n",
       "  issuing_date issuing_state document_version  \n",
       "0          NaN           NaN              NaN  \n",
       "1          NaN           NaN              NaN  \n",
       "2          NaN           NaN              NaN  \n",
       "3          NaN           NaN              NaN  \n",
       "4      2011-03           NaN              NaN  "
      ]
     },
     "execution_count": 115,
     "metadata": {},
     "output_type": "execute_result"
    }
   ],
   "source": [
    "df.head()"
   ]
  },
  {
   "cell_type": "code",
   "execution_count": 116,
   "id": "8c541a4b-4746-4c1a-90d1-9cee8b2c9101",
   "metadata": {
    "tags": []
   },
   "outputs": [
    {
     "data": {
      "text/plain": [
       "Index(['Unnamed: 0_doc', 'user_id', 'result_doc',\n",
       "       'visual_authenticity_result_doc', 'image_integrity_result',\n",
       "       'face_detection_result', 'image_quality_result', 'created_at_doc',\n",
       "       'supported_document_result', 'conclusive_document_quality_result',\n",
       "       'colour_picture_result', 'data_validation_result',\n",
       "       'data_consistency_result', 'data_comparison_result', 'attempt_id',\n",
       "       'police_record_result', 'compromised_document_result', 'properties_doc',\n",
       "       'sub_result', 'month', 'month_name', 'result_flag', 'Unnamed: 0_face',\n",
       "       'result_face', 'face_comparison_result', 'created_at_face',\n",
       "       'facial_image_integrity_result', 'visual_authenticity_result_face',\n",
       "       'properties_face', 'pass_rate', 'gender', 'document_type',\n",
       "       'date_of_expiry', 'issuing_country', 'nationality', 'issuing_date',\n",
       "       'issuing_state', 'document_version'],\n",
       "      dtype='object')"
      ]
     },
     "execution_count": 116,
     "metadata": {},
     "output_type": "execute_result"
    }
   ],
   "source": [
    "df.columns"
   ]
  },
  {
   "cell_type": "code",
   "execution_count": 117,
   "id": "49189104-f2a3-4ef5-b3f7-81e8355ba1a0",
   "metadata": {
    "tags": []
   },
   "outputs": [],
   "source": [
    "flags_dict = ['gender', 'document_type',\n",
    "       'date_of_expiry', 'issuing_country', 'nationality', 'issuing_date',\n",
    "       'issuing_state', 'document_version']"
   ]
  },
  {
   "cell_type": "code",
   "execution_count": 127,
   "id": "6c555878-052c-4626-a78f-3e574513e868",
   "metadata": {
    "tags": []
   },
   "outputs": [
    {
     "data": {
      "text/plain": [
       "gender              0.320495\n",
       "document_type       0.149759\n",
       "date_of_expiry      0.266334\n",
       "issuing_country     0.149587\n",
       "nationality         0.559663\n",
       "issuing_date        0.709250\n",
       "issuing_state       0.994326\n",
       "document_version    0.999656\n",
       "dtype: float64"
      ]
     },
     "execution_count": 127,
     "metadata": {},
     "output_type": "execute_result"
    }
   ],
   "source": [
    "df[flags_dict].isna().mean()"
   ]
  },
  {
   "cell_type": "markdown",
   "id": "94e306d5-4322-4ffc-a65b-59fa0abd5581",
   "metadata": {
    "tags": []
   },
   "source": [
    "Ми можемо перевірити, чи це пов'язано з якими-небудь закономірностями, такими як паспорт, національність і т. д. Наприклад, можливо, в якомусь році якась країна вирішила змінити паспорт, і система тепер не може їх пропустити, що призводить до зниження загального рейтингу."
   ]
  },
  {
   "cell_type": "markdown",
   "id": "51606e19-8c93-43dc-8005-9c313d83201a",
   "metadata": {},
   "source": [
    "Як ми бачимо в даному прикладі, наш показник \"pass_rate\" особливо не падає, але можемо також додатково розглянути графік."
   ]
  },
  {
   "cell_type": "code",
   "execution_count": 147,
   "id": "5370143a-262f-4972-ae9b-ebbd327be3db",
   "metadata": {
    "tags": []
   },
   "outputs": [
    {
     "data": {
      "text/html": [
       "<div>\n",
       "<style scoped>\n",
       "    .dataframe tbody tr th:only-of-type {\n",
       "        vertical-align: middle;\n",
       "    }\n",
       "\n",
       "    .dataframe tbody tr th {\n",
       "        vertical-align: top;\n",
       "    }\n",
       "\n",
       "    .dataframe thead th {\n",
       "        text-align: right;\n",
       "    }\n",
       "</style>\n",
       "<table border=\"1\" class=\"dataframe\">\n",
       "  <thead>\n",
       "    <tr style=\"text-align: right;\">\n",
       "      <th></th>\n",
       "      <th>mean</th>\n",
       "    </tr>\n",
       "    <tr>\n",
       "      <th>document_type</th>\n",
       "      <th></th>\n",
       "    </tr>\n",
       "  </thead>\n",
       "  <tbody>\n",
       "    <tr>\n",
       "      <th>driving_licence</th>\n",
       "      <td>0.845238</td>\n",
       "    </tr>\n",
       "    <tr>\n",
       "      <th>national_identity_card</th>\n",
       "      <td>0.886857</td>\n",
       "    </tr>\n",
       "    <tr>\n",
       "      <th>passport</th>\n",
       "      <td>0.811839</td>\n",
       "    </tr>\n",
       "    <tr>\n",
       "      <th>residence_permit</th>\n",
       "      <td>0.885417</td>\n",
       "    </tr>\n",
       "  </tbody>\n",
       "</table>\n",
       "</div>"
      ],
      "text/plain": [
       "                            mean\n",
       "document_type                   \n",
       "driving_licence         0.845238\n",
       "national_identity_card  0.886857\n",
       "passport                0.811839\n",
       "residence_permit        0.885417"
      ]
     },
     "execution_count": 147,
     "metadata": {},
     "output_type": "execute_result"
    }
   ],
   "source": [
    "df.groupby('document_type')['pass_rate'].agg(['mean'])"
   ]
  },
  {
   "cell_type": "code",
   "execution_count": 181,
   "id": "1cfe93f6-c282-4fb0-9783-227c5b443292",
   "metadata": {
    "tags": []
   },
   "outputs": [
    {
     "data": {
      "text/html": [
       "<div>\n",
       "<style scoped>\n",
       "    .dataframe tbody tr th:only-of-type {\n",
       "        vertical-align: middle;\n",
       "    }\n",
       "\n",
       "    .dataframe tbody tr th {\n",
       "        vertical-align: top;\n",
       "    }\n",
       "\n",
       "    .dataframe thead tr th {\n",
       "        text-align: left;\n",
       "    }\n",
       "\n",
       "    .dataframe thead tr:last-of-type th {\n",
       "        text-align: right;\n",
       "    }\n",
       "</style>\n",
       "<table border=\"1\" class=\"dataframe\">\n",
       "  <thead>\n",
       "    <tr>\n",
       "      <th></th>\n",
       "      <th colspan=\"6\" halign=\"left\">mean</th>\n",
       "    </tr>\n",
       "    <tr>\n",
       "      <th>month</th>\n",
       "      <th>5</th>\n",
       "      <th>6</th>\n",
       "      <th>7</th>\n",
       "      <th>8</th>\n",
       "      <th>9</th>\n",
       "      <th>10</th>\n",
       "    </tr>\n",
       "    <tr>\n",
       "      <th>document_type</th>\n",
       "      <th></th>\n",
       "      <th></th>\n",
       "      <th></th>\n",
       "      <th></th>\n",
       "      <th></th>\n",
       "      <th></th>\n",
       "    </tr>\n",
       "  </thead>\n",
       "  <tbody>\n",
       "    <tr>\n",
       "      <th>driving_licence</th>\n",
       "      <td>0.857143</td>\n",
       "      <td>0.884211</td>\n",
       "      <td>0.917808</td>\n",
       "      <td>0.898773</td>\n",
       "      <td>0.850932</td>\n",
       "      <td>0.754991</td>\n",
       "    </tr>\n",
       "    <tr>\n",
       "      <th>national_identity_card</th>\n",
       "      <td>0.777778</td>\n",
       "      <td>0.919540</td>\n",
       "      <td>0.938596</td>\n",
       "      <td>0.934247</td>\n",
       "      <td>0.868895</td>\n",
       "      <td>0.834244</td>\n",
       "    </tr>\n",
       "    <tr>\n",
       "      <th>passport</th>\n",
       "      <td>0.842105</td>\n",
       "      <td>0.954023</td>\n",
       "      <td>0.921053</td>\n",
       "      <td>0.899408</td>\n",
       "      <td>0.811594</td>\n",
       "      <td>0.620253</td>\n",
       "    </tr>\n",
       "    <tr>\n",
       "      <th>residence_permit</th>\n",
       "      <td>NaN</td>\n",
       "      <td>NaN</td>\n",
       "      <td>0.937500</td>\n",
       "      <td>0.964286</td>\n",
       "      <td>0.882353</td>\n",
       "      <td>0.722222</td>\n",
       "    </tr>\n",
       "  </tbody>\n",
       "</table>\n",
       "</div>"
      ],
      "text/plain": [
       "                            mean                                          \\\n",
       "month                         5         6         7         8         9    \n",
       "document_type                                                              \n",
       "driving_licence         0.857143  0.884211  0.917808  0.898773  0.850932   \n",
       "national_identity_card  0.777778  0.919540  0.938596  0.934247  0.868895   \n",
       "passport                0.842105  0.954023  0.921053  0.899408  0.811594   \n",
       "residence_permit             NaN       NaN  0.937500  0.964286  0.882353   \n",
       "\n",
       "                                  \n",
       "month                         10  \n",
       "document_type                     \n",
       "driving_licence         0.754991  \n",
       "national_identity_card  0.834244  \n",
       "passport                0.620253  \n",
       "residence_permit        0.722222  "
      ]
     },
     "execution_count": 181,
     "metadata": {},
     "output_type": "execute_result"
    }
   ],
   "source": [
    "df.pivot_table(index='document_type',columns='month',values='pass_rate',aggfunc=['mean'])"
   ]
  },
  {
   "cell_type": "markdown",
   "id": "c97096ed-1d38-4738-b710-0038d16e46bf",
   "metadata": {},
   "source": [
    "За моїми переконаннями, найбільше \"провалився\" паспорт. Загалом, всі документи йдуть на спад, але найбільше просів паспорт."
   ]
  },
  {
   "cell_type": "code",
   "execution_count": 192,
   "id": "77797f05-5f13-494d-9806-c95916633145",
   "metadata": {
    "tags": []
   },
   "outputs": [
    {
     "data": {
      "text/plain": [
       "<Axes: xlabel='None,month'>"
      ]
     },
     "execution_count": 192,
     "metadata": {},
     "output_type": "execute_result"
    },
    {
     "data": {
      "image/png": "[encoded data removed]",
      "text/plain": [
       "<Figure size 640x480 with 1 Axes>"
      ]
     },
     "metadata": {},
     "output_type": "display_data"
    }
   ],
   "source": [
    "\n",
    "df.pivot_table(index='document_type',columns='month',values='pass_rate',aggfunc=['mean']).T.plot(rot=45,ylim=0.5)"
   ]
  },
  {
   "cell_type": "markdown",
   "id": "977b6ef4-49b5-4cb3-b521-038269407993",
   "metadata": {},
   "source": [
    "Ми можемо розглянути і за гендером, чи є можливість, що, наприклад, система краще або гірше пропускає чоловіків. Як ми бачимо, ситуація є рівноважною як для чоловіків, так і для жінок."
   ]
  },
  {
   "cell_type": "code",
   "execution_count": 196,
   "id": "20650860-203f-4e20-92cb-9412a3060e5e",
   "metadata": {
    "tags": []
   },
   "outputs": [
    {
     "data": {
      "text/html": [
       "<div>\n",
       "<style scoped>\n",
       "    .dataframe tbody tr th:only-of-type {\n",
       "        vertical-align: middle;\n",
       "    }\n",
       "\n",
       "    .dataframe tbody tr th {\n",
       "        vertical-align: top;\n",
       "    }\n",
       "\n",
       "    .dataframe thead tr th {\n",
       "        text-align: left;\n",
       "    }\n",
       "\n",
       "    .dataframe thead tr:last-of-type th {\n",
       "        text-align: right;\n",
       "    }\n",
       "</style>\n",
       "<table border=\"1\" class=\"dataframe\">\n",
       "  <thead>\n",
       "    <tr>\n",
       "      <th></th>\n",
       "      <th colspan=\"6\" halign=\"left\">mean</th>\n",
       "    </tr>\n",
       "    <tr>\n",
       "      <th>month</th>\n",
       "      <th>5</th>\n",
       "      <th>6</th>\n",
       "      <th>7</th>\n",
       "      <th>8</th>\n",
       "      <th>9</th>\n",
       "      <th>10</th>\n",
       "    </tr>\n",
       "    <tr>\n",
       "      <th>gender</th>\n",
       "      <th></th>\n",
       "      <th></th>\n",
       "      <th></th>\n",
       "      <th></th>\n",
       "      <th></th>\n",
       "      <th></th>\n",
       "    </tr>\n",
       "  </thead>\n",
       "  <tbody>\n",
       "    <tr>\n",
       "      <th>Female</th>\n",
       "      <td>0.800000</td>\n",
       "      <td>0.925000</td>\n",
       "      <td>0.929630</td>\n",
       "      <td>0.934932</td>\n",
       "      <td>0.852349</td>\n",
       "      <td>0.731765</td>\n",
       "    </tr>\n",
       "    <tr>\n",
       "      <th>Male</th>\n",
       "      <td>0.862069</td>\n",
       "      <td>0.945205</td>\n",
       "      <td>0.935714</td>\n",
       "      <td>0.907666</td>\n",
       "      <td>0.828846</td>\n",
       "      <td>0.715447</td>\n",
       "    </tr>\n",
       "  </tbody>\n",
       "</table>\n",
       "</div>"
      ],
      "text/plain": [
       "            mean                                                  \n",
       "month         5         6         7         8         9         10\n",
       "gender                                                            \n",
       "Female  0.800000  0.925000  0.929630  0.934932  0.852349  0.731765\n",
       "Male    0.862069  0.945205  0.935714  0.907666  0.828846  0.715447"
      ]
     },
     "execution_count": 196,
     "metadata": {},
     "output_type": "execute_result"
    }
   ],
   "source": [
    "df.pivot_table(index='gender',columns='month',values='pass_rate',aggfunc=['mean'])"
   ]
  },
  {
   "cell_type": "code",
   "execution_count": 201,
   "id": "efc953cb-e0e0-49fe-be77-b0679c11b89b",
   "metadata": {
    "tags": []
   },
   "outputs": [
    {
     "data": {
      "text/plain": [
       "<Axes: xlabel='None,month'>"
      ]
     },
     "execution_count": 201,
     "metadata": {},
     "output_type": "execute_result"
    },
    {
     "data": {
      "image/png": "[encoded data removed]",
      "text/plain": [
       "<Figure size 640x480 with 1 Axes>"
      ]
     },
     "metadata": {},
     "output_type": "display_data"
    }
   ],
   "source": [
    "df.pivot_table(index='gender',columns='month',values='pass_rate',aggfunc=['mean']).T.plot(rot=45)"
   ]
  },
  {
   "cell_type": "markdown",
   "id": "559f9655-f9bf-4288-a4ae-83b181a14bd5",
   "metadata": {},
   "source": [
    "В цілому я б хотів висловити наступне: основна проблема знаходиться на технічному рівні.\n",
    "Зокрема, ми помітили суттєвий спад у двох метриках - \"image_integrity_result\" та \"conclusive_document_quality_result\". \n",
    "Обидві вони прийшли із таблиці, де проводиться перевірка документів. \n",
    "Ймовірно, можна зробити висновок, що тут немає підозр до фальшивих документів, але просто ці дві системи працюють не дуже ефективно.\n",
    "Це, ймовірно, призвело до суттєвого зменшення нашого показника \n",
    "\"pass_rate\". Все це, кажучи іронічно, можна було б умістити в дві рядки висновків після вивченого достатньо обширного аналізу."
   ]
  },
  {
   "cell_type": "code",
   "execution_count": null,
   "id": "7c614ae9-cdc7-4ddb-beb4-501c67fd27be",
   "metadata": {},
   "outputs": [],
   "source": []
  },
  {
   "cell_type": "code",
   "execution_count": null,
   "id": "e0d1e2d7-5a70-4a03-a80c-c5583ce2e185",
   "metadata": {},
   "outputs": [],
   "source": []
  }
 ],
 "metadata": {
  "kernelspec": {
   "display_name": "Python 3 (ipykernel)",
   "language": "python",
   "name": "python3"
  },
  "language_info": {
   "codemirror_mode": {
    "name": "ipython",
    "version": 3
   },
   "file_extension": ".py",
   "mimetype": "text/x-python",
   "name": "python",
   "nbconvert_exporter": "python",
   "pygments_lexer": "ipython3",
   "version": "3.11.5"
  }
 },
 "nbformat": 4,
 "nbformat_minor": 5
}
